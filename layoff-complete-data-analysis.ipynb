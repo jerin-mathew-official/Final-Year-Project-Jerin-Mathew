{
 "cells": [
  {
   "cell_type": "code",
   "execution_count": 1,
   "id": "a129bb49",
   "metadata": {
    "_cell_guid": "b1076dfc-b9ad-4769-8c92-a6c4dae69d19",
    "_uuid": "8f2839f25d086af736a60e9eeb907d3b93b6e0e5",
    "execution": {
     "iopub.execute_input": "2022-12-14T02:29:17.578384Z",
     "iopub.status.busy": "2022-12-14T02:29:17.577416Z",
     "iopub.status.idle": "2022-12-14T02:29:17.602607Z",
     "shell.execute_reply": "2022-12-14T02:29:17.601470Z"
    },
    "papermill": {
     "duration": 0.050515,
     "end_time": "2022-12-14T02:29:17.605479",
     "exception": false,
     "start_time": "2022-12-14T02:29:17.554964",
     "status": "completed"
    },
    "tags": []
   },
   "outputs": [],
   "source": [
    "import numpy as np # linear algebra\n",
    "import pandas as pd # data processing, CSV file I/O (e.g. pd.read_csv)"
   ]
  },
  {
   "cell_type": "code",
   "execution_count": 2,
   "id": "061d2733",
   "metadata": {
    "execution": {
     "iopub.execute_input": "2022-12-14T02:29:17.644757Z",
     "iopub.status.busy": "2022-12-14T02:29:17.643731Z",
     "iopub.status.idle": "2022-12-14T02:29:18.666110Z",
     "shell.execute_reply": "2022-12-14T02:29:18.664895Z"
    },
    "papermill": {
     "duration": 1.044614,
     "end_time": "2022-12-14T02:29:18.669134",
     "exception": false,
     "start_time": "2022-12-14T02:29:17.624520",
     "status": "completed"
    },
    "tags": []
   },
   "outputs": [],
   "source": [
    "import matplotlib.pyplot as plt\n",
    "import seaborn as sns\n",
    "%matplotlib inline"
   ]
  },
  {
   "cell_type": "markdown",
   "id": "c19055b2",
   "metadata": {
    "papermill": {
     "duration": 0.01818,
     "end_time": "2022-12-14T02:29:18.705591",
     "exception": false,
     "start_time": "2022-12-14T02:29:18.687411",
     "status": "completed"
    },
    "tags": []
   },
   "source": [
    "## Data Wrangling"
   ]
  },
  {
   "cell_type": "code",
   "execution_count": 3,
   "id": "33a54d24",
   "metadata": {
    "execution": {
     "iopub.execute_input": "2022-12-14T02:29:18.744464Z",
     "iopub.status.busy": "2022-12-14T02:29:18.743675Z",
     "iopub.status.idle": "2022-12-14T02:29:18.801971Z",
     "shell.execute_reply": "2022-12-14T02:29:18.800783Z"
    },
    "papermill": {
     "duration": 0.080584,
     "end_time": "2022-12-14T02:29:18.804426",
     "exception": false,
     "start_time": "2022-12-14T02:29:18.723842",
     "status": "completed"
    },
    "tags": []
   },
   "outputs": [
    {
     "data": {
      "text/html": [
       "<div>\n",
       "<style scoped>\n",
       "    .dataframe tbody tr th:only-of-type {\n",
       "        vertical-align: middle;\n",
       "    }\n",
       "\n",
       "    .dataframe tbody tr th {\n",
       "        vertical-align: top;\n",
       "    }\n",
       "\n",
       "    .dataframe thead th {\n",
       "        text-align: right;\n",
       "    }\n",
       "</style>\n",
       "<table border=\"1\" class=\"dataframe\">\n",
       "  <thead>\n",
       "    <tr style=\"text-align: right;\">\n",
       "      <th></th>\n",
       "      <th>Company</th>\n",
       "      <th>Location</th>\n",
       "      <th>Industry</th>\n",
       "      <th>Laid_Off_Count</th>\n",
       "      <th>Percentage</th>\n",
       "      <th>Date</th>\n",
       "      <th>Source</th>\n",
       "      <th>Funds_Raised</th>\n",
       "      <th>Stage</th>\n",
       "      <th>Date_Added</th>\n",
       "      <th>Country</th>\n",
       "      <th>List_of_Employees_Laid_Off</th>\n",
       "    </tr>\n",
       "  </thead>\n",
       "  <tbody>\n",
       "    <tr>\n",
       "      <th>0</th>\n",
       "      <td>Zoomo</td>\n",
       "      <td>Sydney</td>\n",
       "      <td>Transportation</td>\n",
       "      <td>27.0</td>\n",
       "      <td>0.08</td>\n",
       "      <td>02-05-2023</td>\n",
       "      <td>https://www.businessnewsaustralia.com/articles...</td>\n",
       "      <td>105.0</td>\n",
       "      <td>Series B</td>\n",
       "      <td>02-05-2023 16.26</td>\n",
       "      <td>Australia</td>\n",
       "      <td>Unknown</td>\n",
       "    </tr>\n",
       "    <tr>\n",
       "      <th>1</th>\n",
       "      <td>Lev</td>\n",
       "      <td>New York City</td>\n",
       "      <td>Real Estate</td>\n",
       "      <td>34.0</td>\n",
       "      <td>NaN</td>\n",
       "      <td>01-05-2023</td>\n",
       "      <td>https://therealdeal.com/new-york/2023/05/01/cr...</td>\n",
       "      <td>114.0</td>\n",
       "      <td>Series B</td>\n",
       "      <td>01-05-2023 23.51</td>\n",
       "      <td>United States</td>\n",
       "      <td>Unknown</td>\n",
       "    </tr>\n",
       "    <tr>\n",
       "      <th>2</th>\n",
       "      <td>PharmEasy</td>\n",
       "      <td>Mumbai</td>\n",
       "      <td>Healthcare</td>\n",
       "      <td>NaN</td>\n",
       "      <td>NaN</td>\n",
       "      <td>01-05-2023</td>\n",
       "      <td>https://www.dealstreetasia.com/stories/pharmea...</td>\n",
       "      <td>1600.0</td>\n",
       "      <td>Unknown</td>\n",
       "      <td>02-05-2023 16.23</td>\n",
       "      <td>India</td>\n",
       "      <td>Unknown</td>\n",
       "    </tr>\n",
       "    <tr>\n",
       "      <th>3</th>\n",
       "      <td>Cogito</td>\n",
       "      <td>New Delhi</td>\n",
       "      <td>Data</td>\n",
       "      <td>177.0</td>\n",
       "      <td>NaN</td>\n",
       "      <td>29-04-2023</td>\n",
       "      <td>https://inc42.com/buzz/protests-erupt-data-sta...</td>\n",
       "      <td>NaN</td>\n",
       "      <td>Unknown</td>\n",
       "      <td>01-05-2023 14.36</td>\n",
       "      <td>India</td>\n",
       "      <td>Unknown</td>\n",
       "    </tr>\n",
       "    <tr>\n",
       "      <th>4</th>\n",
       "      <td>Cue Health</td>\n",
       "      <td>San Diego</td>\n",
       "      <td>Healthcare</td>\n",
       "      <td>326.0</td>\n",
       "      <td>0.30</td>\n",
       "      <td>28-04-2023</td>\n",
       "      <td>https://www.sec.gov/Archives/edgar/data/162894...</td>\n",
       "      <td>899.0</td>\n",
       "      <td>Post-IPO</td>\n",
       "      <td>01-05-2023 23.57</td>\n",
       "      <td>United States</td>\n",
       "      <td>https://docs.google.com/spreadsheets/d/1P5d2Cr...</td>\n",
       "    </tr>\n",
       "  </tbody>\n",
       "</table>\n",
       "</div>"
      ],
      "text/plain": [
       "      Company       Location        Industry  Laid_Off_Count  Percentage  \\\n",
       "0       Zoomo         Sydney  Transportation            27.0        0.08   \n",
       "1         Lev  New York City     Real Estate            34.0         NaN   \n",
       "2   PharmEasy         Mumbai      Healthcare             NaN         NaN   \n",
       "3      Cogito      New Delhi            Data           177.0         NaN   \n",
       "4  Cue Health      San Diego      Healthcare           326.0        0.30   \n",
       "\n",
       "         Date                                             Source  \\\n",
       "0  02-05-2023  https://www.businessnewsaustralia.com/articles...   \n",
       "1  01-05-2023  https://therealdeal.com/new-york/2023/05/01/cr...   \n",
       "2  01-05-2023  https://www.dealstreetasia.com/stories/pharmea...   \n",
       "3  29-04-2023  https://inc42.com/buzz/protests-erupt-data-sta...   \n",
       "4  28-04-2023  https://www.sec.gov/Archives/edgar/data/162894...   \n",
       "\n",
       "   Funds_Raised     Stage        Date_Added        Country  \\\n",
       "0         105.0  Series B  02-05-2023 16.26      Australia   \n",
       "1         114.0  Series B  01-05-2023 23.51  United States   \n",
       "2        1600.0   Unknown  02-05-2023 16.23          India   \n",
       "3           NaN   Unknown  01-05-2023 14.36          India   \n",
       "4         899.0  Post-IPO  01-05-2023 23.57  United States   \n",
       "\n",
       "                          List_of_Employees_Laid_Off  \n",
       "0                                            Unknown  \n",
       "1                                            Unknown  \n",
       "2                                            Unknown  \n",
       "3                                            Unknown  \n",
       "4  https://docs.google.com/spreadsheets/d/1P5d2Cr...  "
      ]
     },
     "execution_count": 3,
     "metadata": {},
     "output_type": "execute_result"
    }
   ],
   "source": [
    "df = pd.read_csv('C:/ClassesMSC/DataSets/layoffs_data.csv')\n",
    "df.head()"
   ]
  },
  {
   "cell_type": "code",
   "execution_count": 4,
   "id": "10eb5f4a",
   "metadata": {
    "execution": {
     "iopub.execute_input": "2022-12-14T02:29:18.843939Z",
     "iopub.status.busy": "2022-12-14T02:29:18.842878Z",
     "iopub.status.idle": "2022-12-14T02:29:18.850331Z",
     "shell.execute_reply": "2022-12-14T02:29:18.849400Z"
    },
    "papermill": {
     "duration": 0.02959,
     "end_time": "2022-12-14T02:29:18.852577",
     "exception": false,
     "start_time": "2022-12-14T02:29:18.822987",
     "status": "completed"
    },
    "tags": []
   },
   "outputs": [
    {
     "data": {
      "text/plain": [
       "(2553, 12)"
      ]
     },
     "execution_count": 4,
     "metadata": {},
     "output_type": "execute_result"
    }
   ],
   "source": [
    "df.shape"
   ]
  },
  {
   "cell_type": "code",
   "execution_count": 5,
   "id": "55616afc",
   "metadata": {
    "execution": {
     "iopub.execute_input": "2022-12-14T02:29:18.892049Z",
     "iopub.status.busy": "2022-12-14T02:29:18.891292Z",
     "iopub.status.idle": "2022-12-14T02:29:18.898340Z",
     "shell.execute_reply": "2022-12-14T02:29:18.897459Z"
    },
    "papermill": {
     "duration": 0.029222,
     "end_time": "2022-12-14T02:29:18.900486",
     "exception": false,
     "start_time": "2022-12-14T02:29:18.871264",
     "status": "completed"
    },
    "tags": []
   },
   "outputs": [
    {
     "data": {
      "text/plain": [
       "Index(['Company', 'Location', 'Industry', 'Laid_Off_Count', 'Percentage',\n",
       "       'Date', 'Source', 'Funds_Raised', 'Stage', 'Date_Added', 'Country',\n",
       "       'List_of_Employees_Laid_Off'],\n",
       "      dtype='object')"
      ]
     },
     "execution_count": 5,
     "metadata": {},
     "output_type": "execute_result"
    }
   ],
   "source": [
    "df.columns"
   ]
  },
  {
   "cell_type": "code",
   "execution_count": 6,
   "id": "e300f935",
   "metadata": {
    "execution": {
     "iopub.execute_input": "2022-12-14T02:29:18.940026Z",
     "iopub.status.busy": "2022-12-14T02:29:18.939239Z",
     "iopub.status.idle": "2022-12-14T02:29:18.964376Z",
     "shell.execute_reply": "2022-12-14T02:29:18.962641Z"
    },
    "papermill": {
     "duration": 0.047627,
     "end_time": "2022-12-14T02:29:18.966775",
     "exception": false,
     "start_time": "2022-12-14T02:29:18.919148",
     "status": "completed"
    },
    "tags": []
   },
   "outputs": [
    {
     "name": "stdout",
     "output_type": "stream",
     "text": [
      "<class 'pandas.core.frame.DataFrame'>\n",
      "RangeIndex: 2553 entries, 0 to 2552\n",
      "Data columns (total 12 columns):\n",
      " #   Column                      Non-Null Count  Dtype  \n",
      "---  ------                      --------------  -----  \n",
      " 0   Company                     2553 non-null   object \n",
      " 1   Location                    2553 non-null   object \n",
      " 2   Industry                    2553 non-null   object \n",
      " 3   Laid_Off_Count              1752 non-null   float64\n",
      " 4   Percentage                  1699 non-null   float64\n",
      " 5   Date                        2551 non-null   object \n",
      " 6   Source                      2553 non-null   object \n",
      " 7   Funds_Raised                2302 non-null   float64\n",
      " 8   Stage                       2553 non-null   object \n",
      " 9   Date_Added                  2553 non-null   object \n",
      " 10  Country                     2553 non-null   object \n",
      " 11  List_of_Employees_Laid_Off  2552 non-null   object \n",
      "dtypes: float64(3), object(9)\n",
      "memory usage: 239.5+ KB\n"
     ]
    }
   ],
   "source": [
    "df.info()"
   ]
  },
  {
   "cell_type": "code",
   "execution_count": 7,
   "id": "b0801273",
   "metadata": {
    "execution": {
     "iopub.execute_input": "2022-12-14T02:29:19.006616Z",
     "iopub.status.busy": "2022-12-14T02:29:19.005818Z",
     "iopub.status.idle": "2022-12-14T02:29:19.014144Z",
     "shell.execute_reply": "2022-12-14T02:29:19.013197Z"
    },
    "papermill": {
     "duration": 0.030884,
     "end_time": "2022-12-14T02:29:19.016431",
     "exception": false,
     "start_time": "2022-12-14T02:29:18.985547",
     "status": "completed"
    },
    "tags": []
   },
   "outputs": [
    {
     "data": {
      "text/plain": [
       "Company                        object\n",
       "Location                       object\n",
       "Industry                       object\n",
       "Laid_Off_Count                float64\n",
       "Percentage                    float64\n",
       "Date                           object\n",
       "Source                         object\n",
       "Funds_Raised                  float64\n",
       "Stage                          object\n",
       "Date_Added                     object\n",
       "Country                        object\n",
       "List_of_Employees_Laid_Off     object\n",
       "dtype: object"
      ]
     },
     "execution_count": 7,
     "metadata": {},
     "output_type": "execute_result"
    }
   ],
   "source": [
    "df.dtypes"
   ]
  },
  {
   "cell_type": "code",
   "execution_count": 8,
   "id": "2e30fd75",
   "metadata": {
    "execution": {
     "iopub.execute_input": "2022-12-14T02:29:19.056837Z",
     "iopub.status.busy": "2022-12-14T02:29:19.055993Z",
     "iopub.status.idle": "2022-12-14T02:29:19.084262Z",
     "shell.execute_reply": "2022-12-14T02:29:19.082791Z"
    },
    "papermill": {
     "duration": 0.052938,
     "end_time": "2022-12-14T02:29:19.088251",
     "exception": false,
     "start_time": "2022-12-14T02:29:19.035313",
     "status": "completed"
    },
    "tags": []
   },
   "outputs": [
    {
     "data": {
      "text/html": [
       "<div>\n",
       "<style scoped>\n",
       "    .dataframe tbody tr th:only-of-type {\n",
       "        vertical-align: middle;\n",
       "    }\n",
       "\n",
       "    .dataframe tbody tr th {\n",
       "        vertical-align: top;\n",
       "    }\n",
       "\n",
       "    .dataframe thead th {\n",
       "        text-align: right;\n",
       "    }\n",
       "</style>\n",
       "<table border=\"1\" class=\"dataframe\">\n",
       "  <thead>\n",
       "    <tr style=\"text-align: right;\">\n",
       "      <th></th>\n",
       "      <th>Laid_Off_Count</th>\n",
       "      <th>Percentage</th>\n",
       "      <th>Funds_Raised</th>\n",
       "    </tr>\n",
       "  </thead>\n",
       "  <tbody>\n",
       "    <tr>\n",
       "      <th>count</th>\n",
       "      <td>1752.000000</td>\n",
       "      <td>1699.000000</td>\n",
       "      <td>2302.000000</td>\n",
       "    </tr>\n",
       "    <tr>\n",
       "      <th>mean</th>\n",
       "      <td>255.687215</td>\n",
       "      <td>0.261199</td>\n",
       "      <td>813.626975</td>\n",
       "    </tr>\n",
       "    <tr>\n",
       "      <th>std</th>\n",
       "      <td>840.166366</td>\n",
       "      <td>0.259197</td>\n",
       "      <td>5442.263467</td>\n",
       "    </tr>\n",
       "    <tr>\n",
       "      <th>min</th>\n",
       "      <td>3.000000</td>\n",
       "      <td>0.000000</td>\n",
       "      <td>0.000000</td>\n",
       "    </tr>\n",
       "    <tr>\n",
       "      <th>25%</th>\n",
       "      <td>38.000000</td>\n",
       "      <td>0.100000</td>\n",
       "      <td>50.000000</td>\n",
       "    </tr>\n",
       "    <tr>\n",
       "      <th>50%</th>\n",
       "      <td>80.000000</td>\n",
       "      <td>0.170000</td>\n",
       "      <td>156.000000</td>\n",
       "    </tr>\n",
       "    <tr>\n",
       "      <th>75%</th>\n",
       "      <td>180.000000</td>\n",
       "      <td>0.300000</td>\n",
       "      <td>442.000000</td>\n",
       "    </tr>\n",
       "    <tr>\n",
       "      <th>max</th>\n",
       "      <td>12000.000000</td>\n",
       "      <td>1.000000</td>\n",
       "      <td>121900.000000</td>\n",
       "    </tr>\n",
       "  </tbody>\n",
       "</table>\n",
       "</div>"
      ],
      "text/plain": [
       "       Laid_Off_Count   Percentage   Funds_Raised\n",
       "count     1752.000000  1699.000000    2302.000000\n",
       "mean       255.687215     0.261199     813.626975\n",
       "std        840.166366     0.259197    5442.263467\n",
       "min          3.000000     0.000000       0.000000\n",
       "25%         38.000000     0.100000      50.000000\n",
       "50%         80.000000     0.170000     156.000000\n",
       "75%        180.000000     0.300000     442.000000\n",
       "max      12000.000000     1.000000  121900.000000"
      ]
     },
     "execution_count": 8,
     "metadata": {},
     "output_type": "execute_result"
    }
   ],
   "source": [
    "df.describe()"
   ]
  },
  {
   "cell_type": "code",
   "execution_count": 9,
   "id": "70b3f2df",
   "metadata": {
    "execution": {
     "iopub.execute_input": "2022-12-14T02:29:19.137328Z",
     "iopub.status.busy": "2022-12-14T02:29:19.136602Z",
     "iopub.status.idle": "2022-12-14T02:29:19.147969Z",
     "shell.execute_reply": "2022-12-14T02:29:19.147095Z"
    },
    "papermill": {
     "duration": 0.037662,
     "end_time": "2022-12-14T02:29:19.150323",
     "exception": false,
     "start_time": "2022-12-14T02:29:19.112661",
     "status": "completed"
    },
    "tags": []
   },
   "outputs": [
    {
     "data": {
      "text/plain": [
       "Company                         0\n",
       "Location                        0\n",
       "Industry                        0\n",
       "Laid_Off_Count                801\n",
       "Percentage                    854\n",
       "Date                            2\n",
       "Source                          0\n",
       "Funds_Raised                  251\n",
       "Stage                           0\n",
       "Date_Added                      0\n",
       "Country                         0\n",
       "List_of_Employees_Laid_Off      1\n",
       "dtype: int64"
      ]
     },
     "execution_count": 9,
     "metadata": {},
     "output_type": "execute_result"
    }
   ],
   "source": [
    "df.isnull().sum()"
   ]
  },
  {
   "cell_type": "code",
   "execution_count": 10,
   "id": "0bcf2520",
   "metadata": {
    "execution": {
     "iopub.execute_input": "2022-12-14T02:29:19.191971Z",
     "iopub.status.busy": "2022-12-14T02:29:19.190844Z",
     "iopub.status.idle": "2022-12-14T02:29:19.197980Z",
     "shell.execute_reply": "2022-12-14T02:29:19.197186Z"
    },
    "papermill": {
     "duration": 0.029791,
     "end_time": "2022-12-14T02:29:19.200174",
     "exception": false,
     "start_time": "2022-12-14T02:29:19.170383",
     "status": "completed"
    },
    "tags": []
   },
   "outputs": [
    {
     "data": {
      "text/plain": [
       "array(['Transportation', 'Real Estate', 'Healthcare', 'Data', 'Finance',\n",
       "       'Food', 'Other', 'Recruiting', 'HR', 'Infrastructure', 'Retail',\n",
       "       'Consumer', 'Education', 'Construction', 'Media', 'Hardware',\n",
       "       'Security', 'Crypto', 'Travel', 'Sales', 'Marketing',\n",
       "       'Manufacturing', 'Fitness', 'Support', 'Unknown', 'Logistics',\n",
       "       'Product', 'Legal', 'Energy', 'Aerospace'], dtype=object)"
      ]
     },
     "execution_count": 10,
     "metadata": {},
     "output_type": "execute_result"
    }
   ],
   "source": [
    "df.Industry.unique()"
   ]
  },
  {
   "cell_type": "code",
   "execution_count": 11,
   "id": "c26cf69b",
   "metadata": {
    "execution": {
     "iopub.execute_input": "2022-12-14T02:29:19.243084Z",
     "iopub.status.busy": "2022-12-14T02:29:19.241914Z",
     "iopub.status.idle": "2022-12-14T02:29:19.249407Z",
     "shell.execute_reply": "2022-12-14T02:29:19.248446Z"
    },
    "papermill": {
     "duration": 0.031381,
     "end_time": "2022-12-14T02:29:19.251586",
     "exception": false,
     "start_time": "2022-12-14T02:29:19.220205",
     "status": "completed"
    },
    "tags": []
   },
   "outputs": [
    {
     "data": {
      "text/plain": [
       "2024"
      ]
     },
     "execution_count": 11,
     "metadata": {},
     "output_type": "execute_result"
    }
   ],
   "source": [
    "df.Company.nunique()"
   ]
  },
  {
   "cell_type": "code",
   "execution_count": 12,
   "id": "e828affc",
   "metadata": {
    "execution": {
     "iopub.execute_input": "2022-12-14T02:29:19.293422Z",
     "iopub.status.busy": "2022-12-14T02:29:19.292981Z",
     "iopub.status.idle": "2022-12-14T02:29:19.300293Z",
     "shell.execute_reply": "2022-12-14T02:29:19.299155Z"
    },
    "papermill": {
     "duration": 0.030918,
     "end_time": "2022-12-14T02:29:19.302624",
     "exception": false,
     "start_time": "2022-12-14T02:29:19.271706",
     "status": "completed"
    },
    "tags": []
   },
   "outputs": [
    {
     "data": {
      "text/plain": [
       "array(['Series B', 'Unknown', 'Post-IPO', 'Series E', 'Private Equity',\n",
       "       'Acquired', 'Series C', 'Seed', 'Series A', 'Series D', 'Series F',\n",
       "       'Series H', 'Subsidiary', 'Series G', 'Series J', 'Series I'],\n",
       "      dtype=object)"
      ]
     },
     "execution_count": 12,
     "metadata": {},
     "output_type": "execute_result"
    }
   ],
   "source": [
    "df.Stage.unique()"
   ]
  },
  {
   "cell_type": "code",
   "execution_count": 13,
   "id": "088d2bd4",
   "metadata": {
    "execution": {
     "iopub.execute_input": "2022-12-14T02:29:19.344411Z",
     "iopub.status.busy": "2022-12-14T02:29:19.343958Z",
     "iopub.status.idle": "2022-12-14T02:29:19.351176Z",
     "shell.execute_reply": "2022-12-14T02:29:19.349984Z"
    },
    "papermill": {
     "duration": 0.031391,
     "end_time": "2022-12-14T02:29:19.353465",
     "exception": false,
     "start_time": "2022-12-14T02:29:19.322074",
     "status": "completed"
    },
    "tags": []
   },
   "outputs": [
    {
     "data": {
      "text/plain": [
       "array(['Australia', 'United States', 'India', 'Singapore', 'Canada',\n",
       "       'Germany', 'Saudi Arabia', 'Poland', 'France', 'Philippines',\n",
       "       'Israel', 'United Kingdom', 'Nigeria', 'Chile', 'New Zealand',\n",
       "       'Spain', 'China', 'Sweden', 'Austria', 'Ukraine', 'Switzerland',\n",
       "       'Ireland', 'Indonesia', 'Japan', 'Brazil', 'South Korea', 'Italy',\n",
       "       'Estonia', 'Finland', 'Netherlands', 'Portugal', 'Colombia',\n",
       "       'Argentina', 'Seychelles', 'Mexico', 'Egypt', 'Kenya',\n",
       "       'Luxembourg', 'Greece', 'Norway', 'Belgium', 'Denmark',\n",
       "       'Hong Kong', 'Malaysia', 'Hungary', 'Vietnam', 'Thailand',\n",
       "       'Lithuania', 'Ghana', 'Senegal', 'Pakistan',\n",
       "       'United Arab Emirates', 'Peru', 'Bahrain', 'Romania', 'Turkey',\n",
       "       'Russia', 'Uruguay', 'Bulgaria', 'South Africa', 'Czech Republic',\n",
       "       'Myanmar'], dtype=object)"
      ]
     },
     "execution_count": 13,
     "metadata": {},
     "output_type": "execute_result"
    }
   ],
   "source": [
    "df.Country.unique()"
   ]
  },
  {
   "cell_type": "code",
   "execution_count": 14,
   "id": "990a4182",
   "metadata": {
    "execution": {
     "iopub.execute_input": "2022-12-14T02:29:19.401313Z",
     "iopub.status.busy": "2022-12-14T02:29:19.400617Z",
     "iopub.status.idle": "2022-12-14T02:29:19.413289Z",
     "shell.execute_reply": "2022-12-14T02:29:19.412401Z"
    },
    "papermill": {
     "duration": 0.039524,
     "end_time": "2022-12-14T02:29:19.415815",
     "exception": false,
     "start_time": "2022-12-14T02:29:19.376291",
     "status": "completed"
    },
    "tags": []
   },
   "outputs": [
    {
     "data": {
      "text/plain": [
       "0"
      ]
     },
     "execution_count": 14,
     "metadata": {},
     "output_type": "execute_result"
    }
   ],
   "source": [
    "df.duplicated().sum()"
   ]
  },
  {
   "cell_type": "code",
   "execution_count": 15,
   "id": "420862b0",
   "metadata": {
    "execution": {
     "iopub.execute_input": "2022-12-14T02:29:19.468593Z",
     "iopub.status.busy": "2022-12-14T02:29:19.468053Z",
     "iopub.status.idle": "2022-12-14T02:29:19.499573Z",
     "shell.execute_reply": "2022-12-14T02:29:19.498321Z"
    },
    "papermill": {
     "duration": 0.060465,
     "end_time": "2022-12-14T02:29:19.502241",
     "exception": false,
     "start_time": "2022-12-14T02:29:19.441776",
     "status": "completed"
    },
    "tags": []
   },
   "outputs": [
    {
     "data": {
      "text/html": [
       "<div>\n",
       "<style scoped>\n",
       "    .dataframe tbody tr th:only-of-type {\n",
       "        vertical-align: middle;\n",
       "    }\n",
       "\n",
       "    .dataframe tbody tr th {\n",
       "        vertical-align: top;\n",
       "    }\n",
       "\n",
       "    .dataframe thead th {\n",
       "        text-align: right;\n",
       "    }\n",
       "</style>\n",
       "<table border=\"1\" class=\"dataframe\">\n",
       "  <thead>\n",
       "    <tr style=\"text-align: right;\">\n",
       "      <th></th>\n",
       "      <th>Company</th>\n",
       "      <th>Location</th>\n",
       "      <th>Industry</th>\n",
       "      <th>Laid_Off_Count</th>\n",
       "      <th>Percentage</th>\n",
       "      <th>Date</th>\n",
       "      <th>Source</th>\n",
       "      <th>Funds_Raised</th>\n",
       "      <th>Stage</th>\n",
       "      <th>Date_Added</th>\n",
       "      <th>Country</th>\n",
       "      <th>List_of_Employees_Laid_Off</th>\n",
       "    </tr>\n",
       "  </thead>\n",
       "  <tbody>\n",
       "    <tr>\n",
       "      <th>6</th>\n",
       "      <td>Providoor</td>\n",
       "      <td>Melbourne</td>\n",
       "      <td>Food</td>\n",
       "      <td>NaN</td>\n",
       "      <td>1.0</td>\n",
       "      <td>28-04-2023</td>\n",
       "      <td>https://www.afr.com/technology/celebrity-chef-...</td>\n",
       "      <td>NaN</td>\n",
       "      <td>Unknown</td>\n",
       "      <td>29-04-2023 3.11</td>\n",
       "      <td>Australia</td>\n",
       "      <td>Unknown</td>\n",
       "    </tr>\n",
       "    <tr>\n",
       "      <th>21</th>\n",
       "      <td>RenoRun</td>\n",
       "      <td>Montreal</td>\n",
       "      <td>Construction</td>\n",
       "      <td>NaN</td>\n",
       "      <td>1.0</td>\n",
       "      <td>26-04-2023</td>\n",
       "      <td>https://betakit.com/renorun-shuts-down-operati...</td>\n",
       "      <td>163.0</td>\n",
       "      <td>Series B</td>\n",
       "      <td>02-05-2023 18.08</td>\n",
       "      <td>Canada</td>\n",
       "      <td>Unknown</td>\n",
       "    </tr>\n",
       "    <tr>\n",
       "      <th>40</th>\n",
       "      <td>CoLab</td>\n",
       "      <td>Sydney</td>\n",
       "      <td>Food</td>\n",
       "      <td>NaN</td>\n",
       "      <td>1.0</td>\n",
       "      <td>18-04-2023</td>\n",
       "      <td>https://7news.com.au/lifestyle/food/australian...</td>\n",
       "      <td>3.0</td>\n",
       "      <td>Seed</td>\n",
       "      <td>20-04-2023 15.57</td>\n",
       "      <td>Australia</td>\n",
       "      <td>Unknown</td>\n",
       "    </tr>\n",
       "    <tr>\n",
       "      <th>46</th>\n",
       "      <td>Quadream</td>\n",
       "      <td>Tel Aviv</td>\n",
       "      <td>Security</td>\n",
       "      <td>NaN</td>\n",
       "      <td>1.0</td>\n",
       "      <td>16-04-2023</td>\n",
       "      <td>https://www.calcalistech.com/ctechnews/article...</td>\n",
       "      <td>NaN</td>\n",
       "      <td>Unknown</td>\n",
       "      <td>17-04-2023 0.59</td>\n",
       "      <td>Israel</td>\n",
       "      <td>Unknown</td>\n",
       "    </tr>\n",
       "    <tr>\n",
       "      <th>52</th>\n",
       "      <td>Bluepad</td>\n",
       "      <td>Bengaluru</td>\n",
       "      <td>Media</td>\n",
       "      <td>NaN</td>\n",
       "      <td>1.0</td>\n",
       "      <td>13-04-2023</td>\n",
       "      <td>https://inc42.com/buzz/vernacular-content-plat...</td>\n",
       "      <td>NaN</td>\n",
       "      <td>Seed</td>\n",
       "      <td>14-04-2023 3.07</td>\n",
       "      <td>India</td>\n",
       "      <td>Unknown</td>\n",
       "    </tr>\n",
       "    <tr>\n",
       "      <th>...</th>\n",
       "      <td>...</td>\n",
       "      <td>...</td>\n",
       "      <td>...</td>\n",
       "      <td>...</td>\n",
       "      <td>...</td>\n",
       "      <td>...</td>\n",
       "      <td>...</td>\n",
       "      <td>...</td>\n",
       "      <td>...</td>\n",
       "      <td>...</td>\n",
       "      <td>...</td>\n",
       "      <td>...</td>\n",
       "    </tr>\n",
       "    <tr>\n",
       "      <th>2534</th>\n",
       "      <td>Service</td>\n",
       "      <td>Los Angeles</td>\n",
       "      <td>Travel</td>\n",
       "      <td>NaN</td>\n",
       "      <td>1.0</td>\n",
       "      <td>20-03-2020</td>\n",
       "      <td>https://techcrunch.com/2020/03/16/travel-savin...</td>\n",
       "      <td>5.0</td>\n",
       "      <td>Seed</td>\n",
       "      <td>01-04-2020 21.17</td>\n",
       "      <td>United States</td>\n",
       "      <td>Unknown</td>\n",
       "    </tr>\n",
       "    <tr>\n",
       "      <th>2537</th>\n",
       "      <td>Ejento</td>\n",
       "      <td>SF Bay Area</td>\n",
       "      <td>Recruiting</td>\n",
       "      <td>84.0</td>\n",
       "      <td>1.0</td>\n",
       "      <td>19-03-2020</td>\n",
       "      <td>https://layoffs.fyi/list/ejento/</td>\n",
       "      <td>NaN</td>\n",
       "      <td>Unknown</td>\n",
       "      <td>28-03-2020 20.52</td>\n",
       "      <td>United States</td>\n",
       "      <td>Unknown</td>\n",
       "    </tr>\n",
       "    <tr>\n",
       "      <th>2541</th>\n",
       "      <td>Popin</td>\n",
       "      <td>New York City</td>\n",
       "      <td>Fitness</td>\n",
       "      <td>NaN</td>\n",
       "      <td>1.0</td>\n",
       "      <td>19-03-2020</td>\n",
       "      <td>https://www.businessinsider.com/fitness-app-po...</td>\n",
       "      <td>13.0</td>\n",
       "      <td>Unknown</td>\n",
       "      <td>06-04-2020 23.47</td>\n",
       "      <td>United States</td>\n",
       "      <td>Unknown</td>\n",
       "    </tr>\n",
       "    <tr>\n",
       "      <th>2545</th>\n",
       "      <td>Help.com</td>\n",
       "      <td>Austin</td>\n",
       "      <td>Support</td>\n",
       "      <td>16.0</td>\n",
       "      <td>1.0</td>\n",
       "      <td>16-03-2020</td>\n",
       "      <td>LinkedIn</td>\n",
       "      <td>6.0</td>\n",
       "      <td>Seed</td>\n",
       "      <td>16-04-2020 6.36</td>\n",
       "      <td>United States</td>\n",
       "      <td>Unknown</td>\n",
       "    </tr>\n",
       "    <tr>\n",
       "      <th>2546</th>\n",
       "      <td>Service</td>\n",
       "      <td>Los Angeles</td>\n",
       "      <td>Travel</td>\n",
       "      <td>NaN</td>\n",
       "      <td>1.0</td>\n",
       "      <td>16-03-2020</td>\n",
       "      <td>https://techcrunch.com/2020/03/16/travel-savin...</td>\n",
       "      <td>5.1</td>\n",
       "      <td>Seed</td>\n",
       "      <td>31-08-2020 15.17</td>\n",
       "      <td>United States</td>\n",
       "      <td>Unknown</td>\n",
       "    </tr>\n",
       "  </tbody>\n",
       "</table>\n",
       "<p>130 rows × 12 columns</p>\n",
       "</div>"
      ],
      "text/plain": [
       "        Company       Location      Industry  Laid_Off_Count  Percentage  \\\n",
       "6     Providoor      Melbourne          Food             NaN         1.0   \n",
       "21      RenoRun       Montreal  Construction             NaN         1.0   \n",
       "40        CoLab         Sydney          Food             NaN         1.0   \n",
       "46     Quadream       Tel Aviv      Security             NaN         1.0   \n",
       "52      Bluepad      Bengaluru         Media             NaN         1.0   \n",
       "...         ...            ...           ...             ...         ...   \n",
       "2534    Service    Los Angeles        Travel             NaN         1.0   \n",
       "2537     Ejento    SF Bay Area    Recruiting            84.0         1.0   \n",
       "2541      Popin  New York City       Fitness             NaN         1.0   \n",
       "2545   Help.com         Austin       Support            16.0         1.0   \n",
       "2546    Service    Los Angeles        Travel             NaN         1.0   \n",
       "\n",
       "            Date                                             Source  \\\n",
       "6     28-04-2023  https://www.afr.com/technology/celebrity-chef-...   \n",
       "21    26-04-2023  https://betakit.com/renorun-shuts-down-operati...   \n",
       "40    18-04-2023  https://7news.com.au/lifestyle/food/australian...   \n",
       "46    16-04-2023  https://www.calcalistech.com/ctechnews/article...   \n",
       "52    13-04-2023  https://inc42.com/buzz/vernacular-content-plat...   \n",
       "...          ...                                                ...   \n",
       "2534  20-03-2020  https://techcrunch.com/2020/03/16/travel-savin...   \n",
       "2537  19-03-2020                   https://layoffs.fyi/list/ejento/   \n",
       "2541  19-03-2020  https://www.businessinsider.com/fitness-app-po...   \n",
       "2545  16-03-2020                                           LinkedIn   \n",
       "2546  16-03-2020  https://techcrunch.com/2020/03/16/travel-savin...   \n",
       "\n",
       "      Funds_Raised     Stage        Date_Added        Country  \\\n",
       "6              NaN   Unknown   29-04-2023 3.11      Australia   \n",
       "21           163.0  Series B  02-05-2023 18.08         Canada   \n",
       "40             3.0      Seed  20-04-2023 15.57      Australia   \n",
       "46             NaN   Unknown   17-04-2023 0.59         Israel   \n",
       "52             NaN      Seed   14-04-2023 3.07          India   \n",
       "...            ...       ...               ...            ...   \n",
       "2534           5.0      Seed  01-04-2020 21.17  United States   \n",
       "2537           NaN   Unknown  28-03-2020 20.52  United States   \n",
       "2541          13.0   Unknown  06-04-2020 23.47  United States   \n",
       "2545           6.0      Seed   16-04-2020 6.36  United States   \n",
       "2546           5.1      Seed  31-08-2020 15.17  United States   \n",
       "\n",
       "     List_of_Employees_Laid_Off  \n",
       "6                       Unknown  \n",
       "21                      Unknown  \n",
       "40                      Unknown  \n",
       "46                      Unknown  \n",
       "52                      Unknown  \n",
       "...                         ...  \n",
       "2534                    Unknown  \n",
       "2537                    Unknown  \n",
       "2541                    Unknown  \n",
       "2545                    Unknown  \n",
       "2546                    Unknown  \n",
       "\n",
       "[130 rows x 12 columns]"
      ]
     },
     "execution_count": 15,
     "metadata": {},
     "output_type": "execute_result"
    }
   ],
   "source": [
    "df.query('Percentage == 1.00')"
   ]
  },
  {
   "cell_type": "markdown",
   "id": "38394365",
   "metadata": {
    "papermill": {
     "duration": 0.02013,
     "end_time": "2022-12-14T02:29:19.543007",
     "exception": false,
     "start_time": "2022-12-14T02:29:19.522877",
     "status": "completed"
    },
    "tags": []
   },
   "source": [
    "### Issues\n",
    "1. Drop Unwanted Columns\n",
    "2. Change Columns Names to Small Letters\n",
    "3. Change Date column data type to datetime\n",
    "4. Extract (year-month-day) From Date Column to Create New Columns\n",
    "5. Filling Missing values with zeros\n",
    "6. Change Laid_Off_Count column data type to integer"
   ]
  },
  {
   "cell_type": "markdown",
   "id": "0e2085f6",
   "metadata": {
    "papermill": {
     "duration": 0.020039,
     "end_time": "2022-12-14T02:29:19.583358",
     "exception": false,
     "start_time": "2022-12-14T02:29:19.563319",
     "status": "completed"
    },
    "tags": []
   },
   "source": [
    "****"
   ]
  },
  {
   "cell_type": "markdown",
   "id": "a980ed91",
   "metadata": {
    "papermill": {
     "duration": 0.020202,
     "end_time": "2022-12-14T02:29:19.624662",
     "exception": false,
     "start_time": "2022-12-14T02:29:19.604460",
     "status": "completed"
    },
    "tags": []
   },
   "source": [
    "## Cleaning Data"
   ]
  },
  {
   "cell_type": "code",
   "execution_count": 16,
   "id": "5ba9194e",
   "metadata": {
    "execution": {
     "iopub.execute_input": "2022-12-14T02:29:19.667106Z",
     "iopub.status.busy": "2022-12-14T02:29:19.666702Z",
     "iopub.status.idle": "2022-12-14T02:29:19.686321Z",
     "shell.execute_reply": "2022-12-14T02:29:19.685065Z"
    },
    "papermill": {
     "duration": 0.043785,
     "end_time": "2022-12-14T02:29:19.688644",
     "exception": false,
     "start_time": "2022-12-14T02:29:19.644859",
     "status": "completed"
    },
    "tags": []
   },
   "outputs": [
    {
     "data": {
      "text/html": [
       "<div>\n",
       "<style scoped>\n",
       "    .dataframe tbody tr th:only-of-type {\n",
       "        vertical-align: middle;\n",
       "    }\n",
       "\n",
       "    .dataframe tbody tr th {\n",
       "        vertical-align: top;\n",
       "    }\n",
       "\n",
       "    .dataframe thead th {\n",
       "        text-align: right;\n",
       "    }\n",
       "</style>\n",
       "<table border=\"1\" class=\"dataframe\">\n",
       "  <thead>\n",
       "    <tr style=\"text-align: right;\">\n",
       "      <th></th>\n",
       "      <th>company</th>\n",
       "      <th>location</th>\n",
       "      <th>industry</th>\n",
       "      <th>laid_off_count</th>\n",
       "      <th>percentage</th>\n",
       "      <th>date</th>\n",
       "      <th>funds_raised</th>\n",
       "      <th>stage</th>\n",
       "      <th>country</th>\n",
       "    </tr>\n",
       "  </thead>\n",
       "  <tbody>\n",
       "    <tr>\n",
       "      <th>0</th>\n",
       "      <td>Zoomo</td>\n",
       "      <td>Sydney</td>\n",
       "      <td>Transportation</td>\n",
       "      <td>27.0</td>\n",
       "      <td>0.08</td>\n",
       "      <td>02-05-2023</td>\n",
       "      <td>105.0</td>\n",
       "      <td>Series B</td>\n",
       "      <td>Australia</td>\n",
       "    </tr>\n",
       "    <tr>\n",
       "      <th>1</th>\n",
       "      <td>Lev</td>\n",
       "      <td>New York City</td>\n",
       "      <td>Real Estate</td>\n",
       "      <td>34.0</td>\n",
       "      <td>NaN</td>\n",
       "      <td>01-05-2023</td>\n",
       "      <td>114.0</td>\n",
       "      <td>Series B</td>\n",
       "      <td>United States</td>\n",
       "    </tr>\n",
       "    <tr>\n",
       "      <th>2</th>\n",
       "      <td>PharmEasy</td>\n",
       "      <td>Mumbai</td>\n",
       "      <td>Healthcare</td>\n",
       "      <td>NaN</td>\n",
       "      <td>NaN</td>\n",
       "      <td>01-05-2023</td>\n",
       "      <td>1600.0</td>\n",
       "      <td>Unknown</td>\n",
       "      <td>India</td>\n",
       "    </tr>\n",
       "    <tr>\n",
       "      <th>3</th>\n",
       "      <td>Cogito</td>\n",
       "      <td>New Delhi</td>\n",
       "      <td>Data</td>\n",
       "      <td>177.0</td>\n",
       "      <td>NaN</td>\n",
       "      <td>29-04-2023</td>\n",
       "      <td>NaN</td>\n",
       "      <td>Unknown</td>\n",
       "      <td>India</td>\n",
       "    </tr>\n",
       "    <tr>\n",
       "      <th>4</th>\n",
       "      <td>Cue Health</td>\n",
       "      <td>San Diego</td>\n",
       "      <td>Healthcare</td>\n",
       "      <td>326.0</td>\n",
       "      <td>0.30</td>\n",
       "      <td>28-04-2023</td>\n",
       "      <td>899.0</td>\n",
       "      <td>Post-IPO</td>\n",
       "      <td>United States</td>\n",
       "    </tr>\n",
       "  </tbody>\n",
       "</table>\n",
       "</div>"
      ],
      "text/plain": [
       "      company       location        industry  laid_off_count  percentage  \\\n",
       "0       Zoomo         Sydney  Transportation            27.0        0.08   \n",
       "1         Lev  New York City     Real Estate            34.0         NaN   \n",
       "2   PharmEasy         Mumbai      Healthcare             NaN         NaN   \n",
       "3      Cogito      New Delhi            Data           177.0         NaN   \n",
       "4  Cue Health      San Diego      Healthcare           326.0        0.30   \n",
       "\n",
       "         date  funds_raised     stage        country  \n",
       "0  02-05-2023         105.0  Series B      Australia  \n",
       "1  01-05-2023         114.0  Series B  United States  \n",
       "2  01-05-2023        1600.0   Unknown          India  \n",
       "3  29-04-2023           NaN   Unknown          India  \n",
       "4  28-04-2023         899.0  Post-IPO  United States  "
      ]
     },
     "execution_count": 16,
     "metadata": {},
     "output_type": "execute_result"
    }
   ],
   "source": [
    "#i used function to first drop unwanted columns\n",
    "#second to make columns labels lower case \n",
    "\n",
    "def new_columns():\n",
    "    df.drop(['List_of_Employees_Laid_Off','Source','Date_Added'], axis=1, inplace=True)\n",
    "    df.rename(columns=lambda x: x.strip().lower(),inplace=True)\n",
    "    return new_columns\n",
    "new_columns()\n",
    "df.head()"
   ]
  },
  {
   "cell_type": "code",
   "execution_count": 17,
   "id": "22751e26",
   "metadata": {
    "execution": {
     "iopub.execute_input": "2022-12-14T02:29:19.735385Z",
     "iopub.status.busy": "2022-12-14T02:29:19.734962Z",
     "iopub.status.idle": "2022-12-14T02:29:19.753861Z",
     "shell.execute_reply": "2022-12-14T02:29:19.752960Z"
    },
    "papermill": {
     "duration": 0.045377,
     "end_time": "2022-12-14T02:29:19.756188",
     "exception": false,
     "start_time": "2022-12-14T02:29:19.710811",
     "status": "completed"
    },
    "tags": []
   },
   "outputs": [
    {
     "name": "stderr",
     "output_type": "stream",
     "text": [
      "C:\\Users\\JERIN\\anaconda3\\lib\\site-packages\\pandas\\core\\tools\\datetimes.py:1047: UserWarning: Parsing '29-04-2023' in DD/MM/YYYY format. Provide format or specify infer_datetime_format=True for consistent parsing.\n",
      "  cache_array = _maybe_cache(arg, format, cache, convert_listlike)\n",
      "C:\\Users\\JERIN\\anaconda3\\lib\\site-packages\\pandas\\core\\tools\\datetimes.py:1047: UserWarning: Parsing '28-04-2023' in DD/MM/YYYY format. Provide format or specify infer_datetime_format=True for consistent parsing.\n",
      "  cache_array = _maybe_cache(arg, format, cache, convert_listlike)\n",
      "C:\\Users\\JERIN\\anaconda3\\lib\\site-packages\\pandas\\core\\tools\\datetimes.py:1047: UserWarning: Parsing '27-04-2023' in DD/MM/YYYY format. Provide format or specify infer_datetime_format=True for consistent parsing.\n",
      "  cache_array = _maybe_cache(arg, format, cache, convert_listlike)\n",
      "C:\\Users\\JERIN\\anaconda3\\lib\\site-packages\\pandas\\core\\tools\\datetimes.py:1047: UserWarning: Parsing '26-04-2023' in DD/MM/YYYY format. Provide format or specify infer_datetime_format=True for consistent parsing.\n",
      "  cache_array = _maybe_cache(arg, format, cache, convert_listlike)\n",
      "C:\\Users\\JERIN\\anaconda3\\lib\\site-packages\\pandas\\core\\tools\\datetimes.py:1047: UserWarning: Parsing '25-04-2023' in DD/MM/YYYY format. Provide format or specify infer_datetime_format=True for consistent parsing.\n",
      "  cache_array = _maybe_cache(arg, format, cache, convert_listlike)\n",
      "C:\\Users\\JERIN\\anaconda3\\lib\\site-packages\\pandas\\core\\tools\\datetimes.py:1047: UserWarning: Parsing '24-04-2023' in DD/MM/YYYY format. Provide format or specify infer_datetime_format=True for consistent parsing.\n",
      "  cache_array = _maybe_cache(arg, format, cache, convert_listlike)\n",
      "C:\\Users\\JERIN\\anaconda3\\lib\\site-packages\\pandas\\core\\tools\\datetimes.py:1047: UserWarning: Parsing '21-04-2023' in DD/MM/YYYY format. Provide format or specify infer_datetime_format=True for consistent parsing.\n",
      "  cache_array = _maybe_cache(arg, format, cache, convert_listlike)\n",
      "C:\\Users\\JERIN\\anaconda3\\lib\\site-packages\\pandas\\core\\tools\\datetimes.py:1047: UserWarning: Parsing '20-04-2023' in DD/MM/YYYY format. Provide format or specify infer_datetime_format=True for consistent parsing.\n",
      "  cache_array = _maybe_cache(arg, format, cache, convert_listlike)\n",
      "C:\\Users\\JERIN\\anaconda3\\lib\\site-packages\\pandas\\core\\tools\\datetimes.py:1047: UserWarning: Parsing '19-04-2023' in DD/MM/YYYY format. Provide format or specify infer_datetime_format=True for consistent parsing.\n",
      "  cache_array = _maybe_cache(arg, format, cache, convert_listlike)\n",
      "C:\\Users\\JERIN\\anaconda3\\lib\\site-packages\\pandas\\core\\tools\\datetimes.py:1047: UserWarning: Parsing '18-04-2023' in DD/MM/YYYY format. Provide format or specify infer_datetime_format=True for consistent parsing.\n",
      "  cache_array = _maybe_cache(arg, format, cache, convert_listlike)\n",
      "C:\\Users\\JERIN\\anaconda3\\lib\\site-packages\\pandas\\core\\tools\\datetimes.py:1047: UserWarning: Parsing '17-04-2023' in DD/MM/YYYY format. Provide format or specify infer_datetime_format=True for consistent parsing.\n",
      "  cache_array = _maybe_cache(arg, format, cache, convert_listlike)\n",
      "C:\\Users\\JERIN\\anaconda3\\lib\\site-packages\\pandas\\core\\tools\\datetimes.py:1047: UserWarning: Parsing '16-04-2023' in DD/MM/YYYY format. Provide format or specify infer_datetime_format=True for consistent parsing.\n",
      "  cache_array = _maybe_cache(arg, format, cache, convert_listlike)\n",
      "C:\\Users\\JERIN\\anaconda3\\lib\\site-packages\\pandas\\core\\tools\\datetimes.py:1047: UserWarning: Parsing '14-04-2023' in DD/MM/YYYY format. Provide format or specify infer_datetime_format=True for consistent parsing.\n",
      "  cache_array = _maybe_cache(arg, format, cache, convert_listlike)\n",
      "C:\\Users\\JERIN\\anaconda3\\lib\\site-packages\\pandas\\core\\tools\\datetimes.py:1047: UserWarning: Parsing '13-04-2023' in DD/MM/YYYY format. Provide format or specify infer_datetime_format=True for consistent parsing.\n",
      "  cache_array = _maybe_cache(arg, format, cache, convert_listlike)\n",
      "C:\\Users\\JERIN\\anaconda3\\lib\\site-packages\\pandas\\core\\tools\\datetimes.py:1047: UserWarning: Parsing '31-03-2023' in DD/MM/YYYY format. Provide format or specify infer_datetime_format=True for consistent parsing.\n",
      "  cache_array = _maybe_cache(arg, format, cache, convert_listlike)\n",
      "C:\\Users\\JERIN\\anaconda3\\lib\\site-packages\\pandas\\core\\tools\\datetimes.py:1047: UserWarning: Parsing '30-03-2023' in DD/MM/YYYY format. Provide format or specify infer_datetime_format=True for consistent parsing.\n",
      "  cache_array = _maybe_cache(arg, format, cache, convert_listlike)\n",
      "C:\\Users\\JERIN\\anaconda3\\lib\\site-packages\\pandas\\core\\tools\\datetimes.py:1047: UserWarning: Parsing '29-03-2023' in DD/MM/YYYY format. Provide format or specify infer_datetime_format=True for consistent parsing.\n",
      "  cache_array = _maybe_cache(arg, format, cache, convert_listlike)\n",
      "C:\\Users\\JERIN\\anaconda3\\lib\\site-packages\\pandas\\core\\tools\\datetimes.py:1047: UserWarning: Parsing '28-03-2023' in DD/MM/YYYY format. Provide format or specify infer_datetime_format=True for consistent parsing.\n",
      "  cache_array = _maybe_cache(arg, format, cache, convert_listlike)\n",
      "C:\\Users\\JERIN\\anaconda3\\lib\\site-packages\\pandas\\core\\tools\\datetimes.py:1047: UserWarning: Parsing '27-03-2023' in DD/MM/YYYY format. Provide format or specify infer_datetime_format=True for consistent parsing.\n",
      "  cache_array = _maybe_cache(arg, format, cache, convert_listlike)\n",
      "C:\\Users\\JERIN\\anaconda3\\lib\\site-packages\\pandas\\core\\tools\\datetimes.py:1047: UserWarning: Parsing '24-03-2023' in DD/MM/YYYY format. Provide format or specify infer_datetime_format=True for consistent parsing.\n",
      "  cache_array = _maybe_cache(arg, format, cache, convert_listlike)\n",
      "C:\\Users\\JERIN\\anaconda3\\lib\\site-packages\\pandas\\core\\tools\\datetimes.py:1047: UserWarning: Parsing '23-03-2023' in DD/MM/YYYY format. Provide format or specify infer_datetime_format=True for consistent parsing.\n",
      "  cache_array = _maybe_cache(arg, format, cache, convert_listlike)\n",
      "C:\\Users\\JERIN\\anaconda3\\lib\\site-packages\\pandas\\core\\tools\\datetimes.py:1047: UserWarning: Parsing '22-03-2023' in DD/MM/YYYY format. Provide format or specify infer_datetime_format=True for consistent parsing.\n",
      "  cache_array = _maybe_cache(arg, format, cache, convert_listlike)\n",
      "C:\\Users\\JERIN\\anaconda3\\lib\\site-packages\\pandas\\core\\tools\\datetimes.py:1047: UserWarning: Parsing '21-03-2023' in DD/MM/YYYY format. Provide format or specify infer_datetime_format=True for consistent parsing.\n",
      "  cache_array = _maybe_cache(arg, format, cache, convert_listlike)\n",
      "C:\\Users\\JERIN\\anaconda3\\lib\\site-packages\\pandas\\core\\tools\\datetimes.py:1047: UserWarning: Parsing '20-03-2023' in DD/MM/YYYY format. Provide format or specify infer_datetime_format=True for consistent parsing.\n",
      "  cache_array = _maybe_cache(arg, format, cache, convert_listlike)\n",
      "C:\\Users\\JERIN\\anaconda3\\lib\\site-packages\\pandas\\core\\tools\\datetimes.py:1047: UserWarning: Parsing '17-03-2023' in DD/MM/YYYY format. Provide format or specify infer_datetime_format=True for consistent parsing.\n",
      "  cache_array = _maybe_cache(arg, format, cache, convert_listlike)\n",
      "C:\\Users\\JERIN\\anaconda3\\lib\\site-packages\\pandas\\core\\tools\\datetimes.py:1047: UserWarning: Parsing '16-03-2023' in DD/MM/YYYY format. Provide format or specify infer_datetime_format=True for consistent parsing.\n",
      "  cache_array = _maybe_cache(arg, format, cache, convert_listlike)\n",
      "C:\\Users\\JERIN\\anaconda3\\lib\\site-packages\\pandas\\core\\tools\\datetimes.py:1047: UserWarning: Parsing '15-03-2023' in DD/MM/YYYY format. Provide format or specify infer_datetime_format=True for consistent parsing.\n",
      "  cache_array = _maybe_cache(arg, format, cache, convert_listlike)\n",
      "C:\\Users\\JERIN\\anaconda3\\lib\\site-packages\\pandas\\core\\tools\\datetimes.py:1047: UserWarning: Parsing '14-03-2023' in DD/MM/YYYY format. Provide format or specify infer_datetime_format=True for consistent parsing.\n",
      "  cache_array = _maybe_cache(arg, format, cache, convert_listlike)\n",
      "C:\\Users\\JERIN\\anaconda3\\lib\\site-packages\\pandas\\core\\tools\\datetimes.py:1047: UserWarning: Parsing '28-02-2023' in DD/MM/YYYY format. Provide format or specify infer_datetime_format=True for consistent parsing.\n",
      "  cache_array = _maybe_cache(arg, format, cache, convert_listlike)\n",
      "C:\\Users\\JERIN\\anaconda3\\lib\\site-packages\\pandas\\core\\tools\\datetimes.py:1047: UserWarning: Parsing '27-02-2023' in DD/MM/YYYY format. Provide format or specify infer_datetime_format=True for consistent parsing.\n",
      "  cache_array = _maybe_cache(arg, format, cache, convert_listlike)\n",
      "C:\\Users\\JERIN\\anaconda3\\lib\\site-packages\\pandas\\core\\tools\\datetimes.py:1047: UserWarning: Parsing '26-02-2023' in DD/MM/YYYY format. Provide format or specify infer_datetime_format=True for consistent parsing.\n",
      "  cache_array = _maybe_cache(arg, format, cache, convert_listlike)\n",
      "C:\\Users\\JERIN\\anaconda3\\lib\\site-packages\\pandas\\core\\tools\\datetimes.py:1047: UserWarning: Parsing '25-02-2023' in DD/MM/YYYY format. Provide format or specify infer_datetime_format=True for consistent parsing.\n",
      "  cache_array = _maybe_cache(arg, format, cache, convert_listlike)\n",
      "C:\\Users\\JERIN\\anaconda3\\lib\\site-packages\\pandas\\core\\tools\\datetimes.py:1047: UserWarning: Parsing '24-02-2023' in DD/MM/YYYY format. Provide format or specify infer_datetime_format=True for consistent parsing.\n",
      "  cache_array = _maybe_cache(arg, format, cache, convert_listlike)\n",
      "C:\\Users\\JERIN\\anaconda3\\lib\\site-packages\\pandas\\core\\tools\\datetimes.py:1047: UserWarning: Parsing '23-02-2023' in DD/MM/YYYY format. Provide format or specify infer_datetime_format=True for consistent parsing.\n",
      "  cache_array = _maybe_cache(arg, format, cache, convert_listlike)\n",
      "C:\\Users\\JERIN\\anaconda3\\lib\\site-packages\\pandas\\core\\tools\\datetimes.py:1047: UserWarning: Parsing '22-02-2023' in DD/MM/YYYY format. Provide format or specify infer_datetime_format=True for consistent parsing.\n",
      "  cache_array = _maybe_cache(arg, format, cache, convert_listlike)\n",
      "C:\\Users\\JERIN\\anaconda3\\lib\\site-packages\\pandas\\core\\tools\\datetimes.py:1047: UserWarning: Parsing '21-02-2023' in DD/MM/YYYY format. Provide format or specify infer_datetime_format=True for consistent parsing.\n",
      "  cache_array = _maybe_cache(arg, format, cache, convert_listlike)\n",
      "C:\\Users\\JERIN\\anaconda3\\lib\\site-packages\\pandas\\core\\tools\\datetimes.py:1047: UserWarning: Parsing '20-02-2023' in DD/MM/YYYY format. Provide format or specify infer_datetime_format=True for consistent parsing.\n",
      "  cache_array = _maybe_cache(arg, format, cache, convert_listlike)\n",
      "C:\\Users\\JERIN\\anaconda3\\lib\\site-packages\\pandas\\core\\tools\\datetimes.py:1047: UserWarning: Parsing '19-02-2023' in DD/MM/YYYY format. Provide format or specify infer_datetime_format=True for consistent parsing.\n",
      "  cache_array = _maybe_cache(arg, format, cache, convert_listlike)\n",
      "C:\\Users\\JERIN\\anaconda3\\lib\\site-packages\\pandas\\core\\tools\\datetimes.py:1047: UserWarning: Parsing '17-02-2023' in DD/MM/YYYY format. Provide format or specify infer_datetime_format=True for consistent parsing.\n",
      "  cache_array = _maybe_cache(arg, format, cache, convert_listlike)\n",
      "C:\\Users\\JERIN\\anaconda3\\lib\\site-packages\\pandas\\core\\tools\\datetimes.py:1047: UserWarning: Parsing '16-02-2023' in DD/MM/YYYY format. Provide format or specify infer_datetime_format=True for consistent parsing.\n",
      "  cache_array = _maybe_cache(arg, format, cache, convert_listlike)\n",
      "C:\\Users\\JERIN\\anaconda3\\lib\\site-packages\\pandas\\core\\tools\\datetimes.py:1047: UserWarning: Parsing '15-02-2023' in DD/MM/YYYY format. Provide format or specify infer_datetime_format=True for consistent parsing.\n",
      "  cache_array = _maybe_cache(arg, format, cache, convert_listlike)\n",
      "C:\\Users\\JERIN\\anaconda3\\lib\\site-packages\\pandas\\core\\tools\\datetimes.py:1047: UserWarning: Parsing '14-02-2023' in DD/MM/YYYY format. Provide format or specify infer_datetime_format=True for consistent parsing.\n",
      "  cache_array = _maybe_cache(arg, format, cache, convert_listlike)\n",
      "C:\\Users\\JERIN\\anaconda3\\lib\\site-packages\\pandas\\core\\tools\\datetimes.py:1047: UserWarning: Parsing '13-02-2023' in DD/MM/YYYY format. Provide format or specify infer_datetime_format=True for consistent parsing.\n",
      "  cache_array = _maybe_cache(arg, format, cache, convert_listlike)\n",
      "C:\\Users\\JERIN\\anaconda3\\lib\\site-packages\\pandas\\core\\tools\\datetimes.py:1047: UserWarning: Parsing '31-01-2023' in DD/MM/YYYY format. Provide format or specify infer_datetime_format=True for consistent parsing.\n",
      "  cache_array = _maybe_cache(arg, format, cache, convert_listlike)\n",
      "C:\\Users\\JERIN\\anaconda3\\lib\\site-packages\\pandas\\core\\tools\\datetimes.py:1047: UserWarning: Parsing '30-01-2023' in DD/MM/YYYY format. Provide format or specify infer_datetime_format=True for consistent parsing.\n",
      "  cache_array = _maybe_cache(arg, format, cache, convert_listlike)\n",
      "C:\\Users\\JERIN\\anaconda3\\lib\\site-packages\\pandas\\core\\tools\\datetimes.py:1047: UserWarning: Parsing '29-01-2023' in DD/MM/YYYY format. Provide format or specify infer_datetime_format=True for consistent parsing.\n",
      "  cache_array = _maybe_cache(arg, format, cache, convert_listlike)\n",
      "C:\\Users\\JERIN\\anaconda3\\lib\\site-packages\\pandas\\core\\tools\\datetimes.py:1047: UserWarning: Parsing '28-01-2023' in DD/MM/YYYY format. Provide format or specify infer_datetime_format=True for consistent parsing.\n",
      "  cache_array = _maybe_cache(arg, format, cache, convert_listlike)\n",
      "C:\\Users\\JERIN\\anaconda3\\lib\\site-packages\\pandas\\core\\tools\\datetimes.py:1047: UserWarning: Parsing '27-01-2023' in DD/MM/YYYY format. Provide format or specify infer_datetime_format=True for consistent parsing.\n",
      "  cache_array = _maybe_cache(arg, format, cache, convert_listlike)\n",
      "C:\\Users\\JERIN\\anaconda3\\lib\\site-packages\\pandas\\core\\tools\\datetimes.py:1047: UserWarning: Parsing '26-01-2023' in DD/MM/YYYY format. Provide format or specify infer_datetime_format=True for consistent parsing.\n",
      "  cache_array = _maybe_cache(arg, format, cache, convert_listlike)\n",
      "C:\\Users\\JERIN\\anaconda3\\lib\\site-packages\\pandas\\core\\tools\\datetimes.py:1047: UserWarning: Parsing '25-01-2023' in DD/MM/YYYY format. Provide format or specify infer_datetime_format=True for consistent parsing.\n",
      "  cache_array = _maybe_cache(arg, format, cache, convert_listlike)\n",
      "C:\\Users\\JERIN\\anaconda3\\lib\\site-packages\\pandas\\core\\tools\\datetimes.py:1047: UserWarning: Parsing '24-01-2023' in DD/MM/YYYY format. Provide format or specify infer_datetime_format=True for consistent parsing.\n",
      "  cache_array = _maybe_cache(arg, format, cache, convert_listlike)\n",
      "C:\\Users\\JERIN\\anaconda3\\lib\\site-packages\\pandas\\core\\tools\\datetimes.py:1047: UserWarning: Parsing '23-01-2023' in DD/MM/YYYY format. Provide format or specify infer_datetime_format=True for consistent parsing.\n",
      "  cache_array = _maybe_cache(arg, format, cache, convert_listlike)\n",
      "C:\\Users\\JERIN\\anaconda3\\lib\\site-packages\\pandas\\core\\tools\\datetimes.py:1047: UserWarning: Parsing '22-01-2023' in DD/MM/YYYY format. Provide format or specify infer_datetime_format=True for consistent parsing.\n",
      "  cache_array = _maybe_cache(arg, format, cache, convert_listlike)\n",
      "C:\\Users\\JERIN\\anaconda3\\lib\\site-packages\\pandas\\core\\tools\\datetimes.py:1047: UserWarning: Parsing '20-01-2023' in DD/MM/YYYY format. Provide format or specify infer_datetime_format=True for consistent parsing.\n",
      "  cache_array = _maybe_cache(arg, format, cache, convert_listlike)\n",
      "C:\\Users\\JERIN\\anaconda3\\lib\\site-packages\\pandas\\core\\tools\\datetimes.py:1047: UserWarning: Parsing '19-01-2023' in DD/MM/YYYY format. Provide format or specify infer_datetime_format=True for consistent parsing.\n",
      "  cache_array = _maybe_cache(arg, format, cache, convert_listlike)\n",
      "C:\\Users\\JERIN\\anaconda3\\lib\\site-packages\\pandas\\core\\tools\\datetimes.py:1047: UserWarning: Parsing '18-01-2023' in DD/MM/YYYY format. Provide format or specify infer_datetime_format=True for consistent parsing.\n",
      "  cache_array = _maybe_cache(arg, format, cache, convert_listlike)\n",
      "C:\\Users\\JERIN\\anaconda3\\lib\\site-packages\\pandas\\core\\tools\\datetimes.py:1047: UserWarning: Parsing '17-01-2023' in DD/MM/YYYY format. Provide format or specify infer_datetime_format=True for consistent parsing.\n",
      "  cache_array = _maybe_cache(arg, format, cache, convert_listlike)\n",
      "C:\\Users\\JERIN\\anaconda3\\lib\\site-packages\\pandas\\core\\tools\\datetimes.py:1047: UserWarning: Parsing '16-01-2023' in DD/MM/YYYY format. Provide format or specify infer_datetime_format=True for consistent parsing.\n",
      "  cache_array = _maybe_cache(arg, format, cache, convert_listlike)\n",
      "C:\\Users\\JERIN\\anaconda3\\lib\\site-packages\\pandas\\core\\tools\\datetimes.py:1047: UserWarning: Parsing '15-01-2023' in DD/MM/YYYY format. Provide format or specify infer_datetime_format=True for consistent parsing.\n",
      "  cache_array = _maybe_cache(arg, format, cache, convert_listlike)\n",
      "C:\\Users\\JERIN\\anaconda3\\lib\\site-packages\\pandas\\core\\tools\\datetimes.py:1047: UserWarning: Parsing '13-01-2023' in DD/MM/YYYY format. Provide format or specify infer_datetime_format=True for consistent parsing.\n",
      "  cache_array = _maybe_cache(arg, format, cache, convert_listlike)\n",
      "C:\\Users\\JERIN\\anaconda3\\lib\\site-packages\\pandas\\core\\tools\\datetimes.py:1047: UserWarning: Parsing '31-12-2022' in DD/MM/YYYY format. Provide format or specify infer_datetime_format=True for consistent parsing.\n",
      "  cache_array = _maybe_cache(arg, format, cache, convert_listlike)\n",
      "C:\\Users\\JERIN\\anaconda3\\lib\\site-packages\\pandas\\core\\tools\\datetimes.py:1047: UserWarning: Parsing '27-12-2022' in DD/MM/YYYY format. Provide format or specify infer_datetime_format=True for consistent parsing.\n",
      "  cache_array = _maybe_cache(arg, format, cache, convert_listlike)\n",
      "C:\\Users\\JERIN\\anaconda3\\lib\\site-packages\\pandas\\core\\tools\\datetimes.py:1047: UserWarning: Parsing '26-12-2022' in DD/MM/YYYY format. Provide format or specify infer_datetime_format=True for consistent parsing.\n",
      "  cache_array = _maybe_cache(arg, format, cache, convert_listlike)\n",
      "C:\\Users\\JERIN\\anaconda3\\lib\\site-packages\\pandas\\core\\tools\\datetimes.py:1047: UserWarning: Parsing '25-12-2022' in DD/MM/YYYY format. Provide format or specify infer_datetime_format=True for consistent parsing.\n",
      "  cache_array = _maybe_cache(arg, format, cache, convert_listlike)\n",
      "C:\\Users\\JERIN\\anaconda3\\lib\\site-packages\\pandas\\core\\tools\\datetimes.py:1047: UserWarning: Parsing '23-12-2022' in DD/MM/YYYY format. Provide format or specify infer_datetime_format=True for consistent parsing.\n",
      "  cache_array = _maybe_cache(arg, format, cache, convert_listlike)\n",
      "C:\\Users\\JERIN\\anaconda3\\lib\\site-packages\\pandas\\core\\tools\\datetimes.py:1047: UserWarning: Parsing '22-12-2022' in DD/MM/YYYY format. Provide format or specify infer_datetime_format=True for consistent parsing.\n",
      "  cache_array = _maybe_cache(arg, format, cache, convert_listlike)\n",
      "C:\\Users\\JERIN\\anaconda3\\lib\\site-packages\\pandas\\core\\tools\\datetimes.py:1047: UserWarning: Parsing '21-12-2022' in DD/MM/YYYY format. Provide format or specify infer_datetime_format=True for consistent parsing.\n",
      "  cache_array = _maybe_cache(arg, format, cache, convert_listlike)\n",
      "C:\\Users\\JERIN\\anaconda3\\lib\\site-packages\\pandas\\core\\tools\\datetimes.py:1047: UserWarning: Parsing '20-12-2022' in DD/MM/YYYY format. Provide format or specify infer_datetime_format=True for consistent parsing.\n",
      "  cache_array = _maybe_cache(arg, format, cache, convert_listlike)\n",
      "C:\\Users\\JERIN\\anaconda3\\lib\\site-packages\\pandas\\core\\tools\\datetimes.py:1047: UserWarning: Parsing '19-12-2022' in DD/MM/YYYY format. Provide format or specify infer_datetime_format=True for consistent parsing.\n",
      "  cache_array = _maybe_cache(arg, format, cache, convert_listlike)\n",
      "C:\\Users\\JERIN\\anaconda3\\lib\\site-packages\\pandas\\core\\tools\\datetimes.py:1047: UserWarning: Parsing '16-12-2022' in DD/MM/YYYY format. Provide format or specify infer_datetime_format=True for consistent parsing.\n",
      "  cache_array = _maybe_cache(arg, format, cache, convert_listlike)\n",
      "C:\\Users\\JERIN\\anaconda3\\lib\\site-packages\\pandas\\core\\tools\\datetimes.py:1047: UserWarning: Parsing '15-12-2022' in DD/MM/YYYY format. Provide format or specify infer_datetime_format=True for consistent parsing.\n",
      "  cache_array = _maybe_cache(arg, format, cache, convert_listlike)\n",
      "C:\\Users\\JERIN\\anaconda3\\lib\\site-packages\\pandas\\core\\tools\\datetimes.py:1047: UserWarning: Parsing '14-12-2022' in DD/MM/YYYY format. Provide format or specify infer_datetime_format=True for consistent parsing.\n",
      "  cache_array = _maybe_cache(arg, format, cache, convert_listlike)\n",
      "C:\\Users\\JERIN\\anaconda3\\lib\\site-packages\\pandas\\core\\tools\\datetimes.py:1047: UserWarning: Parsing '13-12-2022' in DD/MM/YYYY format. Provide format or specify infer_datetime_format=True for consistent parsing.\n",
      "  cache_array = _maybe_cache(arg, format, cache, convert_listlike)\n",
      "C:\\Users\\JERIN\\anaconda3\\lib\\site-packages\\pandas\\core\\tools\\datetimes.py:1047: UserWarning: Parsing '30-11-2022' in DD/MM/YYYY format. Provide format or specify infer_datetime_format=True for consistent parsing.\n",
      "  cache_array = _maybe_cache(arg, format, cache, convert_listlike)\n",
      "C:\\Users\\JERIN\\anaconda3\\lib\\site-packages\\pandas\\core\\tools\\datetimes.py:1047: UserWarning: Parsing '29-11-2022' in DD/MM/YYYY format. Provide format or specify infer_datetime_format=True for consistent parsing.\n",
      "  cache_array = _maybe_cache(arg, format, cache, convert_listlike)\n",
      "C:\\Users\\JERIN\\anaconda3\\lib\\site-packages\\pandas\\core\\tools\\datetimes.py:1047: UserWarning: Parsing '28-11-2022' in DD/MM/YYYY format. Provide format or specify infer_datetime_format=True for consistent parsing.\n",
      "  cache_array = _maybe_cache(arg, format, cache, convert_listlike)\n",
      "C:\\Users\\JERIN\\anaconda3\\lib\\site-packages\\pandas\\core\\tools\\datetimes.py:1047: UserWarning: Parsing '27-11-2022' in DD/MM/YYYY format. Provide format or specify infer_datetime_format=True for consistent parsing.\n",
      "  cache_array = _maybe_cache(arg, format, cache, convert_listlike)\n",
      "C:\\Users\\JERIN\\anaconda3\\lib\\site-packages\\pandas\\core\\tools\\datetimes.py:1047: UserWarning: Parsing '26-11-2022' in DD/MM/YYYY format. Provide format or specify infer_datetime_format=True for consistent parsing.\n",
      "  cache_array = _maybe_cache(arg, format, cache, convert_listlike)\n",
      "C:\\Users\\JERIN\\anaconda3\\lib\\site-packages\\pandas\\core\\tools\\datetimes.py:1047: UserWarning: Parsing '25-11-2022' in DD/MM/YYYY format. Provide format or specify infer_datetime_format=True for consistent parsing.\n",
      "  cache_array = _maybe_cache(arg, format, cache, convert_listlike)\n",
      "C:\\Users\\JERIN\\anaconda3\\lib\\site-packages\\pandas\\core\\tools\\datetimes.py:1047: UserWarning: Parsing '24-11-2022' in DD/MM/YYYY format. Provide format or specify infer_datetime_format=True for consistent parsing.\n",
      "  cache_array = _maybe_cache(arg, format, cache, convert_listlike)\n",
      "C:\\Users\\JERIN\\anaconda3\\lib\\site-packages\\pandas\\core\\tools\\datetimes.py:1047: UserWarning: Parsing '23-11-2022' in DD/MM/YYYY format. Provide format or specify infer_datetime_format=True for consistent parsing.\n",
      "  cache_array = _maybe_cache(arg, format, cache, convert_listlike)\n",
      "C:\\Users\\JERIN\\anaconda3\\lib\\site-packages\\pandas\\core\\tools\\datetimes.py:1047: UserWarning: Parsing '22-11-2022' in DD/MM/YYYY format. Provide format or specify infer_datetime_format=True for consistent parsing.\n",
      "  cache_array = _maybe_cache(arg, format, cache, convert_listlike)\n",
      "C:\\Users\\JERIN\\anaconda3\\lib\\site-packages\\pandas\\core\\tools\\datetimes.py:1047: UserWarning: Parsing '21-11-2022' in DD/MM/YYYY format. Provide format or specify infer_datetime_format=True for consistent parsing.\n",
      "  cache_array = _maybe_cache(arg, format, cache, convert_listlike)\n",
      "C:\\Users\\JERIN\\anaconda3\\lib\\site-packages\\pandas\\core\\tools\\datetimes.py:1047: UserWarning: Parsing '19-11-2022' in DD/MM/YYYY format. Provide format or specify infer_datetime_format=True for consistent parsing.\n",
      "  cache_array = _maybe_cache(arg, format, cache, convert_listlike)\n",
      "C:\\Users\\JERIN\\anaconda3\\lib\\site-packages\\pandas\\core\\tools\\datetimes.py:1047: UserWarning: Parsing '18-11-2022' in DD/MM/YYYY format. Provide format or specify infer_datetime_format=True for consistent parsing.\n",
      "  cache_array = _maybe_cache(arg, format, cache, convert_listlike)\n",
      "C:\\Users\\JERIN\\anaconda3\\lib\\site-packages\\pandas\\core\\tools\\datetimes.py:1047: UserWarning: Parsing '17-11-2022' in DD/MM/YYYY format. Provide format or specify infer_datetime_format=True for consistent parsing.\n",
      "  cache_array = _maybe_cache(arg, format, cache, convert_listlike)\n",
      "C:\\Users\\JERIN\\anaconda3\\lib\\site-packages\\pandas\\core\\tools\\datetimes.py:1047: UserWarning: Parsing '16-11-2022' in DD/MM/YYYY format. Provide format or specify infer_datetime_format=True for consistent parsing.\n",
      "  cache_array = _maybe_cache(arg, format, cache, convert_listlike)\n",
      "C:\\Users\\JERIN\\anaconda3\\lib\\site-packages\\pandas\\core\\tools\\datetimes.py:1047: UserWarning: Parsing '15-11-2022' in DD/MM/YYYY format. Provide format or specify infer_datetime_format=True for consistent parsing.\n",
      "  cache_array = _maybe_cache(arg, format, cache, convert_listlike)\n",
      "C:\\Users\\JERIN\\anaconda3\\lib\\site-packages\\pandas\\core\\tools\\datetimes.py:1047: UserWarning: Parsing '14-11-2022' in DD/MM/YYYY format. Provide format or specify infer_datetime_format=True for consistent parsing.\n",
      "  cache_array = _maybe_cache(arg, format, cache, convert_listlike)\n",
      "C:\\Users\\JERIN\\anaconda3\\lib\\site-packages\\pandas\\core\\tools\\datetimes.py:1047: UserWarning: Parsing '31-10-2022' in DD/MM/YYYY format. Provide format or specify infer_datetime_format=True for consistent parsing.\n",
      "  cache_array = _maybe_cache(arg, format, cache, convert_listlike)\n",
      "C:\\Users\\JERIN\\anaconda3\\lib\\site-packages\\pandas\\core\\tools\\datetimes.py:1047: UserWarning: Parsing '28-10-2022' in DD/MM/YYYY format. Provide format or specify infer_datetime_format=True for consistent parsing.\n",
      "  cache_array = _maybe_cache(arg, format, cache, convert_listlike)\n",
      "C:\\Users\\JERIN\\anaconda3\\lib\\site-packages\\pandas\\core\\tools\\datetimes.py:1047: UserWarning: Parsing '27-10-2022' in DD/MM/YYYY format. Provide format or specify infer_datetime_format=True for consistent parsing.\n",
      "  cache_array = _maybe_cache(arg, format, cache, convert_listlike)\n",
      "C:\\Users\\JERIN\\anaconda3\\lib\\site-packages\\pandas\\core\\tools\\datetimes.py:1047: UserWarning: Parsing '26-10-2022' in DD/MM/YYYY format. Provide format or specify infer_datetime_format=True for consistent parsing.\n",
      "  cache_array = _maybe_cache(arg, format, cache, convert_listlike)\n",
      "C:\\Users\\JERIN\\anaconda3\\lib\\site-packages\\pandas\\core\\tools\\datetimes.py:1047: UserWarning: Parsing '25-10-2022' in DD/MM/YYYY format. Provide format or specify infer_datetime_format=True for consistent parsing.\n",
      "  cache_array = _maybe_cache(arg, format, cache, convert_listlike)\n",
      "C:\\Users\\JERIN\\anaconda3\\lib\\site-packages\\pandas\\core\\tools\\datetimes.py:1047: UserWarning: Parsing '24-10-2022' in DD/MM/YYYY format. Provide format or specify infer_datetime_format=True for consistent parsing.\n",
      "  cache_array = _maybe_cache(arg, format, cache, convert_listlike)\n",
      "C:\\Users\\JERIN\\anaconda3\\lib\\site-packages\\pandas\\core\\tools\\datetimes.py:1047: UserWarning: Parsing '23-10-2022' in DD/MM/YYYY format. Provide format or specify infer_datetime_format=True for consistent parsing.\n",
      "  cache_array = _maybe_cache(arg, format, cache, convert_listlike)\n",
      "C:\\Users\\JERIN\\anaconda3\\lib\\site-packages\\pandas\\core\\tools\\datetimes.py:1047: UserWarning: Parsing '21-10-2022' in DD/MM/YYYY format. Provide format or specify infer_datetime_format=True for consistent parsing.\n",
      "  cache_array = _maybe_cache(arg, format, cache, convert_listlike)\n",
      "C:\\Users\\JERIN\\anaconda3\\lib\\site-packages\\pandas\\core\\tools\\datetimes.py:1047: UserWarning: Parsing '20-10-2022' in DD/MM/YYYY format. Provide format or specify infer_datetime_format=True for consistent parsing.\n",
      "  cache_array = _maybe_cache(arg, format, cache, convert_listlike)\n",
      "C:\\Users\\JERIN\\anaconda3\\lib\\site-packages\\pandas\\core\\tools\\datetimes.py:1047: UserWarning: Parsing '19-10-2022' in DD/MM/YYYY format. Provide format or specify infer_datetime_format=True for consistent parsing.\n",
      "  cache_array = _maybe_cache(arg, format, cache, convert_listlike)\n",
      "C:\\Users\\JERIN\\anaconda3\\lib\\site-packages\\pandas\\core\\tools\\datetimes.py:1047: UserWarning: Parsing '18-10-2022' in DD/MM/YYYY format. Provide format or specify infer_datetime_format=True for consistent parsing.\n",
      "  cache_array = _maybe_cache(arg, format, cache, convert_listlike)\n",
      "C:\\Users\\JERIN\\anaconda3\\lib\\site-packages\\pandas\\core\\tools\\datetimes.py:1047: UserWarning: Parsing '17-10-2022' in DD/MM/YYYY format. Provide format or specify infer_datetime_format=True for consistent parsing.\n",
      "  cache_array = _maybe_cache(arg, format, cache, convert_listlike)\n",
      "C:\\Users\\JERIN\\anaconda3\\lib\\site-packages\\pandas\\core\\tools\\datetimes.py:1047: UserWarning: Parsing '16-10-2022' in DD/MM/YYYY format. Provide format or specify infer_datetime_format=True for consistent parsing.\n",
      "  cache_array = _maybe_cache(arg, format, cache, convert_listlike)\n",
      "C:\\Users\\JERIN\\anaconda3\\lib\\site-packages\\pandas\\core\\tools\\datetimes.py:1047: UserWarning: Parsing '14-10-2022' in DD/MM/YYYY format. Provide format or specify infer_datetime_format=True for consistent parsing.\n",
      "  cache_array = _maybe_cache(arg, format, cache, convert_listlike)\n",
      "C:\\Users\\JERIN\\anaconda3\\lib\\site-packages\\pandas\\core\\tools\\datetimes.py:1047: UserWarning: Parsing '13-10-2022' in DD/MM/YYYY format. Provide format or specify infer_datetime_format=True for consistent parsing.\n",
      "  cache_array = _maybe_cache(arg, format, cache, convert_listlike)\n",
      "C:\\Users\\JERIN\\anaconda3\\lib\\site-packages\\pandas\\core\\tools\\datetimes.py:1047: UserWarning: Parsing '30-09-2022' in DD/MM/YYYY format. Provide format or specify infer_datetime_format=True for consistent parsing.\n",
      "  cache_array = _maybe_cache(arg, format, cache, convert_listlike)\n",
      "C:\\Users\\JERIN\\anaconda3\\lib\\site-packages\\pandas\\core\\tools\\datetimes.py:1047: UserWarning: Parsing '29-09-2022' in DD/MM/YYYY format. Provide format or specify infer_datetime_format=True for consistent parsing.\n",
      "  cache_array = _maybe_cache(arg, format, cache, convert_listlike)\n",
      "C:\\Users\\JERIN\\anaconda3\\lib\\site-packages\\pandas\\core\\tools\\datetimes.py:1047: UserWarning: Parsing '28-09-2022' in DD/MM/YYYY format. Provide format or specify infer_datetime_format=True for consistent parsing.\n",
      "  cache_array = _maybe_cache(arg, format, cache, convert_listlike)\n",
      "C:\\Users\\JERIN\\anaconda3\\lib\\site-packages\\pandas\\core\\tools\\datetimes.py:1047: UserWarning: Parsing '27-09-2022' in DD/MM/YYYY format. Provide format or specify infer_datetime_format=True for consistent parsing.\n",
      "  cache_array = _maybe_cache(arg, format, cache, convert_listlike)\n",
      "C:\\Users\\JERIN\\anaconda3\\lib\\site-packages\\pandas\\core\\tools\\datetimes.py:1047: UserWarning: Parsing '24-09-2022' in DD/MM/YYYY format. Provide format or specify infer_datetime_format=True for consistent parsing.\n",
      "  cache_array = _maybe_cache(arg, format, cache, convert_listlike)\n",
      "C:\\Users\\JERIN\\anaconda3\\lib\\site-packages\\pandas\\core\\tools\\datetimes.py:1047: UserWarning: Parsing '23-09-2022' in DD/MM/YYYY format. Provide format or specify infer_datetime_format=True for consistent parsing.\n",
      "  cache_array = _maybe_cache(arg, format, cache, convert_listlike)\n",
      "C:\\Users\\JERIN\\anaconda3\\lib\\site-packages\\pandas\\core\\tools\\datetimes.py:1047: UserWarning: Parsing '22-09-2022' in DD/MM/YYYY format. Provide format or specify infer_datetime_format=True for consistent parsing.\n",
      "  cache_array = _maybe_cache(arg, format, cache, convert_listlike)\n",
      "C:\\Users\\JERIN\\anaconda3\\lib\\site-packages\\pandas\\core\\tools\\datetimes.py:1047: UserWarning: Parsing '21-09-2022' in DD/MM/YYYY format. Provide format or specify infer_datetime_format=True for consistent parsing.\n",
      "  cache_array = _maybe_cache(arg, format, cache, convert_listlike)\n",
      "C:\\Users\\JERIN\\anaconda3\\lib\\site-packages\\pandas\\core\\tools\\datetimes.py:1047: UserWarning: Parsing '20-09-2022' in DD/MM/YYYY format. Provide format or specify infer_datetime_format=True for consistent parsing.\n",
      "  cache_array = _maybe_cache(arg, format, cache, convert_listlike)\n",
      "C:\\Users\\JERIN\\anaconda3\\lib\\site-packages\\pandas\\core\\tools\\datetimes.py:1047: UserWarning: Parsing '19-09-2022' in DD/MM/YYYY format. Provide format or specify infer_datetime_format=True for consistent parsing.\n",
      "  cache_array = _maybe_cache(arg, format, cache, convert_listlike)\n",
      "C:\\Users\\JERIN\\anaconda3\\lib\\site-packages\\pandas\\core\\tools\\datetimes.py:1047: UserWarning: Parsing '18-09-2022' in DD/MM/YYYY format. Provide format or specify infer_datetime_format=True for consistent parsing.\n",
      "  cache_array = _maybe_cache(arg, format, cache, convert_listlike)\n",
      "C:\\Users\\JERIN\\anaconda3\\lib\\site-packages\\pandas\\core\\tools\\datetimes.py:1047: UserWarning: Parsing '16-09-2022' in DD/MM/YYYY format. Provide format or specify infer_datetime_format=True for consistent parsing.\n",
      "  cache_array = _maybe_cache(arg, format, cache, convert_listlike)\n",
      "C:\\Users\\JERIN\\anaconda3\\lib\\site-packages\\pandas\\core\\tools\\datetimes.py:1047: UserWarning: Parsing '15-09-2022' in DD/MM/YYYY format. Provide format or specify infer_datetime_format=True for consistent parsing.\n",
      "  cache_array = _maybe_cache(arg, format, cache, convert_listlike)\n",
      "C:\\Users\\JERIN\\anaconda3\\lib\\site-packages\\pandas\\core\\tools\\datetimes.py:1047: UserWarning: Parsing '14-09-2022' in DD/MM/YYYY format. Provide format or specify infer_datetime_format=True for consistent parsing.\n",
      "  cache_array = _maybe_cache(arg, format, cache, convert_listlike)\n",
      "C:\\Users\\JERIN\\anaconda3\\lib\\site-packages\\pandas\\core\\tools\\datetimes.py:1047: UserWarning: Parsing '13-09-2022' in DD/MM/YYYY format. Provide format or specify infer_datetime_format=True for consistent parsing.\n",
      "  cache_array = _maybe_cache(arg, format, cache, convert_listlike)\n",
      "C:\\Users\\JERIN\\anaconda3\\lib\\site-packages\\pandas\\core\\tools\\datetimes.py:1047: UserWarning: Parsing '31-08-2022' in DD/MM/YYYY format. Provide format or specify infer_datetime_format=True for consistent parsing.\n",
      "  cache_array = _maybe_cache(arg, format, cache, convert_listlike)\n",
      "C:\\Users\\JERIN\\anaconda3\\lib\\site-packages\\pandas\\core\\tools\\datetimes.py:1047: UserWarning: Parsing '30-08-2022' in DD/MM/YYYY format. Provide format or specify infer_datetime_format=True for consistent parsing.\n",
      "  cache_array = _maybe_cache(arg, format, cache, convert_listlike)\n",
      "C:\\Users\\JERIN\\anaconda3\\lib\\site-packages\\pandas\\core\\tools\\datetimes.py:1047: UserWarning: Parsing '29-08-2022' in DD/MM/YYYY format. Provide format or specify infer_datetime_format=True for consistent parsing.\n",
      "  cache_array = _maybe_cache(arg, format, cache, convert_listlike)\n",
      "C:\\Users\\JERIN\\anaconda3\\lib\\site-packages\\pandas\\core\\tools\\datetimes.py:1047: UserWarning: Parsing '28-08-2022' in DD/MM/YYYY format. Provide format or specify infer_datetime_format=True for consistent parsing.\n",
      "  cache_array = _maybe_cache(arg, format, cache, convert_listlike)\n",
      "C:\\Users\\JERIN\\anaconda3\\lib\\site-packages\\pandas\\core\\tools\\datetimes.py:1047: UserWarning: Parsing '26-08-2022' in DD/MM/YYYY format. Provide format or specify infer_datetime_format=True for consistent parsing.\n",
      "  cache_array = _maybe_cache(arg, format, cache, convert_listlike)\n",
      "C:\\Users\\JERIN\\anaconda3\\lib\\site-packages\\pandas\\core\\tools\\datetimes.py:1047: UserWarning: Parsing '25-08-2022' in DD/MM/YYYY format. Provide format or specify infer_datetime_format=True for consistent parsing.\n",
      "  cache_array = _maybe_cache(arg, format, cache, convert_listlike)\n",
      "C:\\Users\\JERIN\\anaconda3\\lib\\site-packages\\pandas\\core\\tools\\datetimes.py:1047: UserWarning: Parsing '24-08-2022' in DD/MM/YYYY format. Provide format or specify infer_datetime_format=True for consistent parsing.\n",
      "  cache_array = _maybe_cache(arg, format, cache, convert_listlike)\n",
      "C:\\Users\\JERIN\\anaconda3\\lib\\site-packages\\pandas\\core\\tools\\datetimes.py:1047: UserWarning: Parsing '23-08-2022' in DD/MM/YYYY format. Provide format or specify infer_datetime_format=True for consistent parsing.\n",
      "  cache_array = _maybe_cache(arg, format, cache, convert_listlike)\n",
      "C:\\Users\\JERIN\\anaconda3\\lib\\site-packages\\pandas\\core\\tools\\datetimes.py:1047: UserWarning: Parsing '22-08-2022' in DD/MM/YYYY format. Provide format or specify infer_datetime_format=True for consistent parsing.\n",
      "  cache_array = _maybe_cache(arg, format, cache, convert_listlike)\n",
      "C:\\Users\\JERIN\\anaconda3\\lib\\site-packages\\pandas\\core\\tools\\datetimes.py:1047: UserWarning: Parsing '21-08-2022' in DD/MM/YYYY format. Provide format or specify infer_datetime_format=True for consistent parsing.\n",
      "  cache_array = _maybe_cache(arg, format, cache, convert_listlike)\n",
      "C:\\Users\\JERIN\\anaconda3\\lib\\site-packages\\pandas\\core\\tools\\datetimes.py:1047: UserWarning: Parsing '20-08-2022' in DD/MM/YYYY format. Provide format or specify infer_datetime_format=True for consistent parsing.\n",
      "  cache_array = _maybe_cache(arg, format, cache, convert_listlike)\n",
      "C:\\Users\\JERIN\\anaconda3\\lib\\site-packages\\pandas\\core\\tools\\datetimes.py:1047: UserWarning: Parsing '19-08-2022' in DD/MM/YYYY format. Provide format or specify infer_datetime_format=True for consistent parsing.\n",
      "  cache_array = _maybe_cache(arg, format, cache, convert_listlike)\n",
      "C:\\Users\\JERIN\\anaconda3\\lib\\site-packages\\pandas\\core\\tools\\datetimes.py:1047: UserWarning: Parsing '18-08-2022' in DD/MM/YYYY format. Provide format or specify infer_datetime_format=True for consistent parsing.\n",
      "  cache_array = _maybe_cache(arg, format, cache, convert_listlike)\n",
      "C:\\Users\\JERIN\\anaconda3\\lib\\site-packages\\pandas\\core\\tools\\datetimes.py:1047: UserWarning: Parsing '17-08-2022' in DD/MM/YYYY format. Provide format or specify infer_datetime_format=True for consistent parsing.\n",
      "  cache_array = _maybe_cache(arg, format, cache, convert_listlike)\n",
      "C:\\Users\\JERIN\\anaconda3\\lib\\site-packages\\pandas\\core\\tools\\datetimes.py:1047: UserWarning: Parsing '16-08-2022' in DD/MM/YYYY format. Provide format or specify infer_datetime_format=True for consistent parsing.\n",
      "  cache_array = _maybe_cache(arg, format, cache, convert_listlike)\n",
      "C:\\Users\\JERIN\\anaconda3\\lib\\site-packages\\pandas\\core\\tools\\datetimes.py:1047: UserWarning: Parsing '15-08-2022' in DD/MM/YYYY format. Provide format or specify infer_datetime_format=True for consistent parsing.\n",
      "  cache_array = _maybe_cache(arg, format, cache, convert_listlike)\n",
      "C:\\Users\\JERIN\\anaconda3\\lib\\site-packages\\pandas\\core\\tools\\datetimes.py:1047: UserWarning: Parsing '14-08-2022' in DD/MM/YYYY format. Provide format or specify infer_datetime_format=True for consistent parsing.\n",
      "  cache_array = _maybe_cache(arg, format, cache, convert_listlike)\n",
      "C:\\Users\\JERIN\\anaconda3\\lib\\site-packages\\pandas\\core\\tools\\datetimes.py:1047: UserWarning: Parsing '13-08-2022' in DD/MM/YYYY format. Provide format or specify infer_datetime_format=True for consistent parsing.\n",
      "  cache_array = _maybe_cache(arg, format, cache, convert_listlike)\n",
      "C:\\Users\\JERIN\\anaconda3\\lib\\site-packages\\pandas\\core\\tools\\datetimes.py:1047: UserWarning: Parsing '31-07-2022' in DD/MM/YYYY format. Provide format or specify infer_datetime_format=True for consistent parsing.\n",
      "  cache_array = _maybe_cache(arg, format, cache, convert_listlike)\n",
      "C:\\Users\\JERIN\\anaconda3\\lib\\site-packages\\pandas\\core\\tools\\datetimes.py:1047: UserWarning: Parsing '29-07-2022' in DD/MM/YYYY format. Provide format or specify infer_datetime_format=True for consistent parsing.\n",
      "  cache_array = _maybe_cache(arg, format, cache, convert_listlike)\n",
      "C:\\Users\\JERIN\\anaconda3\\lib\\site-packages\\pandas\\core\\tools\\datetimes.py:1047: UserWarning: Parsing '28-07-2022' in DD/MM/YYYY format. Provide format or specify infer_datetime_format=True for consistent parsing.\n",
      "  cache_array = _maybe_cache(arg, format, cache, convert_listlike)\n",
      "C:\\Users\\JERIN\\anaconda3\\lib\\site-packages\\pandas\\core\\tools\\datetimes.py:1047: UserWarning: Parsing '27-07-2022' in DD/MM/YYYY format. Provide format or specify infer_datetime_format=True for consistent parsing.\n",
      "  cache_array = _maybe_cache(arg, format, cache, convert_listlike)\n",
      "C:\\Users\\JERIN\\anaconda3\\lib\\site-packages\\pandas\\core\\tools\\datetimes.py:1047: UserWarning: Parsing '26-07-2022' in DD/MM/YYYY format. Provide format or specify infer_datetime_format=True for consistent parsing.\n",
      "  cache_array = _maybe_cache(arg, format, cache, convert_listlike)\n",
      "C:\\Users\\JERIN\\anaconda3\\lib\\site-packages\\pandas\\core\\tools\\datetimes.py:1047: UserWarning: Parsing '25-07-2022' in DD/MM/YYYY format. Provide format or specify infer_datetime_format=True for consistent parsing.\n",
      "  cache_array = _maybe_cache(arg, format, cache, convert_listlike)\n",
      "C:\\Users\\JERIN\\anaconda3\\lib\\site-packages\\pandas\\core\\tools\\datetimes.py:1047: UserWarning: Parsing '24-07-2022' in DD/MM/YYYY format. Provide format or specify infer_datetime_format=True for consistent parsing.\n",
      "  cache_array = _maybe_cache(arg, format, cache, convert_listlike)\n",
      "C:\\Users\\JERIN\\anaconda3\\lib\\site-packages\\pandas\\core\\tools\\datetimes.py:1047: UserWarning: Parsing '22-07-2022' in DD/MM/YYYY format. Provide format or specify infer_datetime_format=True for consistent parsing.\n",
      "  cache_array = _maybe_cache(arg, format, cache, convert_listlike)\n",
      "C:\\Users\\JERIN\\anaconda3\\lib\\site-packages\\pandas\\core\\tools\\datetimes.py:1047: UserWarning: Parsing '21-07-2022' in DD/MM/YYYY format. Provide format or specify infer_datetime_format=True for consistent parsing.\n",
      "  cache_array = _maybe_cache(arg, format, cache, convert_listlike)\n",
      "C:\\Users\\JERIN\\anaconda3\\lib\\site-packages\\pandas\\core\\tools\\datetimes.py:1047: UserWarning: Parsing '20-07-2022' in DD/MM/YYYY format. Provide format or specify infer_datetime_format=True for consistent parsing.\n",
      "  cache_array = _maybe_cache(arg, format, cache, convert_listlike)\n",
      "C:\\Users\\JERIN\\anaconda3\\lib\\site-packages\\pandas\\core\\tools\\datetimes.py:1047: UserWarning: Parsing '19-07-2022' in DD/MM/YYYY format. Provide format or specify infer_datetime_format=True for consistent parsing.\n",
      "  cache_array = _maybe_cache(arg, format, cache, convert_listlike)\n",
      "C:\\Users\\JERIN\\anaconda3\\lib\\site-packages\\pandas\\core\\tools\\datetimes.py:1047: UserWarning: Parsing '18-07-2022' in DD/MM/YYYY format. Provide format or specify infer_datetime_format=True for consistent parsing.\n",
      "  cache_array = _maybe_cache(arg, format, cache, convert_listlike)\n",
      "C:\\Users\\JERIN\\anaconda3\\lib\\site-packages\\pandas\\core\\tools\\datetimes.py:1047: UserWarning: Parsing '15-07-2022' in DD/MM/YYYY format. Provide format or specify infer_datetime_format=True for consistent parsing.\n",
      "  cache_array = _maybe_cache(arg, format, cache, convert_listlike)\n",
      "C:\\Users\\JERIN\\anaconda3\\lib\\site-packages\\pandas\\core\\tools\\datetimes.py:1047: UserWarning: Parsing '14-07-2022' in DD/MM/YYYY format. Provide format or specify infer_datetime_format=True for consistent parsing.\n",
      "  cache_array = _maybe_cache(arg, format, cache, convert_listlike)\n",
      "C:\\Users\\JERIN\\anaconda3\\lib\\site-packages\\pandas\\core\\tools\\datetimes.py:1047: UserWarning: Parsing '13-07-2022' in DD/MM/YYYY format. Provide format or specify infer_datetime_format=True for consistent parsing.\n",
      "  cache_array = _maybe_cache(arg, format, cache, convert_listlike)\n",
      "C:\\Users\\JERIN\\anaconda3\\lib\\site-packages\\pandas\\core\\tools\\datetimes.py:1047: UserWarning: Parsing '30-06-2022' in DD/MM/YYYY format. Provide format or specify infer_datetime_format=True for consistent parsing.\n",
      "  cache_array = _maybe_cache(arg, format, cache, convert_listlike)\n",
      "C:\\Users\\JERIN\\anaconda3\\lib\\site-packages\\pandas\\core\\tools\\datetimes.py:1047: UserWarning: Parsing '29-06-2022' in DD/MM/YYYY format. Provide format or specify infer_datetime_format=True for consistent parsing.\n",
      "  cache_array = _maybe_cache(arg, format, cache, convert_listlike)\n",
      "C:\\Users\\JERIN\\anaconda3\\lib\\site-packages\\pandas\\core\\tools\\datetimes.py:1047: UserWarning: Parsing '28-06-2022' in DD/MM/YYYY format. Provide format or specify infer_datetime_format=True for consistent parsing.\n",
      "  cache_array = _maybe_cache(arg, format, cache, convert_listlike)\n",
      "C:\\Users\\JERIN\\anaconda3\\lib\\site-packages\\pandas\\core\\tools\\datetimes.py:1047: UserWarning: Parsing '27-06-2022' in DD/MM/YYYY format. Provide format or specify infer_datetime_format=True for consistent parsing.\n",
      "  cache_array = _maybe_cache(arg, format, cache, convert_listlike)\n",
      "C:\\Users\\JERIN\\anaconda3\\lib\\site-packages\\pandas\\core\\tools\\datetimes.py:1047: UserWarning: Parsing '26-06-2022' in DD/MM/YYYY format. Provide format or specify infer_datetime_format=True for consistent parsing.\n",
      "  cache_array = _maybe_cache(arg, format, cache, convert_listlike)\n",
      "C:\\Users\\JERIN\\anaconda3\\lib\\site-packages\\pandas\\core\\tools\\datetimes.py:1047: UserWarning: Parsing '24-06-2022' in DD/MM/YYYY format. Provide format or specify infer_datetime_format=True for consistent parsing.\n",
      "  cache_array = _maybe_cache(arg, format, cache, convert_listlike)\n",
      "C:\\Users\\JERIN\\anaconda3\\lib\\site-packages\\pandas\\core\\tools\\datetimes.py:1047: UserWarning: Parsing '23-06-2022' in DD/MM/YYYY format. Provide format or specify infer_datetime_format=True for consistent parsing.\n",
      "  cache_array = _maybe_cache(arg, format, cache, convert_listlike)\n",
      "C:\\Users\\JERIN\\anaconda3\\lib\\site-packages\\pandas\\core\\tools\\datetimes.py:1047: UserWarning: Parsing '22-06-2022' in DD/MM/YYYY format. Provide format or specify infer_datetime_format=True for consistent parsing.\n",
      "  cache_array = _maybe_cache(arg, format, cache, convert_listlike)\n",
      "C:\\Users\\JERIN\\anaconda3\\lib\\site-packages\\pandas\\core\\tools\\datetimes.py:1047: UserWarning: Parsing '21-06-2022' in DD/MM/YYYY format. Provide format or specify infer_datetime_format=True for consistent parsing.\n",
      "  cache_array = _maybe_cache(arg, format, cache, convert_listlike)\n",
      "C:\\Users\\JERIN\\anaconda3\\lib\\site-packages\\pandas\\core\\tools\\datetimes.py:1047: UserWarning: Parsing '20-06-2022' in DD/MM/YYYY format. Provide format or specify infer_datetime_format=True for consistent parsing.\n",
      "  cache_array = _maybe_cache(arg, format, cache, convert_listlike)\n",
      "C:\\Users\\JERIN\\anaconda3\\lib\\site-packages\\pandas\\core\\tools\\datetimes.py:1047: UserWarning: Parsing '19-06-2022' in DD/MM/YYYY format. Provide format or specify infer_datetime_format=True for consistent parsing.\n",
      "  cache_array = _maybe_cache(arg, format, cache, convert_listlike)\n",
      "C:\\Users\\JERIN\\anaconda3\\lib\\site-packages\\pandas\\core\\tools\\datetimes.py:1047: UserWarning: Parsing '18-06-2022' in DD/MM/YYYY format. Provide format or specify infer_datetime_format=True for consistent parsing.\n",
      "  cache_array = _maybe_cache(arg, format, cache, convert_listlike)\n",
      "C:\\Users\\JERIN\\anaconda3\\lib\\site-packages\\pandas\\core\\tools\\datetimes.py:1047: UserWarning: Parsing '17-06-2022' in DD/MM/YYYY format. Provide format or specify infer_datetime_format=True for consistent parsing.\n",
      "  cache_array = _maybe_cache(arg, format, cache, convert_listlike)\n",
      "C:\\Users\\JERIN\\anaconda3\\lib\\site-packages\\pandas\\core\\tools\\datetimes.py:1047: UserWarning: Parsing '16-06-2022' in DD/MM/YYYY format. Provide format or specify infer_datetime_format=True for consistent parsing.\n",
      "  cache_array = _maybe_cache(arg, format, cache, convert_listlike)\n",
      "C:\\Users\\JERIN\\anaconda3\\lib\\site-packages\\pandas\\core\\tools\\datetimes.py:1047: UserWarning: Parsing '15-06-2022' in DD/MM/YYYY format. Provide format or specify infer_datetime_format=True for consistent parsing.\n",
      "  cache_array = _maybe_cache(arg, format, cache, convert_listlike)\n",
      "C:\\Users\\JERIN\\anaconda3\\lib\\site-packages\\pandas\\core\\tools\\datetimes.py:1047: UserWarning: Parsing '14-06-2022' in DD/MM/YYYY format. Provide format or specify infer_datetime_format=True for consistent parsing.\n",
      "  cache_array = _maybe_cache(arg, format, cache, convert_listlike)\n",
      "C:\\Users\\JERIN\\anaconda3\\lib\\site-packages\\pandas\\core\\tools\\datetimes.py:1047: UserWarning: Parsing '13-06-2022' in DD/MM/YYYY format. Provide format or specify infer_datetime_format=True for consistent parsing.\n",
      "  cache_array = _maybe_cache(arg, format, cache, convert_listlike)\n",
      "C:\\Users\\JERIN\\anaconda3\\lib\\site-packages\\pandas\\core\\tools\\datetimes.py:1047: UserWarning: Parsing '31-05-2022' in DD/MM/YYYY format. Provide format or specify infer_datetime_format=True for consistent parsing.\n",
      "  cache_array = _maybe_cache(arg, format, cache, convert_listlike)\n",
      "C:\\Users\\JERIN\\anaconda3\\lib\\site-packages\\pandas\\core\\tools\\datetimes.py:1047: UserWarning: Parsing '30-05-2022' in DD/MM/YYYY format. Provide format or specify infer_datetime_format=True for consistent parsing.\n",
      "  cache_array = _maybe_cache(arg, format, cache, convert_listlike)\n",
      "C:\\Users\\JERIN\\anaconda3\\lib\\site-packages\\pandas\\core\\tools\\datetimes.py:1047: UserWarning: Parsing '27-05-2022' in DD/MM/YYYY format. Provide format or specify infer_datetime_format=True for consistent parsing.\n",
      "  cache_array = _maybe_cache(arg, format, cache, convert_listlike)\n",
      "C:\\Users\\JERIN\\anaconda3\\lib\\site-packages\\pandas\\core\\tools\\datetimes.py:1047: UserWarning: Parsing '26-05-2022' in DD/MM/YYYY format. Provide format or specify infer_datetime_format=True for consistent parsing.\n",
      "  cache_array = _maybe_cache(arg, format, cache, convert_listlike)\n",
      "C:\\Users\\JERIN\\anaconda3\\lib\\site-packages\\pandas\\core\\tools\\datetimes.py:1047: UserWarning: Parsing '25-05-2022' in DD/MM/YYYY format. Provide format or specify infer_datetime_format=True for consistent parsing.\n",
      "  cache_array = _maybe_cache(arg, format, cache, convert_listlike)\n",
      "C:\\Users\\JERIN\\anaconda3\\lib\\site-packages\\pandas\\core\\tools\\datetimes.py:1047: UserWarning: Parsing '24-05-2022' in DD/MM/YYYY format. Provide format or specify infer_datetime_format=True for consistent parsing.\n",
      "  cache_array = _maybe_cache(arg, format, cache, convert_listlike)\n",
      "C:\\Users\\JERIN\\anaconda3\\lib\\site-packages\\pandas\\core\\tools\\datetimes.py:1047: UserWarning: Parsing '23-05-2022' in DD/MM/YYYY format. Provide format or specify infer_datetime_format=True for consistent parsing.\n",
      "  cache_array = _maybe_cache(arg, format, cache, convert_listlike)\n",
      "C:\\Users\\JERIN\\anaconda3\\lib\\site-packages\\pandas\\core\\tools\\datetimes.py:1047: UserWarning: Parsing '21-05-2022' in DD/MM/YYYY format. Provide format or specify infer_datetime_format=True for consistent parsing.\n",
      "  cache_array = _maybe_cache(arg, format, cache, convert_listlike)\n",
      "C:\\Users\\JERIN\\anaconda3\\lib\\site-packages\\pandas\\core\\tools\\datetimes.py:1047: UserWarning: Parsing '20-05-2022' in DD/MM/YYYY format. Provide format or specify infer_datetime_format=True for consistent parsing.\n",
      "  cache_array = _maybe_cache(arg, format, cache, convert_listlike)\n",
      "C:\\Users\\JERIN\\anaconda3\\lib\\site-packages\\pandas\\core\\tools\\datetimes.py:1047: UserWarning: Parsing '19-05-2022' in DD/MM/YYYY format. Provide format or specify infer_datetime_format=True for consistent parsing.\n",
      "  cache_array = _maybe_cache(arg, format, cache, convert_listlike)\n",
      "C:\\Users\\JERIN\\anaconda3\\lib\\site-packages\\pandas\\core\\tools\\datetimes.py:1047: UserWarning: Parsing '18-05-2022' in DD/MM/YYYY format. Provide format or specify infer_datetime_format=True for consistent parsing.\n",
      "  cache_array = _maybe_cache(arg, format, cache, convert_listlike)\n",
      "C:\\Users\\JERIN\\anaconda3\\lib\\site-packages\\pandas\\core\\tools\\datetimes.py:1047: UserWarning: Parsing '17-05-2022' in DD/MM/YYYY format. Provide format or specify infer_datetime_format=True for consistent parsing.\n",
      "  cache_array = _maybe_cache(arg, format, cache, convert_listlike)\n",
      "C:\\Users\\JERIN\\anaconda3\\lib\\site-packages\\pandas\\core\\tools\\datetimes.py:1047: UserWarning: Parsing '16-05-2022' in DD/MM/YYYY format. Provide format or specify infer_datetime_format=True for consistent parsing.\n",
      "  cache_array = _maybe_cache(arg, format, cache, convert_listlike)\n",
      "C:\\Users\\JERIN\\anaconda3\\lib\\site-packages\\pandas\\core\\tools\\datetimes.py:1047: UserWarning: Parsing '14-05-2022' in DD/MM/YYYY format. Provide format or specify infer_datetime_format=True for consistent parsing.\n",
      "  cache_array = _maybe_cache(arg, format, cache, convert_listlike)\n",
      "C:\\Users\\JERIN\\anaconda3\\lib\\site-packages\\pandas\\core\\tools\\datetimes.py:1047: UserWarning: Parsing '13-05-2022' in DD/MM/YYYY format. Provide format or specify infer_datetime_format=True for consistent parsing.\n",
      "  cache_array = _maybe_cache(arg, format, cache, convert_listlike)\n",
      "C:\\Users\\JERIN\\anaconda3\\lib\\site-packages\\pandas\\core\\tools\\datetimes.py:1047: UserWarning: Parsing '29-04-2022' in DD/MM/YYYY format. Provide format or specify infer_datetime_format=True for consistent parsing.\n",
      "  cache_array = _maybe_cache(arg, format, cache, convert_listlike)\n",
      "C:\\Users\\JERIN\\anaconda3\\lib\\site-packages\\pandas\\core\\tools\\datetimes.py:1047: UserWarning: Parsing '28-04-2022' in DD/MM/YYYY format. Provide format or specify infer_datetime_format=True for consistent parsing.\n",
      "  cache_array = _maybe_cache(arg, format, cache, convert_listlike)\n",
      "C:\\Users\\JERIN\\anaconda3\\lib\\site-packages\\pandas\\core\\tools\\datetimes.py:1047: UserWarning: Parsing '27-04-2022' in DD/MM/YYYY format. Provide format or specify infer_datetime_format=True for consistent parsing.\n",
      "  cache_array = _maybe_cache(arg, format, cache, convert_listlike)\n",
      "C:\\Users\\JERIN\\anaconda3\\lib\\site-packages\\pandas\\core\\tools\\datetimes.py:1047: UserWarning: Parsing '26-04-2022' in DD/MM/YYYY format. Provide format or specify infer_datetime_format=True for consistent parsing.\n",
      "  cache_array = _maybe_cache(arg, format, cache, convert_listlike)\n",
      "C:\\Users\\JERIN\\anaconda3\\lib\\site-packages\\pandas\\core\\tools\\datetimes.py:1047: UserWarning: Parsing '25-04-2022' in DD/MM/YYYY format. Provide format or specify infer_datetime_format=True for consistent parsing.\n",
      "  cache_array = _maybe_cache(arg, format, cache, convert_listlike)\n",
      "C:\\Users\\JERIN\\anaconda3\\lib\\site-packages\\pandas\\core\\tools\\datetimes.py:1047: UserWarning: Parsing '21-04-2022' in DD/MM/YYYY format. Provide format or specify infer_datetime_format=True for consistent parsing.\n",
      "  cache_array = _maybe_cache(arg, format, cache, convert_listlike)\n",
      "C:\\Users\\JERIN\\anaconda3\\lib\\site-packages\\pandas\\core\\tools\\datetimes.py:1047: UserWarning: Parsing '20-04-2022' in DD/MM/YYYY format. Provide format or specify infer_datetime_format=True for consistent parsing.\n",
      "  cache_array = _maybe_cache(arg, format, cache, convert_listlike)\n",
      "C:\\Users\\JERIN\\anaconda3\\lib\\site-packages\\pandas\\core\\tools\\datetimes.py:1047: UserWarning: Parsing '19-04-2022' in DD/MM/YYYY format. Provide format or specify infer_datetime_format=True for consistent parsing.\n",
      "  cache_array = _maybe_cache(arg, format, cache, convert_listlike)\n",
      "C:\\Users\\JERIN\\anaconda3\\lib\\site-packages\\pandas\\core\\tools\\datetimes.py:1047: UserWarning: Parsing '18-04-2022' in DD/MM/YYYY format. Provide format or specify infer_datetime_format=True for consistent parsing.\n",
      "  cache_array = _maybe_cache(arg, format, cache, convert_listlike)\n",
      "C:\\Users\\JERIN\\anaconda3\\lib\\site-packages\\pandas\\core\\tools\\datetimes.py:1047: UserWarning: Parsing '15-04-2022' in DD/MM/YYYY format. Provide format or specify infer_datetime_format=True for consistent parsing.\n",
      "  cache_array = _maybe_cache(arg, format, cache, convert_listlike)\n",
      "C:\\Users\\JERIN\\anaconda3\\lib\\site-packages\\pandas\\core\\tools\\datetimes.py:1047: UserWarning: Parsing '14-04-2022' in DD/MM/YYYY format. Provide format or specify infer_datetime_format=True for consistent parsing.\n",
      "  cache_array = _maybe_cache(arg, format, cache, convert_listlike)\n",
      "C:\\Users\\JERIN\\anaconda3\\lib\\site-packages\\pandas\\core\\tools\\datetimes.py:1047: UserWarning: Parsing '31-03-2022' in DD/MM/YYYY format. Provide format or specify infer_datetime_format=True for consistent parsing.\n",
      "  cache_array = _maybe_cache(arg, format, cache, convert_listlike)\n",
      "C:\\Users\\JERIN\\anaconda3\\lib\\site-packages\\pandas\\core\\tools\\datetimes.py:1047: UserWarning: Parsing '30-03-2022' in DD/MM/YYYY format. Provide format or specify infer_datetime_format=True for consistent parsing.\n",
      "  cache_array = _maybe_cache(arg, format, cache, convert_listlike)\n",
      "C:\\Users\\JERIN\\anaconda3\\lib\\site-packages\\pandas\\core\\tools\\datetimes.py:1047: UserWarning: Parsing '29-03-2022' in DD/MM/YYYY format. Provide format or specify infer_datetime_format=True for consistent parsing.\n",
      "  cache_array = _maybe_cache(arg, format, cache, convert_listlike)\n",
      "C:\\Users\\JERIN\\anaconda3\\lib\\site-packages\\pandas\\core\\tools\\datetimes.py:1047: UserWarning: Parsing '26-03-2022' in DD/MM/YYYY format. Provide format or specify infer_datetime_format=True for consistent parsing.\n",
      "  cache_array = _maybe_cache(arg, format, cache, convert_listlike)\n",
      "C:\\Users\\JERIN\\anaconda3\\lib\\site-packages\\pandas\\core\\tools\\datetimes.py:1047: UserWarning: Parsing '19-03-2022' in DD/MM/YYYY format. Provide format or specify infer_datetime_format=True for consistent parsing.\n",
      "  cache_array = _maybe_cache(arg, format, cache, convert_listlike)\n",
      "C:\\Users\\JERIN\\anaconda3\\lib\\site-packages\\pandas\\core\\tools\\datetimes.py:1047: UserWarning: Parsing '17-03-2022' in DD/MM/YYYY format. Provide format or specify infer_datetime_format=True for consistent parsing.\n",
      "  cache_array = _maybe_cache(arg, format, cache, convert_listlike)\n",
      "C:\\Users\\JERIN\\anaconda3\\lib\\site-packages\\pandas\\core\\tools\\datetimes.py:1047: UserWarning: Parsing '16-03-2022' in DD/MM/YYYY format. Provide format or specify infer_datetime_format=True for consistent parsing.\n",
      "  cache_array = _maybe_cache(arg, format, cache, convert_listlike)\n",
      "C:\\Users\\JERIN\\anaconda3\\lib\\site-packages\\pandas\\core\\tools\\datetimes.py:1047: UserWarning: Parsing '15-03-2022' in DD/MM/YYYY format. Provide format or specify infer_datetime_format=True for consistent parsing.\n",
      "  cache_array = _maybe_cache(arg, format, cache, convert_listlike)\n",
      "C:\\Users\\JERIN\\anaconda3\\lib\\site-packages\\pandas\\core\\tools\\datetimes.py:1047: UserWarning: Parsing '25-02-2022' in DD/MM/YYYY format. Provide format or specify infer_datetime_format=True for consistent parsing.\n",
      "  cache_array = _maybe_cache(arg, format, cache, convert_listlike)\n",
      "C:\\Users\\JERIN\\anaconda3\\lib\\site-packages\\pandas\\core\\tools\\datetimes.py:1047: UserWarning: Parsing '24-02-2022' in DD/MM/YYYY format. Provide format or specify infer_datetime_format=True for consistent parsing.\n",
      "  cache_array = _maybe_cache(arg, format, cache, convert_listlike)\n",
      "C:\\Users\\JERIN\\anaconda3\\lib\\site-packages\\pandas\\core\\tools\\datetimes.py:1047: UserWarning: Parsing '21-02-2022' in DD/MM/YYYY format. Provide format or specify infer_datetime_format=True for consistent parsing.\n",
      "  cache_array = _maybe_cache(arg, format, cache, convert_listlike)\n",
      "C:\\Users\\JERIN\\anaconda3\\lib\\site-packages\\pandas\\core\\tools\\datetimes.py:1047: UserWarning: Parsing '17-02-2022' in DD/MM/YYYY format. Provide format or specify infer_datetime_format=True for consistent parsing.\n",
      "  cache_array = _maybe_cache(arg, format, cache, convert_listlike)\n",
      "C:\\Users\\JERIN\\anaconda3\\lib\\site-packages\\pandas\\core\\tools\\datetimes.py:1047: UserWarning: Parsing '16-02-2022' in DD/MM/YYYY format. Provide format or specify infer_datetime_format=True for consistent parsing.\n",
      "  cache_array = _maybe_cache(arg, format, cache, convert_listlike)\n",
      "C:\\Users\\JERIN\\anaconda3\\lib\\site-packages\\pandas\\core\\tools\\datetimes.py:1047: UserWarning: Parsing '14-02-2022' in DD/MM/YYYY format. Provide format or specify infer_datetime_format=True for consistent parsing.\n",
      "  cache_array = _maybe_cache(arg, format, cache, convert_listlike)\n",
      "C:\\Users\\JERIN\\anaconda3\\lib\\site-packages\\pandas\\core\\tools\\datetimes.py:1047: UserWarning: Parsing '26-01-2022' in DD/MM/YYYY format. Provide format or specify infer_datetime_format=True for consistent parsing.\n",
      "  cache_array = _maybe_cache(arg, format, cache, convert_listlike)\n",
      "C:\\Users\\JERIN\\anaconda3\\lib\\site-packages\\pandas\\core\\tools\\datetimes.py:1047: UserWarning: Parsing '20-01-2022' in DD/MM/YYYY format. Provide format or specify infer_datetime_format=True for consistent parsing.\n",
      "  cache_array = _maybe_cache(arg, format, cache, convert_listlike)\n",
      "C:\\Users\\JERIN\\anaconda3\\lib\\site-packages\\pandas\\core\\tools\\datetimes.py:1047: UserWarning: Parsing '22-12-2021' in DD/MM/YYYY format. Provide format or specify infer_datetime_format=True for consistent parsing.\n",
      "  cache_array = _maybe_cache(arg, format, cache, convert_listlike)\n",
      "C:\\Users\\JERIN\\anaconda3\\lib\\site-packages\\pandas\\core\\tools\\datetimes.py:1047: UserWarning: Parsing '18-11-2021' in DD/MM/YYYY format. Provide format or specify infer_datetime_format=True for consistent parsing.\n",
      "  cache_array = _maybe_cache(arg, format, cache, convert_listlike)\n",
      "C:\\Users\\JERIN\\anaconda3\\lib\\site-packages\\pandas\\core\\tools\\datetimes.py:1047: UserWarning: Parsing '23-09-2021' in DD/MM/YYYY format. Provide format or specify infer_datetime_format=True for consistent parsing.\n",
      "  cache_array = _maybe_cache(arg, format, cache, convert_listlike)\n",
      "C:\\Users\\JERIN\\anaconda3\\lib\\site-packages\\pandas\\core\\tools\\datetimes.py:1047: UserWarning: Parsing '22-09-2021' in DD/MM/YYYY format. Provide format or specify infer_datetime_format=True for consistent parsing.\n",
      "  cache_array = _maybe_cache(arg, format, cache, convert_listlike)\n",
      "C:\\Users\\JERIN\\anaconda3\\lib\\site-packages\\pandas\\core\\tools\\datetimes.py:1047: UserWarning: Parsing '15-09-2021' in DD/MM/YYYY format. Provide format or specify infer_datetime_format=True for consistent parsing.\n",
      "  cache_array = _maybe_cache(arg, format, cache, convert_listlike)\n",
      "C:\\Users\\JERIN\\anaconda3\\lib\\site-packages\\pandas\\core\\tools\\datetimes.py:1047: UserWarning: Parsing '14-09-2021' in DD/MM/YYYY format. Provide format or specify infer_datetime_format=True for consistent parsing.\n",
      "  cache_array = _maybe_cache(arg, format, cache, convert_listlike)\n",
      "C:\\Users\\JERIN\\anaconda3\\lib\\site-packages\\pandas\\core\\tools\\datetimes.py:1047: UserWarning: Parsing '30-08-2021' in DD/MM/YYYY format. Provide format or specify infer_datetime_format=True for consistent parsing.\n",
      "  cache_array = _maybe_cache(arg, format, cache, convert_listlike)\n",
      "C:\\Users\\JERIN\\anaconda3\\lib\\site-packages\\pandas\\core\\tools\\datetimes.py:1047: UserWarning: Parsing '24-08-2021' in DD/MM/YYYY format. Provide format or specify infer_datetime_format=True for consistent parsing.\n",
      "  cache_array = _maybe_cache(arg, format, cache, convert_listlike)\n",
      "C:\\Users\\JERIN\\anaconda3\\lib\\site-packages\\pandas\\core\\tools\\datetimes.py:1047: UserWarning: Parsing '26-07-2021' in DD/MM/YYYY format. Provide format or specify infer_datetime_format=True for consistent parsing.\n",
      "  cache_array = _maybe_cache(arg, format, cache, convert_listlike)\n",
      "C:\\Users\\JERIN\\anaconda3\\lib\\site-packages\\pandas\\core\\tools\\datetimes.py:1047: UserWarning: Parsing '29-04-2021' in DD/MM/YYYY format. Provide format or specify infer_datetime_format=True for consistent parsing.\n",
      "  cache_array = _maybe_cache(arg, format, cache, convert_listlike)\n",
      "C:\\Users\\JERIN\\anaconda3\\lib\\site-packages\\pandas\\core\\tools\\datetimes.py:1047: UserWarning: Parsing '26-04-2021' in DD/MM/YYYY format. Provide format or specify infer_datetime_format=True for consistent parsing.\n",
      "  cache_array = _maybe_cache(arg, format, cache, convert_listlike)\n",
      "C:\\Users\\JERIN\\anaconda3\\lib\\site-packages\\pandas\\core\\tools\\datetimes.py:1047: UserWarning: Parsing '24-03-2021' in DD/MM/YYYY format. Provide format or specify infer_datetime_format=True for consistent parsing.\n",
      "  cache_array = _maybe_cache(arg, format, cache, convert_listlike)\n",
      "C:\\Users\\JERIN\\anaconda3\\lib\\site-packages\\pandas\\core\\tools\\datetimes.py:1047: UserWarning: Parsing '24-02-2021' in DD/MM/YYYY format. Provide format or specify infer_datetime_format=True for consistent parsing.\n",
      "  cache_array = _maybe_cache(arg, format, cache, convert_listlike)\n",
      "C:\\Users\\JERIN\\anaconda3\\lib\\site-packages\\pandas\\core\\tools\\datetimes.py:1047: UserWarning: Parsing '23-02-2021' in DD/MM/YYYY format. Provide format or specify infer_datetime_format=True for consistent parsing.\n",
      "  cache_array = _maybe_cache(arg, format, cache, convert_listlike)\n",
      "C:\\Users\\JERIN\\anaconda3\\lib\\site-packages\\pandas\\core\\tools\\datetimes.py:1047: UserWarning: Parsing '22-02-2021' in DD/MM/YYYY format. Provide format or specify infer_datetime_format=True for consistent parsing.\n",
      "  cache_array = _maybe_cache(arg, format, cache, convert_listlike)\n",
      "C:\\Users\\JERIN\\anaconda3\\lib\\site-packages\\pandas\\core\\tools\\datetimes.py:1047: UserWarning: Parsing '27-01-2021' in DD/MM/YYYY format. Provide format or specify infer_datetime_format=True for consistent parsing.\n",
      "  cache_array = _maybe_cache(arg, format, cache, convert_listlike)\n",
      "C:\\Users\\JERIN\\anaconda3\\lib\\site-packages\\pandas\\core\\tools\\datetimes.py:1047: UserWarning: Parsing '25-01-2021' in DD/MM/YYYY format. Provide format or specify infer_datetime_format=True for consistent parsing.\n",
      "  cache_array = _maybe_cache(arg, format, cache, convert_listlike)\n",
      "C:\\Users\\JERIN\\anaconda3\\lib\\site-packages\\pandas\\core\\tools\\datetimes.py:1047: UserWarning: Parsing '23-01-2021' in DD/MM/YYYY format. Provide format or specify infer_datetime_format=True for consistent parsing.\n",
      "  cache_array = _maybe_cache(arg, format, cache, convert_listlike)\n",
      "C:\\Users\\JERIN\\anaconda3\\lib\\site-packages\\pandas\\core\\tools\\datetimes.py:1047: UserWarning: Parsing '21-01-2021' in DD/MM/YYYY format. Provide format or specify infer_datetime_format=True for consistent parsing.\n",
      "  cache_array = _maybe_cache(arg, format, cache, convert_listlike)\n",
      "C:\\Users\\JERIN\\anaconda3\\lib\\site-packages\\pandas\\core\\tools\\datetimes.py:1047: UserWarning: Parsing '20-01-2021' in DD/MM/YYYY format. Provide format or specify infer_datetime_format=True for consistent parsing.\n",
      "  cache_array = _maybe_cache(arg, format, cache, convert_listlike)\n",
      "C:\\Users\\JERIN\\anaconda3\\lib\\site-packages\\pandas\\core\\tools\\datetimes.py:1047: UserWarning: Parsing '13-01-2021' in DD/MM/YYYY format. Provide format or specify infer_datetime_format=True for consistent parsing.\n",
      "  cache_array = _maybe_cache(arg, format, cache, convert_listlike)\n",
      "C:\\Users\\JERIN\\anaconda3\\lib\\site-packages\\pandas\\core\\tools\\datetimes.py:1047: UserWarning: Parsing '23-12-2020' in DD/MM/YYYY format. Provide format or specify infer_datetime_format=True for consistent parsing.\n",
      "  cache_array = _maybe_cache(arg, format, cache, convert_listlike)\n",
      "C:\\Users\\JERIN\\anaconda3\\lib\\site-packages\\pandas\\core\\tools\\datetimes.py:1047: UserWarning: Parsing '16-12-2020' in DD/MM/YYYY format. Provide format or specify infer_datetime_format=True for consistent parsing.\n",
      "  cache_array = _maybe_cache(arg, format, cache, convert_listlike)\n",
      "C:\\Users\\JERIN\\anaconda3\\lib\\site-packages\\pandas\\core\\tools\\datetimes.py:1047: UserWarning: Parsing '25-11-2020' in DD/MM/YYYY format. Provide format or specify infer_datetime_format=True for consistent parsing.\n",
      "  cache_array = _maybe_cache(arg, format, cache, convert_listlike)\n",
      "C:\\Users\\JERIN\\anaconda3\\lib\\site-packages\\pandas\\core\\tools\\datetimes.py:1047: UserWarning: Parsing '19-11-2020' in DD/MM/YYYY format. Provide format or specify infer_datetime_format=True for consistent parsing.\n",
      "  cache_array = _maybe_cache(arg, format, cache, convert_listlike)\n",
      "C:\\Users\\JERIN\\anaconda3\\lib\\site-packages\\pandas\\core\\tools\\datetimes.py:1047: UserWarning: Parsing '18-11-2020' in DD/MM/YYYY format. Provide format or specify infer_datetime_format=True for consistent parsing.\n",
      "  cache_array = _maybe_cache(arg, format, cache, convert_listlike)\n",
      "C:\\Users\\JERIN\\anaconda3\\lib\\site-packages\\pandas\\core\\tools\\datetimes.py:1047: UserWarning: Parsing '17-11-2020' in DD/MM/YYYY format. Provide format or specify infer_datetime_format=True for consistent parsing.\n",
      "  cache_array = _maybe_cache(arg, format, cache, convert_listlike)\n",
      "C:\\Users\\JERIN\\anaconda3\\lib\\site-packages\\pandas\\core\\tools\\datetimes.py:1047: UserWarning: Parsing '29-10-2020' in DD/MM/YYYY format. Provide format or specify infer_datetime_format=True for consistent parsing.\n",
      "  cache_array = _maybe_cache(arg, format, cache, convert_listlike)\n",
      "C:\\Users\\JERIN\\anaconda3\\lib\\site-packages\\pandas\\core\\tools\\datetimes.py:1047: UserWarning: Parsing '25-10-2020' in DD/MM/YYYY format. Provide format or specify infer_datetime_format=True for consistent parsing.\n",
      "  cache_array = _maybe_cache(arg, format, cache, convert_listlike)\n",
      "C:\\Users\\JERIN\\anaconda3\\lib\\site-packages\\pandas\\core\\tools\\datetimes.py:1047: UserWarning: Parsing '23-10-2020' in DD/MM/YYYY format. Provide format or specify infer_datetime_format=True for consistent parsing.\n",
      "  cache_array = _maybe_cache(arg, format, cache, convert_listlike)\n",
      "C:\\Users\\JERIN\\anaconda3\\lib\\site-packages\\pandas\\core\\tools\\datetimes.py:1047: UserWarning: Parsing '21-10-2020' in DD/MM/YYYY format. Provide format or specify infer_datetime_format=True for consistent parsing.\n",
      "  cache_array = _maybe_cache(arg, format, cache, convert_listlike)\n",
      "C:\\Users\\JERIN\\anaconda3\\lib\\site-packages\\pandas\\core\\tools\\datetimes.py:1047: UserWarning: Parsing '20-10-2020' in DD/MM/YYYY format. Provide format or specify infer_datetime_format=True for consistent parsing.\n",
      "  cache_array = _maybe_cache(arg, format, cache, convert_listlike)\n",
      "C:\\Users\\JERIN\\anaconda3\\lib\\site-packages\\pandas\\core\\tools\\datetimes.py:1047: UserWarning: Parsing '14-10-2020' in DD/MM/YYYY format. Provide format or specify infer_datetime_format=True for consistent parsing.\n",
      "  cache_array = _maybe_cache(arg, format, cache, convert_listlike)\n",
      "C:\\Users\\JERIN\\anaconda3\\lib\\site-packages\\pandas\\core\\tools\\datetimes.py:1047: UserWarning: Parsing '29-09-2020' in DD/MM/YYYY format. Provide format or specify infer_datetime_format=True for consistent parsing.\n",
      "  cache_array = _maybe_cache(arg, format, cache, convert_listlike)\n",
      "C:\\Users\\JERIN\\anaconda3\\lib\\site-packages\\pandas\\core\\tools\\datetimes.py:1047: UserWarning: Parsing '25-09-2020' in DD/MM/YYYY format. Provide format or specify infer_datetime_format=True for consistent parsing.\n",
      "  cache_array = _maybe_cache(arg, format, cache, convert_listlike)\n",
      "C:\\Users\\JERIN\\anaconda3\\lib\\site-packages\\pandas\\core\\tools\\datetimes.py:1047: UserWarning: Parsing '23-09-2020' in DD/MM/YYYY format. Provide format or specify infer_datetime_format=True for consistent parsing.\n",
      "  cache_array = _maybe_cache(arg, format, cache, convert_listlike)\n",
      "C:\\Users\\JERIN\\anaconda3\\lib\\site-packages\\pandas\\core\\tools\\datetimes.py:1047: UserWarning: Parsing '16-09-2020' in DD/MM/YYYY format. Provide format or specify infer_datetime_format=True for consistent parsing.\n",
      "  cache_array = _maybe_cache(arg, format, cache, convert_listlike)\n",
      "C:\\Users\\JERIN\\anaconda3\\lib\\site-packages\\pandas\\core\\tools\\datetimes.py:1047: UserWarning: Parsing '31-08-2020' in DD/MM/YYYY format. Provide format or specify infer_datetime_format=True for consistent parsing.\n",
      "  cache_array = _maybe_cache(arg, format, cache, convert_listlike)\n",
      "C:\\Users\\JERIN\\anaconda3\\lib\\site-packages\\pandas\\core\\tools\\datetimes.py:1047: UserWarning: Parsing '26-08-2020' in DD/MM/YYYY format. Provide format or specify infer_datetime_format=True for consistent parsing.\n",
      "  cache_array = _maybe_cache(arg, format, cache, convert_listlike)\n",
      "C:\\Users\\JERIN\\anaconda3\\lib\\site-packages\\pandas\\core\\tools\\datetimes.py:1047: UserWarning: Parsing '24-08-2020' in DD/MM/YYYY format. Provide format or specify infer_datetime_format=True for consistent parsing.\n",
      "  cache_array = _maybe_cache(arg, format, cache, convert_listlike)\n",
      "C:\\Users\\JERIN\\anaconda3\\lib\\site-packages\\pandas\\core\\tools\\datetimes.py:1047: UserWarning: Parsing '20-08-2020' in DD/MM/YYYY format. Provide format or specify infer_datetime_format=True for consistent parsing.\n",
      "  cache_array = _maybe_cache(arg, format, cache, convert_listlike)\n",
      "C:\\Users\\JERIN\\anaconda3\\lib\\site-packages\\pandas\\core\\tools\\datetimes.py:1047: UserWarning: Parsing '19-08-2020' in DD/MM/YYYY format. Provide format or specify infer_datetime_format=True for consistent parsing.\n",
      "  cache_array = _maybe_cache(arg, format, cache, convert_listlike)\n",
      "C:\\Users\\JERIN\\anaconda3\\lib\\site-packages\\pandas\\core\\tools\\datetimes.py:1047: UserWarning: Parsing '18-08-2020' in DD/MM/YYYY format. Provide format or specify infer_datetime_format=True for consistent parsing.\n",
      "  cache_array = _maybe_cache(arg, format, cache, convert_listlike)\n",
      "C:\\Users\\JERIN\\anaconda3\\lib\\site-packages\\pandas\\core\\tools\\datetimes.py:1047: UserWarning: Parsing '17-08-2020' in DD/MM/YYYY format. Provide format or specify infer_datetime_format=True for consistent parsing.\n",
      "  cache_array = _maybe_cache(arg, format, cache, convert_listlike)\n",
      "C:\\Users\\JERIN\\anaconda3\\lib\\site-packages\\pandas\\core\\tools\\datetimes.py:1047: UserWarning: Parsing '14-08-2020' in DD/MM/YYYY format. Provide format or specify infer_datetime_format=True for consistent parsing.\n",
      "  cache_array = _maybe_cache(arg, format, cache, convert_listlike)\n",
      "C:\\Users\\JERIN\\anaconda3\\lib\\site-packages\\pandas\\core\\tools\\datetimes.py:1047: UserWarning: Parsing '30-07-2020' in DD/MM/YYYY format. Provide format or specify infer_datetime_format=True for consistent parsing.\n",
      "  cache_array = _maybe_cache(arg, format, cache, convert_listlike)\n",
      "C:\\Users\\JERIN\\anaconda3\\lib\\site-packages\\pandas\\core\\tools\\datetimes.py:1047: UserWarning: Parsing '29-07-2020' in DD/MM/YYYY format. Provide format or specify infer_datetime_format=True for consistent parsing.\n",
      "  cache_array = _maybe_cache(arg, format, cache, convert_listlike)\n",
      "C:\\Users\\JERIN\\anaconda3\\lib\\site-packages\\pandas\\core\\tools\\datetimes.py:1047: UserWarning: Parsing '28-07-2020' in DD/MM/YYYY format. Provide format or specify infer_datetime_format=True for consistent parsing.\n",
      "  cache_array = _maybe_cache(arg, format, cache, convert_listlike)\n",
      "C:\\Users\\JERIN\\anaconda3\\lib\\site-packages\\pandas\\core\\tools\\datetimes.py:1047: UserWarning: Parsing '27-07-2020' in DD/MM/YYYY format. Provide format or specify infer_datetime_format=True for consistent parsing.\n",
      "  cache_array = _maybe_cache(arg, format, cache, convert_listlike)\n",
      "C:\\Users\\JERIN\\anaconda3\\lib\\site-packages\\pandas\\core\\tools\\datetimes.py:1047: UserWarning: Parsing '23-07-2020' in DD/MM/YYYY format. Provide format or specify infer_datetime_format=True for consistent parsing.\n",
      "  cache_array = _maybe_cache(arg, format, cache, convert_listlike)\n",
      "C:\\Users\\JERIN\\anaconda3\\lib\\site-packages\\pandas\\core\\tools\\datetimes.py:1047: UserWarning: Parsing '21-07-2020' in DD/MM/YYYY format. Provide format or specify infer_datetime_format=True for consistent parsing.\n",
      "  cache_array = _maybe_cache(arg, format, cache, convert_listlike)\n",
      "C:\\Users\\JERIN\\anaconda3\\lib\\site-packages\\pandas\\core\\tools\\datetimes.py:1047: UserWarning: Parsing '20-07-2020' in DD/MM/YYYY format. Provide format or specify infer_datetime_format=True for consistent parsing.\n",
      "  cache_array = _maybe_cache(arg, format, cache, convert_listlike)\n",
      "C:\\Users\\JERIN\\anaconda3\\lib\\site-packages\\pandas\\core\\tools\\datetimes.py:1047: UserWarning: Parsing '17-07-2020' in DD/MM/YYYY format. Provide format or specify infer_datetime_format=True for consistent parsing.\n",
      "  cache_array = _maybe_cache(arg, format, cache, convert_listlike)\n",
      "C:\\Users\\JERIN\\anaconda3\\lib\\site-packages\\pandas\\core\\tools\\datetimes.py:1047: UserWarning: Parsing '16-07-2020' in DD/MM/YYYY format. Provide format or specify infer_datetime_format=True for consistent parsing.\n",
      "  cache_array = _maybe_cache(arg, format, cache, convert_listlike)\n",
      "C:\\Users\\JERIN\\anaconda3\\lib\\site-packages\\pandas\\core\\tools\\datetimes.py:1047: UserWarning: Parsing '15-07-2020' in DD/MM/YYYY format. Provide format or specify infer_datetime_format=True for consistent parsing.\n",
      "  cache_array = _maybe_cache(arg, format, cache, convert_listlike)\n",
      "C:\\Users\\JERIN\\anaconda3\\lib\\site-packages\\pandas\\core\\tools\\datetimes.py:1047: UserWarning: Parsing '14-07-2020' in DD/MM/YYYY format. Provide format or specify infer_datetime_format=True for consistent parsing.\n",
      "  cache_array = _maybe_cache(arg, format, cache, convert_listlike)\n",
      "C:\\Users\\JERIN\\anaconda3\\lib\\site-packages\\pandas\\core\\tools\\datetimes.py:1047: UserWarning: Parsing '13-07-2020' in DD/MM/YYYY format. Provide format or specify infer_datetime_format=True for consistent parsing.\n",
      "  cache_array = _maybe_cache(arg, format, cache, convert_listlike)\n",
      "C:\\Users\\JERIN\\anaconda3\\lib\\site-packages\\pandas\\core\\tools\\datetimes.py:1047: UserWarning: Parsing '30-06-2020' in DD/MM/YYYY format. Provide format or specify infer_datetime_format=True for consistent parsing.\n",
      "  cache_array = _maybe_cache(arg, format, cache, convert_listlike)\n",
      "C:\\Users\\JERIN\\anaconda3\\lib\\site-packages\\pandas\\core\\tools\\datetimes.py:1047: UserWarning: Parsing '29-06-2020' in DD/MM/YYYY format. Provide format or specify infer_datetime_format=True for consistent parsing.\n",
      "  cache_array = _maybe_cache(arg, format, cache, convert_listlike)\n",
      "C:\\Users\\JERIN\\anaconda3\\lib\\site-packages\\pandas\\core\\tools\\datetimes.py:1047: UserWarning: Parsing '28-06-2020' in DD/MM/YYYY format. Provide format or specify infer_datetime_format=True for consistent parsing.\n",
      "  cache_array = _maybe_cache(arg, format, cache, convert_listlike)\n",
      "C:\\Users\\JERIN\\anaconda3\\lib\\site-packages\\pandas\\core\\tools\\datetimes.py:1047: UserWarning: Parsing '27-06-2020' in DD/MM/YYYY format. Provide format or specify infer_datetime_format=True for consistent parsing.\n",
      "  cache_array = _maybe_cache(arg, format, cache, convert_listlike)\n",
      "C:\\Users\\JERIN\\anaconda3\\lib\\site-packages\\pandas\\core\\tools\\datetimes.py:1047: UserWarning: Parsing '25-06-2020' in DD/MM/YYYY format. Provide format or specify infer_datetime_format=True for consistent parsing.\n",
      "  cache_array = _maybe_cache(arg, format, cache, convert_listlike)\n",
      "C:\\Users\\JERIN\\anaconda3\\lib\\site-packages\\pandas\\core\\tools\\datetimes.py:1047: UserWarning: Parsing '24-06-2020' in DD/MM/YYYY format. Provide format or specify infer_datetime_format=True for consistent parsing.\n",
      "  cache_array = _maybe_cache(arg, format, cache, convert_listlike)\n",
      "C:\\Users\\JERIN\\anaconda3\\lib\\site-packages\\pandas\\core\\tools\\datetimes.py:1047: UserWarning: Parsing '23-06-2020' in DD/MM/YYYY format. Provide format or specify infer_datetime_format=True for consistent parsing.\n",
      "  cache_array = _maybe_cache(arg, format, cache, convert_listlike)\n",
      "C:\\Users\\JERIN\\anaconda3\\lib\\site-packages\\pandas\\core\\tools\\datetimes.py:1047: UserWarning: Parsing '22-06-2020' in DD/MM/YYYY format. Provide format or specify infer_datetime_format=True for consistent parsing.\n",
      "  cache_array = _maybe_cache(arg, format, cache, convert_listlike)\n",
      "C:\\Users\\JERIN\\anaconda3\\lib\\site-packages\\pandas\\core\\tools\\datetimes.py:1047: UserWarning: Parsing '19-06-2020' in DD/MM/YYYY format. Provide format or specify infer_datetime_format=True for consistent parsing.\n",
      "  cache_array = _maybe_cache(arg, format, cache, convert_listlike)\n",
      "C:\\Users\\JERIN\\anaconda3\\lib\\site-packages\\pandas\\core\\tools\\datetimes.py:1047: UserWarning: Parsing '18-06-2020' in DD/MM/YYYY format. Provide format or specify infer_datetime_format=True for consistent parsing.\n",
      "  cache_array = _maybe_cache(arg, format, cache, convert_listlike)\n",
      "C:\\Users\\JERIN\\anaconda3\\lib\\site-packages\\pandas\\core\\tools\\datetimes.py:1047: UserWarning: Parsing '17-06-2020' in DD/MM/YYYY format. Provide format or specify infer_datetime_format=True for consistent parsing.\n",
      "  cache_array = _maybe_cache(arg, format, cache, convert_listlike)\n",
      "C:\\Users\\JERIN\\anaconda3\\lib\\site-packages\\pandas\\core\\tools\\datetimes.py:1047: UserWarning: Parsing '16-06-2020' in DD/MM/YYYY format. Provide format or specify infer_datetime_format=True for consistent parsing.\n",
      "  cache_array = _maybe_cache(arg, format, cache, convert_listlike)\n",
      "C:\\Users\\JERIN\\anaconda3\\lib\\site-packages\\pandas\\core\\tools\\datetimes.py:1047: UserWarning: Parsing '15-06-2020' in DD/MM/YYYY format. Provide format or specify infer_datetime_format=True for consistent parsing.\n",
      "  cache_array = _maybe_cache(arg, format, cache, convert_listlike)\n",
      "C:\\Users\\JERIN\\anaconda3\\lib\\site-packages\\pandas\\core\\tools\\datetimes.py:1047: UserWarning: Parsing '29-05-2020' in DD/MM/YYYY format. Provide format or specify infer_datetime_format=True for consistent parsing.\n",
      "  cache_array = _maybe_cache(arg, format, cache, convert_listlike)\n",
      "C:\\Users\\JERIN\\anaconda3\\lib\\site-packages\\pandas\\core\\tools\\datetimes.py:1047: UserWarning: Parsing '28-05-2020' in DD/MM/YYYY format. Provide format or specify infer_datetime_format=True for consistent parsing.\n",
      "  cache_array = _maybe_cache(arg, format, cache, convert_listlike)\n",
      "C:\\Users\\JERIN\\anaconda3\\lib\\site-packages\\pandas\\core\\tools\\datetimes.py:1047: UserWarning: Parsing '27-05-2020' in DD/MM/YYYY format. Provide format or specify infer_datetime_format=True for consistent parsing.\n",
      "  cache_array = _maybe_cache(arg, format, cache, convert_listlike)\n",
      "C:\\Users\\JERIN\\anaconda3\\lib\\site-packages\\pandas\\core\\tools\\datetimes.py:1047: UserWarning: Parsing '26-05-2020' in DD/MM/YYYY format. Provide format or specify infer_datetime_format=True for consistent parsing.\n",
      "  cache_array = _maybe_cache(arg, format, cache, convert_listlike)\n",
      "C:\\Users\\JERIN\\anaconda3\\lib\\site-packages\\pandas\\core\\tools\\datetimes.py:1047: UserWarning: Parsing '25-05-2020' in DD/MM/YYYY format. Provide format or specify infer_datetime_format=True for consistent parsing.\n",
      "  cache_array = _maybe_cache(arg, format, cache, convert_listlike)\n",
      "C:\\Users\\JERIN\\anaconda3\\lib\\site-packages\\pandas\\core\\tools\\datetimes.py:1047: UserWarning: Parsing '22-05-2020' in DD/MM/YYYY format. Provide format or specify infer_datetime_format=True for consistent parsing.\n",
      "  cache_array = _maybe_cache(arg, format, cache, convert_listlike)\n",
      "C:\\Users\\JERIN\\anaconda3\\lib\\site-packages\\pandas\\core\\tools\\datetimes.py:1047: UserWarning: Parsing '21-05-2020' in DD/MM/YYYY format. Provide format or specify infer_datetime_format=True for consistent parsing.\n",
      "  cache_array = _maybe_cache(arg, format, cache, convert_listlike)\n",
      "C:\\Users\\JERIN\\anaconda3\\lib\\site-packages\\pandas\\core\\tools\\datetimes.py:1047: UserWarning: Parsing '20-05-2020' in DD/MM/YYYY format. Provide format or specify infer_datetime_format=True for consistent parsing.\n",
      "  cache_array = _maybe_cache(arg, format, cache, convert_listlike)\n",
      "C:\\Users\\JERIN\\anaconda3\\lib\\site-packages\\pandas\\core\\tools\\datetimes.py:1047: UserWarning: Parsing '19-05-2020' in DD/MM/YYYY format. Provide format or specify infer_datetime_format=True for consistent parsing.\n",
      "  cache_array = _maybe_cache(arg, format, cache, convert_listlike)\n",
      "C:\\Users\\JERIN\\anaconda3\\lib\\site-packages\\pandas\\core\\tools\\datetimes.py:1047: UserWarning: Parsing '18-05-2020' in DD/MM/YYYY format. Provide format or specify infer_datetime_format=True for consistent parsing.\n",
      "  cache_array = _maybe_cache(arg, format, cache, convert_listlike)\n",
      "C:\\Users\\JERIN\\anaconda3\\lib\\site-packages\\pandas\\core\\tools\\datetimes.py:1047: UserWarning: Parsing '17-05-2020' in DD/MM/YYYY format. Provide format or specify infer_datetime_format=True for consistent parsing.\n",
      "  cache_array = _maybe_cache(arg, format, cache, convert_listlike)\n",
      "C:\\Users\\JERIN\\anaconda3\\lib\\site-packages\\pandas\\core\\tools\\datetimes.py:1047: UserWarning: Parsing '15-05-2020' in DD/MM/YYYY format. Provide format or specify infer_datetime_format=True for consistent parsing.\n",
      "  cache_array = _maybe_cache(arg, format, cache, convert_listlike)\n",
      "C:\\Users\\JERIN\\anaconda3\\lib\\site-packages\\pandas\\core\\tools\\datetimes.py:1047: UserWarning: Parsing '14-05-2020' in DD/MM/YYYY format. Provide format or specify infer_datetime_format=True for consistent parsing.\n",
      "  cache_array = _maybe_cache(arg, format, cache, convert_listlike)\n",
      "C:\\Users\\JERIN\\anaconda3\\lib\\site-packages\\pandas\\core\\tools\\datetimes.py:1047: UserWarning: Parsing '13-05-2020' in DD/MM/YYYY format. Provide format or specify infer_datetime_format=True for consistent parsing.\n",
      "  cache_array = _maybe_cache(arg, format, cache, convert_listlike)\n",
      "C:\\Users\\JERIN\\anaconda3\\lib\\site-packages\\pandas\\core\\tools\\datetimes.py:1047: UserWarning: Parsing '30-04-2020' in DD/MM/YYYY format. Provide format or specify infer_datetime_format=True for consistent parsing.\n",
      "  cache_array = _maybe_cache(arg, format, cache, convert_listlike)\n",
      "C:\\Users\\JERIN\\anaconda3\\lib\\site-packages\\pandas\\core\\tools\\datetimes.py:1047: UserWarning: Parsing '29-04-2020' in DD/MM/YYYY format. Provide format or specify infer_datetime_format=True for consistent parsing.\n",
      "  cache_array = _maybe_cache(arg, format, cache, convert_listlike)\n",
      "C:\\Users\\JERIN\\anaconda3\\lib\\site-packages\\pandas\\core\\tools\\datetimes.py:1047: UserWarning: Parsing '28-04-2020' in DD/MM/YYYY format. Provide format or specify infer_datetime_format=True for consistent parsing.\n",
      "  cache_array = _maybe_cache(arg, format, cache, convert_listlike)\n",
      "C:\\Users\\JERIN\\anaconda3\\lib\\site-packages\\pandas\\core\\tools\\datetimes.py:1047: UserWarning: Parsing '27-04-2020' in DD/MM/YYYY format. Provide format or specify infer_datetime_format=True for consistent parsing.\n",
      "  cache_array = _maybe_cache(arg, format, cache, convert_listlike)\n",
      "C:\\Users\\JERIN\\anaconda3\\lib\\site-packages\\pandas\\core\\tools\\datetimes.py:1047: UserWarning: Parsing '25-04-2020' in DD/MM/YYYY format. Provide format or specify infer_datetime_format=True for consistent parsing.\n",
      "  cache_array = _maybe_cache(arg, format, cache, convert_listlike)\n",
      "C:\\Users\\JERIN\\anaconda3\\lib\\site-packages\\pandas\\core\\tools\\datetimes.py:1047: UserWarning: Parsing '24-04-2020' in DD/MM/YYYY format. Provide format or specify infer_datetime_format=True for consistent parsing.\n",
      "  cache_array = _maybe_cache(arg, format, cache, convert_listlike)\n",
      "C:\\Users\\JERIN\\anaconda3\\lib\\site-packages\\pandas\\core\\tools\\datetimes.py:1047: UserWarning: Parsing '23-04-2020' in DD/MM/YYYY format. Provide format or specify infer_datetime_format=True for consistent parsing.\n",
      "  cache_array = _maybe_cache(arg, format, cache, convert_listlike)\n",
      "C:\\Users\\JERIN\\anaconda3\\lib\\site-packages\\pandas\\core\\tools\\datetimes.py:1047: UserWarning: Parsing '22-04-2020' in DD/MM/YYYY format. Provide format or specify infer_datetime_format=True for consistent parsing.\n",
      "  cache_array = _maybe_cache(arg, format, cache, convert_listlike)\n",
      "C:\\Users\\JERIN\\anaconda3\\lib\\site-packages\\pandas\\core\\tools\\datetimes.py:1047: UserWarning: Parsing '21-04-2020' in DD/MM/YYYY format. Provide format or specify infer_datetime_format=True for consistent parsing.\n",
      "  cache_array = _maybe_cache(arg, format, cache, convert_listlike)\n",
      "C:\\Users\\JERIN\\anaconda3\\lib\\site-packages\\pandas\\core\\tools\\datetimes.py:1047: UserWarning: Parsing '20-04-2020' in DD/MM/YYYY format. Provide format or specify infer_datetime_format=True for consistent parsing.\n",
      "  cache_array = _maybe_cache(arg, format, cache, convert_listlike)\n",
      "C:\\Users\\JERIN\\anaconda3\\lib\\site-packages\\pandas\\core\\tools\\datetimes.py:1047: UserWarning: Parsing '18-04-2020' in DD/MM/YYYY format. Provide format or specify infer_datetime_format=True for consistent parsing.\n",
      "  cache_array = _maybe_cache(arg, format, cache, convert_listlike)\n",
      "C:\\Users\\JERIN\\anaconda3\\lib\\site-packages\\pandas\\core\\tools\\datetimes.py:1047: UserWarning: Parsing '17-04-2020' in DD/MM/YYYY format. Provide format or specify infer_datetime_format=True for consistent parsing.\n",
      "  cache_array = _maybe_cache(arg, format, cache, convert_listlike)\n",
      "C:\\Users\\JERIN\\anaconda3\\lib\\site-packages\\pandas\\core\\tools\\datetimes.py:1047: UserWarning: Parsing '16-04-2020' in DD/MM/YYYY format. Provide format or specify infer_datetime_format=True for consistent parsing.\n",
      "  cache_array = _maybe_cache(arg, format, cache, convert_listlike)\n",
      "C:\\Users\\JERIN\\anaconda3\\lib\\site-packages\\pandas\\core\\tools\\datetimes.py:1047: UserWarning: Parsing '15-04-2020' in DD/MM/YYYY format. Provide format or specify infer_datetime_format=True for consistent parsing.\n",
      "  cache_array = _maybe_cache(arg, format, cache, convert_listlike)\n",
      "C:\\Users\\JERIN\\anaconda3\\lib\\site-packages\\pandas\\core\\tools\\datetimes.py:1047: UserWarning: Parsing '14-04-2020' in DD/MM/YYYY format. Provide format or specify infer_datetime_format=True for consistent parsing.\n",
      "  cache_array = _maybe_cache(arg, format, cache, convert_listlike)\n",
      "C:\\Users\\JERIN\\anaconda3\\lib\\site-packages\\pandas\\core\\tools\\datetimes.py:1047: UserWarning: Parsing '13-04-2020' in DD/MM/YYYY format. Provide format or specify infer_datetime_format=True for consistent parsing.\n",
      "  cache_array = _maybe_cache(arg, format, cache, convert_listlike)\n",
      "C:\\Users\\JERIN\\anaconda3\\lib\\site-packages\\pandas\\core\\tools\\datetimes.py:1047: UserWarning: Parsing '31-03-2020' in DD/MM/YYYY format. Provide format or specify infer_datetime_format=True for consistent parsing.\n",
      "  cache_array = _maybe_cache(arg, format, cache, convert_listlike)\n",
      "C:\\Users\\JERIN\\anaconda3\\lib\\site-packages\\pandas\\core\\tools\\datetimes.py:1047: UserWarning: Parsing '30-03-2020' in DD/MM/YYYY format. Provide format or specify infer_datetime_format=True for consistent parsing.\n",
      "  cache_array = _maybe_cache(arg, format, cache, convert_listlike)\n",
      "C:\\Users\\JERIN\\anaconda3\\lib\\site-packages\\pandas\\core\\tools\\datetimes.py:1047: UserWarning: Parsing '29-03-2020' in DD/MM/YYYY format. Provide format or specify infer_datetime_format=True for consistent parsing.\n",
      "  cache_array = _maybe_cache(arg, format, cache, convert_listlike)\n",
      "C:\\Users\\JERIN\\anaconda3\\lib\\site-packages\\pandas\\core\\tools\\datetimes.py:1047: UserWarning: Parsing '28-03-2020' in DD/MM/YYYY format. Provide format or specify infer_datetime_format=True for consistent parsing.\n",
      "  cache_array = _maybe_cache(arg, format, cache, convert_listlike)\n",
      "C:\\Users\\JERIN\\anaconda3\\lib\\site-packages\\pandas\\core\\tools\\datetimes.py:1047: UserWarning: Parsing '27-03-2020' in DD/MM/YYYY format. Provide format or specify infer_datetime_format=True for consistent parsing.\n",
      "  cache_array = _maybe_cache(arg, format, cache, convert_listlike)\n",
      "C:\\Users\\JERIN\\anaconda3\\lib\\site-packages\\pandas\\core\\tools\\datetimes.py:1047: UserWarning: Parsing '26-03-2020' in DD/MM/YYYY format. Provide format or specify infer_datetime_format=True for consistent parsing.\n",
      "  cache_array = _maybe_cache(arg, format, cache, convert_listlike)\n",
      "C:\\Users\\JERIN\\anaconda3\\lib\\site-packages\\pandas\\core\\tools\\datetimes.py:1047: UserWarning: Parsing '25-03-2020' in DD/MM/YYYY format. Provide format or specify infer_datetime_format=True for consistent parsing.\n",
      "  cache_array = _maybe_cache(arg, format, cache, convert_listlike)\n",
      "C:\\Users\\JERIN\\anaconda3\\lib\\site-packages\\pandas\\core\\tools\\datetimes.py:1047: UserWarning: Parsing '24-03-2020' in DD/MM/YYYY format. Provide format or specify infer_datetime_format=True for consistent parsing.\n",
      "  cache_array = _maybe_cache(arg, format, cache, convert_listlike)\n",
      "C:\\Users\\JERIN\\anaconda3\\lib\\site-packages\\pandas\\core\\tools\\datetimes.py:1047: UserWarning: Parsing '23-03-2020' in DD/MM/YYYY format. Provide format or specify infer_datetime_format=True for consistent parsing.\n",
      "  cache_array = _maybe_cache(arg, format, cache, convert_listlike)\n",
      "C:\\Users\\JERIN\\anaconda3\\lib\\site-packages\\pandas\\core\\tools\\datetimes.py:1047: UserWarning: Parsing '20-03-2020' in DD/MM/YYYY format. Provide format or specify infer_datetime_format=True for consistent parsing.\n",
      "  cache_array = _maybe_cache(arg, format, cache, convert_listlike)\n",
      "C:\\Users\\JERIN\\anaconda3\\lib\\site-packages\\pandas\\core\\tools\\datetimes.py:1047: UserWarning: Parsing '19-03-2020' in DD/MM/YYYY format. Provide format or specify infer_datetime_format=True for consistent parsing.\n",
      "  cache_array = _maybe_cache(arg, format, cache, convert_listlike)\n",
      "C:\\Users\\JERIN\\anaconda3\\lib\\site-packages\\pandas\\core\\tools\\datetimes.py:1047: UserWarning: Parsing '18-03-2020' in DD/MM/YYYY format. Provide format or specify infer_datetime_format=True for consistent parsing.\n",
      "  cache_array = _maybe_cache(arg, format, cache, convert_listlike)\n",
      "C:\\Users\\JERIN\\anaconda3\\lib\\site-packages\\pandas\\core\\tools\\datetimes.py:1047: UserWarning: Parsing '16-03-2020' in DD/MM/YYYY format. Provide format or specify infer_datetime_format=True for consistent parsing.\n",
      "  cache_array = _maybe_cache(arg, format, cache, convert_listlike)\n",
      "C:\\Users\\JERIN\\anaconda3\\lib\\site-packages\\pandas\\core\\tools\\datetimes.py:1047: UserWarning: Parsing '13-03-2020' in DD/MM/YYYY format. Provide format or specify infer_datetime_format=True for consistent parsing.\n",
      "  cache_array = _maybe_cache(arg, format, cache, convert_listlike)\n"
     ]
    },
    {
     "data": {
      "text/plain": [
       "company                   object\n",
       "location                  object\n",
       "industry                  object\n",
       "laid_off_count           float64\n",
       "percentage               float64\n",
       "date              datetime64[ns]\n",
       "funds_raised             float64\n",
       "stage                     object\n",
       "country                   object\n",
       "month                    float64\n",
       "day                       object\n",
       "year                     float64\n",
       "dtype: object"
      ]
     },
     "execution_count": 17,
     "metadata": {},
     "output_type": "execute_result"
    }
   ],
   "source": [
    "#function for first change date colum data type to datetime\n",
    "#then extract year, month, day to create new columns\n",
    "def created_columns():\n",
    "    df['date'] = pd.to_datetime(df['date'])\n",
    "    df['month'] = df['date'].dt.month\n",
    "    df['day'] = df['date'].dt.day_name()\n",
    "    df['year'] = df['date'].dt.year\n",
    "    return created_columns\n",
    "created_columns()\n",
    "df.dtypes"
   ]
  },
  {
   "cell_type": "code",
   "execution_count": 18,
   "id": "75c343de",
   "metadata": {
    "execution": {
     "iopub.execute_input": "2022-12-14T02:29:19.800934Z",
     "iopub.status.busy": "2022-12-14T02:29:19.800502Z",
     "iopub.status.idle": "2022-12-14T02:29:19.820407Z",
     "shell.execute_reply": "2022-12-14T02:29:19.819330Z"
    },
    "papermill": {
     "duration": 0.045691,
     "end_time": "2022-12-14T02:29:19.822715",
     "exception": false,
     "start_time": "2022-12-14T02:29:19.777024",
     "status": "completed"
    },
    "tags": []
   },
   "outputs": [
    {
     "data": {
      "text/html": [
       "<div>\n",
       "<style scoped>\n",
       "    .dataframe tbody tr th:only-of-type {\n",
       "        vertical-align: middle;\n",
       "    }\n",
       "\n",
       "    .dataframe tbody tr th {\n",
       "        vertical-align: top;\n",
       "    }\n",
       "\n",
       "    .dataframe thead th {\n",
       "        text-align: right;\n",
       "    }\n",
       "</style>\n",
       "<table border=\"1\" class=\"dataframe\">\n",
       "  <thead>\n",
       "    <tr style=\"text-align: right;\">\n",
       "      <th></th>\n",
       "      <th>company</th>\n",
       "      <th>location</th>\n",
       "      <th>industry</th>\n",
       "      <th>laid_off_count</th>\n",
       "      <th>percentage</th>\n",
       "      <th>date</th>\n",
       "      <th>funds_raised</th>\n",
       "      <th>stage</th>\n",
       "      <th>country</th>\n",
       "      <th>month</th>\n",
       "      <th>day</th>\n",
       "      <th>year</th>\n",
       "    </tr>\n",
       "  </thead>\n",
       "  <tbody>\n",
       "    <tr>\n",
       "      <th>0</th>\n",
       "      <td>Zoomo</td>\n",
       "      <td>Sydney</td>\n",
       "      <td>Transportation</td>\n",
       "      <td>27.0</td>\n",
       "      <td>0.08</td>\n",
       "      <td>2023-02-05</td>\n",
       "      <td>105.0</td>\n",
       "      <td>Series B</td>\n",
       "      <td>Australia</td>\n",
       "      <td>2.0</td>\n",
       "      <td>Sunday</td>\n",
       "      <td>2023.0</td>\n",
       "    </tr>\n",
       "    <tr>\n",
       "      <th>1</th>\n",
       "      <td>Lev</td>\n",
       "      <td>New York City</td>\n",
       "      <td>Real Estate</td>\n",
       "      <td>34.0</td>\n",
       "      <td>NaN</td>\n",
       "      <td>2023-01-05</td>\n",
       "      <td>114.0</td>\n",
       "      <td>Series B</td>\n",
       "      <td>United States</td>\n",
       "      <td>1.0</td>\n",
       "      <td>Thursday</td>\n",
       "      <td>2023.0</td>\n",
       "    </tr>\n",
       "    <tr>\n",
       "      <th>2</th>\n",
       "      <td>PharmEasy</td>\n",
       "      <td>Mumbai</td>\n",
       "      <td>Healthcare</td>\n",
       "      <td>NaN</td>\n",
       "      <td>NaN</td>\n",
       "      <td>2023-01-05</td>\n",
       "      <td>1600.0</td>\n",
       "      <td>Unknown</td>\n",
       "      <td>India</td>\n",
       "      <td>1.0</td>\n",
       "      <td>Thursday</td>\n",
       "      <td>2023.0</td>\n",
       "    </tr>\n",
       "    <tr>\n",
       "      <th>3</th>\n",
       "      <td>Cogito</td>\n",
       "      <td>New Delhi</td>\n",
       "      <td>Data</td>\n",
       "      <td>177.0</td>\n",
       "      <td>NaN</td>\n",
       "      <td>2023-04-29</td>\n",
       "      <td>NaN</td>\n",
       "      <td>Unknown</td>\n",
       "      <td>India</td>\n",
       "      <td>4.0</td>\n",
       "      <td>Saturday</td>\n",
       "      <td>2023.0</td>\n",
       "    </tr>\n",
       "    <tr>\n",
       "      <th>4</th>\n",
       "      <td>Cue Health</td>\n",
       "      <td>San Diego</td>\n",
       "      <td>Healthcare</td>\n",
       "      <td>326.0</td>\n",
       "      <td>0.30</td>\n",
       "      <td>2023-04-28</td>\n",
       "      <td>899.0</td>\n",
       "      <td>Post-IPO</td>\n",
       "      <td>United States</td>\n",
       "      <td>4.0</td>\n",
       "      <td>Friday</td>\n",
       "      <td>2023.0</td>\n",
       "    </tr>\n",
       "  </tbody>\n",
       "</table>\n",
       "</div>"
      ],
      "text/plain": [
       "      company       location        industry  laid_off_count  percentage  \\\n",
       "0       Zoomo         Sydney  Transportation            27.0        0.08   \n",
       "1         Lev  New York City     Real Estate            34.0         NaN   \n",
       "2   PharmEasy         Mumbai      Healthcare             NaN         NaN   \n",
       "3      Cogito      New Delhi            Data           177.0         NaN   \n",
       "4  Cue Health      San Diego      Healthcare           326.0        0.30   \n",
       "\n",
       "        date  funds_raised     stage        country  month       day    year  \n",
       "0 2023-02-05         105.0  Series B      Australia    2.0    Sunday  2023.0  \n",
       "1 2023-01-05         114.0  Series B  United States    1.0  Thursday  2023.0  \n",
       "2 2023-01-05        1600.0   Unknown          India    1.0  Thursday  2023.0  \n",
       "3 2023-04-29           NaN   Unknown          India    4.0  Saturday  2023.0  \n",
       "4 2023-04-28         899.0  Post-IPO  United States    4.0    Friday  2023.0  "
      ]
     },
     "execution_count": 18,
     "metadata": {},
     "output_type": "execute_result"
    }
   ],
   "source": [
    "df.head()"
   ]
  },
  {
   "cell_type": "code",
   "execution_count": 19,
   "id": "7046e1a5",
   "metadata": {
    "execution": {
     "iopub.execute_input": "2022-12-14T02:29:19.866873Z",
     "iopub.status.busy": "2022-12-14T02:29:19.866132Z",
     "iopub.status.idle": "2022-12-14T02:29:19.886814Z",
     "shell.execute_reply": "2022-12-14T02:29:19.885476Z"
    },
    "papermill": {
     "duration": 0.045293,
     "end_time": "2022-12-14T02:29:19.889327",
     "exception": false,
     "start_time": "2022-12-14T02:29:19.844034",
     "status": "completed"
    },
    "tags": []
   },
   "outputs": [
    {
     "data": {
      "text/plain": [
       "company           False\n",
       "location          False\n",
       "industry          False\n",
       "laid_off_count    False\n",
       "percentage        False\n",
       "date              False\n",
       "funds_raised      False\n",
       "stage             False\n",
       "country           False\n",
       "month             False\n",
       "day               False\n",
       "year              False\n",
       "dtype: bool"
      ]
     },
     "execution_count": 19,
     "metadata": {},
     "output_type": "execute_result"
    }
   ],
   "source": [
    "df.fillna(0, inplace=True)\n",
    "df.isnull().any()"
   ]
  },
  {
   "cell_type": "code",
   "execution_count": 20,
   "id": "d15063d4",
   "metadata": {
    "execution": {
     "iopub.execute_input": "2022-12-14T02:29:19.932985Z",
     "iopub.status.busy": "2022-12-14T02:29:19.932577Z",
     "iopub.status.idle": "2022-12-14T02:29:19.945227Z",
     "shell.execute_reply": "2022-12-14T02:29:19.943835Z"
    },
    "papermill": {
     "duration": 0.037281,
     "end_time": "2022-12-14T02:29:19.947872",
     "exception": false,
     "start_time": "2022-12-14T02:29:19.910591",
     "status": "completed"
    },
    "tags": []
   },
   "outputs": [
    {
     "data": {
      "text/plain": [
       "company            object\n",
       "location           object\n",
       "industry           object\n",
       "laid_off_count      int32\n",
       "percentage        float64\n",
       "date               object\n",
       "funds_raised      float64\n",
       "stage              object\n",
       "country            object\n",
       "month               int32\n",
       "day                object\n",
       "year                int32\n",
       "dtype: object"
      ]
     },
     "execution_count": 20,
     "metadata": {},
     "output_type": "execute_result"
    }
   ],
   "source": [
    "#create function to change data types of laid_off_count, year, month columns to integer\n",
    "def new_datatypes():\n",
    "    columns = ['laid_off_count', 'year', 'month']\n",
    "    for c in columns:\n",
    "        df[c] = df[c].astype(int)\n",
    "    return new_datatypes\n",
    "new_datatypes()\n",
    "df.dtypes"
   ]
  },
  {
   "cell_type": "markdown",
   "id": "0428a2bb",
   "metadata": {
    "papermill": {
     "duration": 0.020622,
     "end_time": "2022-12-14T02:29:19.989858",
     "exception": false,
     "start_time": "2022-12-14T02:29:19.969236",
     "status": "completed"
    },
    "tags": []
   },
   "source": [
    "****"
   ]
  },
  {
   "cell_type": "markdown",
   "id": "2961f3d8",
   "metadata": {
    "papermill": {
     "duration": 0.020577,
     "end_time": "2022-12-14T02:29:20.031433",
     "exception": false,
     "start_time": "2022-12-14T02:29:20.010856",
     "status": "completed"
    },
    "tags": []
   },
   "source": [
    "## Exploratory Data Analysis"
   ]
  },
  {
   "cell_type": "code",
   "execution_count": 21,
   "id": "8c818bc1",
   "metadata": {
    "execution": {
     "iopub.execute_input": "2022-12-14T02:29:20.076871Z",
     "iopub.status.busy": "2022-12-14T02:29:20.076245Z",
     "iopub.status.idle": "2022-12-14T02:29:20.093021Z",
     "shell.execute_reply": "2022-12-14T02:29:20.091869Z"
    },
    "papermill": {
     "duration": 0.041619,
     "end_time": "2022-12-14T02:29:20.095310",
     "exception": false,
     "start_time": "2022-12-14T02:29:20.053691",
     "status": "completed"
    },
    "tags": []
   },
   "outputs": [
    {
     "data": {
      "text/html": [
       "<div>\n",
       "<style scoped>\n",
       "    .dataframe tbody tr th:only-of-type {\n",
       "        vertical-align: middle;\n",
       "    }\n",
       "\n",
       "    .dataframe tbody tr th {\n",
       "        vertical-align: top;\n",
       "    }\n",
       "\n",
       "    .dataframe thead th {\n",
       "        text-align: right;\n",
       "    }\n",
       "</style>\n",
       "<table border=\"1\" class=\"dataframe\">\n",
       "  <thead>\n",
       "    <tr style=\"text-align: right;\">\n",
       "      <th></th>\n",
       "      <th>company</th>\n",
       "      <th>location</th>\n",
       "      <th>industry</th>\n",
       "      <th>laid_off_count</th>\n",
       "      <th>percentage</th>\n",
       "      <th>date</th>\n",
       "      <th>funds_raised</th>\n",
       "      <th>stage</th>\n",
       "      <th>country</th>\n",
       "      <th>month</th>\n",
       "      <th>day</th>\n",
       "      <th>year</th>\n",
       "    </tr>\n",
       "  </thead>\n",
       "  <tbody>\n",
       "    <tr>\n",
       "      <th>0</th>\n",
       "      <td>Zoomo</td>\n",
       "      <td>Sydney</td>\n",
       "      <td>Transportation</td>\n",
       "      <td>27</td>\n",
       "      <td>0.08</td>\n",
       "      <td>2023-02-05 00:00:00</td>\n",
       "      <td>105.0</td>\n",
       "      <td>Series B</td>\n",
       "      <td>Australia</td>\n",
       "      <td>2</td>\n",
       "      <td>Sunday</td>\n",
       "      <td>2023</td>\n",
       "    </tr>\n",
       "    <tr>\n",
       "      <th>1</th>\n",
       "      <td>Lev</td>\n",
       "      <td>New York City</td>\n",
       "      <td>Real Estate</td>\n",
       "      <td>34</td>\n",
       "      <td>0.00</td>\n",
       "      <td>2023-01-05 00:00:00</td>\n",
       "      <td>114.0</td>\n",
       "      <td>Series B</td>\n",
       "      <td>United States</td>\n",
       "      <td>1</td>\n",
       "      <td>Thursday</td>\n",
       "      <td>2023</td>\n",
       "    </tr>\n",
       "    <tr>\n",
       "      <th>2</th>\n",
       "      <td>PharmEasy</td>\n",
       "      <td>Mumbai</td>\n",
       "      <td>Healthcare</td>\n",
       "      <td>0</td>\n",
       "      <td>0.00</td>\n",
       "      <td>2023-01-05 00:00:00</td>\n",
       "      <td>1600.0</td>\n",
       "      <td>Unknown</td>\n",
       "      <td>India</td>\n",
       "      <td>1</td>\n",
       "      <td>Thursday</td>\n",
       "      <td>2023</td>\n",
       "    </tr>\n",
       "    <tr>\n",
       "      <th>3</th>\n",
       "      <td>Cogito</td>\n",
       "      <td>New Delhi</td>\n",
       "      <td>Data</td>\n",
       "      <td>177</td>\n",
       "      <td>0.00</td>\n",
       "      <td>2023-04-29 00:00:00</td>\n",
       "      <td>0.0</td>\n",
       "      <td>Unknown</td>\n",
       "      <td>India</td>\n",
       "      <td>4</td>\n",
       "      <td>Saturday</td>\n",
       "      <td>2023</td>\n",
       "    </tr>\n",
       "    <tr>\n",
       "      <th>4</th>\n",
       "      <td>Cue Health</td>\n",
       "      <td>San Diego</td>\n",
       "      <td>Healthcare</td>\n",
       "      <td>326</td>\n",
       "      <td>0.30</td>\n",
       "      <td>2023-04-28 00:00:00</td>\n",
       "      <td>899.0</td>\n",
       "      <td>Post-IPO</td>\n",
       "      <td>United States</td>\n",
       "      <td>4</td>\n",
       "      <td>Friday</td>\n",
       "      <td>2023</td>\n",
       "    </tr>\n",
       "  </tbody>\n",
       "</table>\n",
       "</div>"
      ],
      "text/plain": [
       "      company       location        industry  laid_off_count  percentage  \\\n",
       "0       Zoomo         Sydney  Transportation              27        0.08   \n",
       "1         Lev  New York City     Real Estate              34        0.00   \n",
       "2   PharmEasy         Mumbai      Healthcare               0        0.00   \n",
       "3      Cogito      New Delhi            Data             177        0.00   \n",
       "4  Cue Health      San Diego      Healthcare             326        0.30   \n",
       "\n",
       "                  date  funds_raised     stage        country  month  \\\n",
       "0  2023-02-05 00:00:00         105.0  Series B      Australia      2   \n",
       "1  2023-01-05 00:00:00         114.0  Series B  United States      1   \n",
       "2  2023-01-05 00:00:00        1600.0   Unknown          India      1   \n",
       "3  2023-04-29 00:00:00           0.0   Unknown          India      4   \n",
       "4  2023-04-28 00:00:00         899.0  Post-IPO  United States      4   \n",
       "\n",
       "        day  year  \n",
       "0    Sunday  2023  \n",
       "1  Thursday  2023  \n",
       "2  Thursday  2023  \n",
       "3  Saturday  2023  \n",
       "4    Friday  2023  "
      ]
     },
     "execution_count": 21,
     "metadata": {},
     "output_type": "execute_result"
    }
   ],
   "source": [
    "df.head()"
   ]
  },
  {
   "cell_type": "code",
   "execution_count": 22,
   "id": "968b2535",
   "metadata": {
    "execution": {
     "iopub.execute_input": "2022-12-14T02:29:20.140458Z",
     "iopub.status.busy": "2022-12-14T02:29:20.139784Z",
     "iopub.status.idle": "2022-12-14T02:29:20.971123Z",
     "shell.execute_reply": "2022-12-14T02:29:20.970143Z"
    },
    "papermill": {
     "duration": 0.857061,
     "end_time": "2022-12-14T02:29:20.973778",
     "exception": false,
     "start_time": "2022-12-14T02:29:20.116717",
     "status": "completed"
    },
    "tags": []
   },
   "outputs": [
    {
     "data": {
      "image/png": "[encoded data removed]",
      "text/plain": [
       "<Figure size 720x720 with 6 Axes>"
      ]
     },
     "metadata": {
      "needs_background": "light"
     },
     "output_type": "display_data"
    }
   ],
   "source": [
    "df.hist(figsize=(10,10));"
   ]
  },
  {
   "cell_type": "code",
   "execution_count": 23,
   "id": "c393e8be",
   "metadata": {
    "execution": {
     "iopub.execute_input": "2022-12-14T02:29:21.019678Z",
     "iopub.status.busy": "2022-12-14T02:29:21.019295Z",
     "iopub.status.idle": "2022-12-14T02:29:21.027988Z",
     "shell.execute_reply": "2022-12-14T02:29:21.027177Z"
    },
    "papermill": {
     "duration": 0.034374,
     "end_time": "2022-12-14T02:29:21.030119",
     "exception": false,
     "start_time": "2022-12-14T02:29:20.995745",
     "status": "completed"
    },
    "tags": []
   },
   "outputs": [
    {
     "data": {
      "text/plain": [
       "year\n",
       "0          547\n",
       "2020     80998\n",
       "2021     15823\n",
       "2022    164576\n",
       "2023    186020\n",
       "Name: laid_off_count, dtype: int32"
      ]
     },
     "execution_count": 23,
     "metadata": {},
     "output_type": "execute_result"
    }
   ],
   "source": [
    "#find layoffs for each year\n",
    "df.groupby('year')['laid_off_count'].sum()"
   ]
  },
  {
   "cell_type": "code",
   "execution_count": 24,
   "id": "9b8e7585",
   "metadata": {
    "execution": {
     "iopub.execute_input": "2022-12-14T02:29:21.083576Z",
     "iopub.status.busy": "2022-12-14T02:29:21.082519Z",
     "iopub.status.idle": "2022-12-14T02:29:21.269298Z",
     "shell.execute_reply": "2022-12-14T02:29:21.268139Z"
    },
    "papermill": {
     "duration": 0.219402,
     "end_time": "2022-12-14T02:29:21.272201",
     "exception": false,
     "start_time": "2022-12-14T02:29:21.052799",
     "status": "completed"
    },
    "tags": []
   },
   "outputs": [
    {
     "data": {
      "image/png": "[encoded data removed]",
      "text/plain": [
       "<Figure size 432x288 with 1 Axes>"
      ]
     },
     "metadata": {
      "needs_background": "light"
     },
     "output_type": "display_data"
    }
   ],
   "source": [
    "#plotting it with bar chart\n",
    "df.groupby('year')['laid_off_count'].sum().plot(kind='bar',fontsize=12)\n",
    "plt.title('Number of Layoffs over Years',size=15)\n",
    "plt.xlabel('Year',size=13)\n",
    "plt.ylabel('Layoff Count',size=13);"
   ]
  },
  {
   "cell_type": "markdown",
   "id": "49ec51c1",
   "metadata": {
    "papermill": {
     "duration": 0.022875,
     "end_time": "2022-12-14T02:29:21.317202",
     "exception": false,
     "start_time": "2022-12-14T02:29:21.294327",
     "status": "completed"
    },
    "tags": []
   },
   "source": [
    "> **In 2020, almost 81k employees were laid off. In 2021, the situation has become better with 15k laid off but unfortunately in 2022, the situation got worse than in 2020 with over 147k laid off.**"
   ]
  },
  {
   "cell_type": "code",
   "execution_count": 25,
   "id": "dd5a1289",
   "metadata": {
    "execution": {
     "iopub.execute_input": "2022-12-14T02:29:21.364458Z",
     "iopub.status.busy": "2022-12-14T02:29:21.362522Z",
     "iopub.status.idle": "2022-12-14T02:29:21.373954Z",
     "shell.execute_reply": "2022-12-14T02:29:21.372819Z"
    },
    "papermill": {
     "duration": 0.036978,
     "end_time": "2022-12-14T02:29:21.376214",
     "exception": false,
     "start_time": "2022-12-14T02:29:21.339236",
     "status": "completed"
    },
    "tags": []
   },
   "outputs": [
    {
     "data": {
      "text/plain": [
       "country\n",
       "United States    302226\n",
       "India             38816\n",
       "Netherlands       17220\n",
       "Germany           16845\n",
       "Sweden            11279\n",
       "                  ...  \n",
       "South Africa          0\n",
       "Hungary               0\n",
       "Italy                 0\n",
       "Pakistan              0\n",
       "Vietnam               0\n",
       "Name: laid_off_count, Length: 62, dtype: int32"
      ]
     },
     "execution_count": 25,
     "metadata": {},
     "output_type": "execute_result"
    }
   ],
   "source": [
    "#layoff for each country\n",
    "df.groupby('country')['laid_off_count'].sum().sort_values(ascending=False)"
   ]
  },
  {
   "cell_type": "code",
   "execution_count": 26,
   "id": "3cd6e396",
   "metadata": {
    "execution": {
     "iopub.execute_input": "2022-12-14T02:29:21.423129Z",
     "iopub.status.busy": "2022-12-14T02:29:21.422468Z",
     "iopub.status.idle": "2022-12-14T02:29:22.459313Z",
     "shell.execute_reply": "2022-12-14T02:29:22.457996Z"
    },
    "papermill": {
     "duration": 1.063833,
     "end_time": "2022-12-14T02:29:22.462449",
     "exception": false,
     "start_time": "2022-12-14T02:29:21.398616",
     "status": "completed"
    },
    "tags": []
   },
   "outputs": [
    {
     "data": {
      "image/png": "[encoded data removed]",
      "text/plain": [
       "<Figure size 1440x576 with 1 Axes>"
      ]
     },
     "metadata": {
      "needs_background": "light"
     },
     "output_type": "display_data"
    }
   ],
   "source": [
    "#plotting it with bar chart\n",
    "df.groupby('country')['laid_off_count'].sum().sort_values(ascending=False).plot(kind='bar',figsize=(20,8),fontsize=15)\n",
    "plt.title('Layoff by Country',size=20)\n",
    "plt.xlabel('Country',size=15)\n",
    "plt.ylabel('Layoff Count',size=15);"
   ]
  },
  {
   "cell_type": "code",
   "execution_count": 27,
   "id": "c5b4dafd",
   "metadata": {
    "execution": {
     "iopub.execute_input": "2022-12-14T02:29:22.514175Z",
     "iopub.status.busy": "2022-12-14T02:29:22.513458Z",
     "iopub.status.idle": "2022-12-14T02:29:22.524414Z",
     "shell.execute_reply": "2022-12-14T02:29:22.523301Z"
    },
    "papermill": {
     "duration": 0.039198,
     "end_time": "2022-12-14T02:29:22.526603",
     "exception": false,
     "start_time": "2022-12-14T02:29:22.487405",
     "status": "completed"
    },
    "tags": []
   },
   "outputs": [
    {
     "data": {
      "text/plain": [
       "0.675"
      ]
     },
     "execution_count": 27,
     "metadata": {},
     "output_type": "execute_result"
    }
   ],
   "source": [
    "#calculate the proportion of layoff in the united states to the total layoff.\n",
    "proportion_of_US_layoff = round(df.groupby('country')['laid_off_count'].sum().sort_values(ascending=False)[0]/df.laid_off_count.sum(),3)\n",
    "proportion_of_US_layoff"
   ]
  },
  {
   "cell_type": "code",
   "execution_count": 28,
   "id": "57291405",
   "metadata": {
    "execution": {
     "iopub.execute_input": "2022-12-14T02:29:22.576339Z",
     "iopub.status.busy": "2022-12-14T02:29:22.575567Z",
     "iopub.status.idle": "2022-12-14T02:29:22.585328Z",
     "shell.execute_reply": "2022-12-14T02:29:22.584469Z"
    },
    "papermill": {
     "duration": 0.036882,
     "end_time": "2022-12-14T02:29:22.587357",
     "exception": false,
     "start_time": "2022-12-14T02:29:22.550475",
     "status": "completed"
    },
    "tags": []
   },
   "outputs": [
    {
     "data": {
      "text/plain": [
       "0.087"
      ]
     },
     "execution_count": 28,
     "metadata": {},
     "output_type": "execute_result"
    }
   ],
   "source": [
    "#calculate the proportion of layoff in india to the total layoff.\n",
    "proportion_of_India_layoff = round(df.groupby('country')['laid_off_count'].sum().sort_values(ascending=False)[1]/df.laid_off_count.sum(),3)\n",
    "proportion_of_India_layoff"
   ]
  },
  {
   "cell_type": "markdown",
   "id": "1ac0bd48",
   "metadata": {
    "papermill": {
     "duration": 0.026496,
     "end_time": "2022-12-14T02:29:22.637629",
     "exception": false,
     "start_time": "2022-12-14T02:29:22.611133",
     "status": "completed"
    },
    "tags": []
   },
   "source": [
    "> **Here we can see that the United States has the most layoff by far with (65.9%) of the total layoffs, followed by India with (12.7%).**\n",
    "\n",
    "> **The United States and India, having (78.6%) of all the layoffs, which leaves only (21.4%) shared by the other countries.**"
   ]
  },
  {
   "cell_type": "code",
   "execution_count": 29,
   "id": "b1430675",
   "metadata": {
    "execution": {
     "iopub.execute_input": "2022-12-14T02:29:22.687939Z",
     "iopub.status.busy": "2022-12-14T02:29:22.687179Z",
     "iopub.status.idle": "2022-12-14T02:29:22.697416Z",
     "shell.execute_reply": "2022-12-14T02:29:22.696108Z"
    },
    "papermill": {
     "duration": 0.037735,
     "end_time": "2022-12-14T02:29:22.699564",
     "exception": false,
     "start_time": "2022-12-14T02:29:22.661829",
     "status": "completed"
    },
    "tags": []
   },
   "outputs": [
    {
     "data": {
      "text/plain": [
       "industry\n",
       "Consumer          56340\n",
       "Retail            54825\n",
       "Other             39308\n",
       "Transportation    37784\n",
       "Food              33962\n",
       "Finance           30629\n",
       "Healthcare        28000\n",
       "Hardware          25208\n",
       "Real Estate       18360\n",
       "Travel            17159\n",
       "Education         14169\n",
       "Sales             13216\n",
       "Crypto            10785\n",
       "Marketing         10478\n",
       "Fitness            8898\n",
       "Security           6770\n",
       "Data               6396\n",
       "HR                 5899\n",
       "Infrastructure     5875\n",
       "Media              5869\n",
       "Logistics          4026\n",
       "Construction       3863\n",
       "Support            3523\n",
       "Recruiting         2890\n",
       "Product            1233\n",
       "Legal               836\n",
       "Energy              802\n",
       "Aerospace           661\n",
       "Manufacturing       158\n",
       "Unknown              42\n",
       "Name: laid_off_count, dtype: int32"
      ]
     },
     "execution_count": 29,
     "metadata": {},
     "output_type": "execute_result"
    }
   ],
   "source": [
    "#find layoff by industry\n",
    "df.groupby('industry')['laid_off_count'].sum().sort_values(ascending=False)"
   ]
  },
  {
   "cell_type": "code",
   "execution_count": 30,
   "id": "1362d751",
   "metadata": {
    "execution": {
     "iopub.execute_input": "2022-12-14T02:29:22.748927Z",
     "iopub.status.busy": "2022-12-14T02:29:22.748468Z",
     "iopub.status.idle": "2022-12-14T02:29:22.769370Z",
     "shell.execute_reply": "2022-12-14T02:29:22.768452Z"
    },
    "papermill": {
     "duration": 0.047962,
     "end_time": "2022-12-14T02:29:22.771437",
     "exception": false,
     "start_time": "2022-12-14T02:29:22.723475",
     "status": "completed"
    },
    "tags": []
   },
   "outputs": [
    {
     "data": {
      "text/html": [
       "<div>\n",
       "<style scoped>\n",
       "    .dataframe tbody tr th:only-of-type {\n",
       "        vertical-align: middle;\n",
       "    }\n",
       "\n",
       "    .dataframe tbody tr th {\n",
       "        vertical-align: top;\n",
       "    }\n",
       "\n",
       "    .dataframe thead th {\n",
       "        text-align: right;\n",
       "    }\n",
       "</style>\n",
       "<table border=\"1\" class=\"dataframe\">\n",
       "  <thead>\n",
       "    <tr style=\"text-align: right;\">\n",
       "      <th></th>\n",
       "      <th>company</th>\n",
       "      <th>location</th>\n",
       "      <th>industry</th>\n",
       "      <th>laid_off_count</th>\n",
       "      <th>percentage</th>\n",
       "      <th>date</th>\n",
       "      <th>funds_raised</th>\n",
       "      <th>stage</th>\n",
       "      <th>country</th>\n",
       "      <th>month</th>\n",
       "      <th>day</th>\n",
       "      <th>year</th>\n",
       "    </tr>\n",
       "  </thead>\n",
       "  <tbody>\n",
       "    <tr>\n",
       "      <th>164</th>\n",
       "      <td>Wattpad</td>\n",
       "      <td>Toronto</td>\n",
       "      <td>Unknown</td>\n",
       "      <td>42</td>\n",
       "      <td>0.15</td>\n",
       "      <td>2023-08-03 00:00:00</td>\n",
       "      <td>117.0</td>\n",
       "      <td>Acquired</td>\n",
       "      <td>Canada</td>\n",
       "      <td>8</td>\n",
       "      <td>Thursday</td>\n",
       "      <td>2023</td>\n",
       "    </tr>\n",
       "    <tr>\n",
       "      <th>516</th>\n",
       "      <td>Bally's Interactive</td>\n",
       "      <td>Providence</td>\n",
       "      <td>Unknown</td>\n",
       "      <td>0</td>\n",
       "      <td>0.15</td>\n",
       "      <td>2023-01-18 00:00:00</td>\n",
       "      <td>946.0</td>\n",
       "      <td>Post-IPO</td>\n",
       "      <td>United States</td>\n",
       "      <td>1</td>\n",
       "      <td>Wednesday</td>\n",
       "      <td>2023</td>\n",
       "    </tr>\n",
       "  </tbody>\n",
       "</table>\n",
       "</div>"
      ],
      "text/plain": [
       "                 company    location industry  laid_off_count  percentage  \\\n",
       "164              Wattpad     Toronto  Unknown              42        0.15   \n",
       "516  Bally's Interactive  Providence  Unknown               0        0.15   \n",
       "\n",
       "                    date  funds_raised     stage        country  month  \\\n",
       "164  2023-08-03 00:00:00         117.0  Acquired         Canada      8   \n",
       "516  2023-01-18 00:00:00         946.0  Post-IPO  United States      1   \n",
       "\n",
       "           day  year  \n",
       "164   Thursday  2023  \n",
       "516  Wednesday  2023  "
      ]
     },
     "execution_count": 30,
     "metadata": {},
     "output_type": "execute_result"
    }
   ],
   "source": [
    "#check th Unknown in industry column\n",
    "df.query('industry == \"Unknown\"')"
   ]
  },
  {
   "cell_type": "code",
   "execution_count": 31,
   "id": "fb5ff16c",
   "metadata": {
    "execution": {
     "iopub.execute_input": "2022-12-14T02:29:22.822846Z",
     "iopub.status.busy": "2022-12-14T02:29:22.822181Z",
     "iopub.status.idle": "2022-12-14T02:29:23.221734Z",
     "shell.execute_reply": "2022-12-14T02:29:23.220353Z"
    },
    "papermill": {
     "duration": 0.427994,
     "end_time": "2022-12-14T02:29:23.224375",
     "exception": false,
     "start_time": "2022-12-14T02:29:22.796381",
     "status": "completed"
    },
    "tags": []
   },
   "outputs": [
    {
     "data": {
      "image/png": "[encoded data removed]",
      "text/plain": [
       "<Figure size 1440x576 with 1 Axes>"
      ]
     },
     "metadata": {
      "needs_background": "light"
     },
     "output_type": "display_data"
    }
   ],
   "source": [
    "#plotting it wiht bar chart\n",
    "df.groupby('industry')['laid_off_count'].sum().sort_values(ascending=False).plot(kind='bar',figsize=(20,8),fontsize=18)\n",
    "plt.title('Layoff by Industry',size=20)\n",
    "plt.xlabel('Industry',size=18)\n",
    "plt.ylabel('Layoff Count',size=18);"
   ]
  },
  {
   "cell_type": "markdown",
   "id": "cf1b4769",
   "metadata": {
    "papermill": {
     "duration": 0.024738,
     "end_time": "2022-12-14T02:29:23.275175",
     "exception": false,
     "start_time": "2022-12-14T02:29:23.250437",
     "status": "completed"
    },
    "tags": []
   },
   "source": [
    "> **If we look at the numbers of layoffs in every industry, we will find that Transportation followed by consumer, retail, and finance have layoffs between 20k to 30k.**\n",
    "\n",
    "> **Food followed by real estate, travel, healthcare and education have layoffs between 10k to 20k.**\n",
    "\n",
    "> **Legal has the least layoffs followed by aerospace, product and energy.**"
   ]
  },
  {
   "cell_type": "code",
   "execution_count": 32,
   "id": "ee2e297a",
   "metadata": {
    "execution": {
     "iopub.execute_input": "2022-12-14T02:29:23.327351Z",
     "iopub.status.busy": "2022-12-14T02:29:23.326933Z",
     "iopub.status.idle": "2022-12-14T02:29:23.340049Z",
     "shell.execute_reply": "2022-12-14T02:29:23.338925Z"
    },
    "papermill": {
     "duration": 0.042417,
     "end_time": "2022-12-14T02:29:23.342543",
     "exception": false,
     "start_time": "2022-12-14T02:29:23.300126",
     "status": "completed"
    },
    "tags": []
   },
   "outputs": [
    {
     "data": {
      "text/plain": [
       "industry\n",
       "Aerospace         0.377\n",
       "Recruiting        0.256\n",
       "Crypto            0.238\n",
       "Travel            0.237\n",
       "Construction      0.232\n",
       "Product           0.217\n",
       "Food              0.213\n",
       "Fitness           0.208\n",
       "Education         0.207\n",
       "Real Estate       0.204\n",
       "Healthcare        0.202\n",
       "Retail            0.178\n",
       "Finance           0.170\n",
       "Transportation    0.167\n",
       "Infrastructure    0.163\n",
       "Consumer          0.162\n",
       "Legal             0.162\n",
       "Other             0.156\n",
       "Media             0.152\n",
       "Unknown           0.150\n",
       "Marketing         0.147\n",
       "Logistics         0.134\n",
       "HR                0.127\n",
       "Energy            0.125\n",
       "Security          0.122\n",
       "Data              0.119\n",
       "Support           0.108\n",
       "Hardware          0.075\n",
       "Sales             0.064\n",
       "Manufacturing     0.062\n",
       "Name: percentage, dtype: float64"
      ]
     },
     "execution_count": 32,
     "metadata": {},
     "output_type": "execute_result"
    }
   ],
   "source": [
    "#find average layoff for each industry\n",
    "df.groupby('industry')['percentage'].mean().sort_values(ascending=False).round(3)"
   ]
  },
  {
   "cell_type": "code",
   "execution_count": 33,
   "id": "528d5634",
   "metadata": {
    "execution": {
     "iopub.execute_input": "2022-12-14T02:29:23.395223Z",
     "iopub.status.busy": "2022-12-14T02:29:23.394354Z",
     "iopub.status.idle": "2022-12-14T02:29:23.808579Z",
     "shell.execute_reply": "2022-12-14T02:29:23.807438Z"
    },
    "papermill": {
     "duration": 0.44373,
     "end_time": "2022-12-14T02:29:23.811445",
     "exception": false,
     "start_time": "2022-12-14T02:29:23.367715",
     "status": "completed"
    },
    "tags": []
   },
   "outputs": [
    {
     "data": {
      "image/png": "[encoded data removed]",
      "text/plain": [
       "<Figure size 1440x576 with 1 Axes>"
      ]
     },
     "metadata": {
      "needs_background": "light"
     },
     "output_type": "display_data"
    }
   ],
   "source": [
    "#plot it with bar chart\n",
    "df.groupby('industry')['percentage'].mean().sort_values(ascending=False).round(3).plot(kind='bar',figsize=(20,8),fontsize=18)\n",
    "plt.title(' Average Percentage of Layoff by Industry',size=20)\n",
    "plt.xlabel('Industry',size=18)\n",
    "plt.ylabel('Layoff Average Percentage',size=18);"
   ]
  },
  {
   "cell_type": "markdown",
   "id": "aeb1518e",
   "metadata": {
    "papermill": {
     "duration": 0.02607,
     "end_time": "2022-12-14T02:29:23.864210",
     "exception": false,
     "start_time": "2022-12-14T02:29:23.838140",
     "status": "completed"
    },
    "tags": []
   },
   "source": [
    "> **If we look at the average percentage of layoffs in every industry, we can see that Aerospace has the most average percentage of layoffs (37.7%), followed by Product (25.5%).**\n",
    "\n",
    "> **Sales has the least layoff percentage (5.5%).**\n",
    "\n",
    "> **If we looked from the employee side, Transportation followed by consumer, retail, and finance were the most affected industries by covid-19. Legal followed by aerospace, product, and energy were the least affected industries by covid-19.**\n",
    "\n",
    "> **But if we looked from the Industries owner's side, Aerospace followed by Product, were the most affected industries by covid-19. And Sales was the least affected industry by covid-19.**"
   ]
  },
  {
   "cell_type": "code",
   "execution_count": 34,
   "id": "a1b35e76",
   "metadata": {
    "execution": {
     "iopub.execute_input": "2022-12-14T02:29:23.919119Z",
     "iopub.status.busy": "2022-12-14T02:29:23.918372Z",
     "iopub.status.idle": "2022-12-14T02:29:23.926924Z",
     "shell.execute_reply": "2022-12-14T02:29:23.926166Z"
    },
    "papermill": {
     "duration": 0.038358,
     "end_time": "2022-12-14T02:29:23.928927",
     "exception": false,
     "start_time": "2022-12-14T02:29:23.890569",
     "status": "completed"
    },
    "tags": []
   },
   "outputs": [
    {
     "data": {
      "text/plain": [
       "stage\n",
       "Post-IPO          244796\n",
       "Unknown            43430\n",
       "Acquired           35605\n",
       "Series B           24568\n",
       "Series C           21104\n",
       "Series D           19610\n",
       "Series E           13376\n",
       "Series F           10324\n",
       "Private Equity      8087\n",
       "Series H            7344\n",
       "Series A            6703\n",
       "Series G            3697\n",
       "Series J            3570\n",
       "Series I            2855\n",
       "Seed                1801\n",
       "Subsidiary          1094\n",
       "Name: laid_off_count, dtype: int32"
      ]
     },
     "execution_count": 34,
     "metadata": {},
     "output_type": "execute_result"
    }
   ],
   "source": [
    "#find layoff by stage\n",
    "df.groupby('stage')['laid_off_count'].sum().sort_values(ascending=False)"
   ]
  },
  {
   "cell_type": "code",
   "execution_count": 35,
   "id": "34f196e0",
   "metadata": {
    "execution": {
     "iopub.execute_input": "2022-12-14T02:29:23.983482Z",
     "iopub.status.busy": "2022-12-14T02:29:23.982455Z",
     "iopub.status.idle": "2022-12-14T02:29:24.278483Z",
     "shell.execute_reply": "2022-12-14T02:29:24.277218Z"
    },
    "papermill": {
     "duration": 0.325804,
     "end_time": "2022-12-14T02:29:24.280855",
     "exception": false,
     "start_time": "2022-12-14T02:29:23.955051",
     "status": "completed"
    },
    "tags": []
   },
   "outputs": [
    {
     "data": {
      "image/png": "[encoded data removed]",
      "text/plain": [
       "<Figure size 1440x576 with 1 Axes>"
      ]
     },
     "metadata": {
      "needs_background": "light"
     },
     "output_type": "display_data"
    }
   ],
   "source": [
    "#plottig it with bar chart\n",
    "df.groupby('stage')['laid_off_count'].sum().sort_values(ascending=False).plot(kind='bar',figsize=(20,8),fontsize=18)\n",
    "plt.title('Layoff by Stage',size=20)\n",
    "plt.xlabel('Stage',size=18)\n",
    "plt.ylabel('Layoff Count',size=18);\n"
   ]
  },
  {
   "cell_type": "code",
   "execution_count": 36,
   "id": "21240140",
   "metadata": {
    "execution": {
     "iopub.execute_input": "2022-12-14T02:29:24.337122Z",
     "iopub.status.busy": "2022-12-14T02:29:24.336619Z",
     "iopub.status.idle": "2022-12-14T02:29:24.346583Z",
     "shell.execute_reply": "2022-12-14T02:29:24.345458Z"
    },
    "papermill": {
     "duration": 0.040918,
     "end_time": "2022-12-14T02:29:24.348661",
     "exception": false,
     "start_time": "2022-12-14T02:29:24.307743",
     "status": "completed"
    },
    "tags": []
   },
   "outputs": [
    {
     "data": {
      "text/plain": [
       "0.546"
      ]
     },
     "execution_count": 36,
     "metadata": {},
     "output_type": "execute_result"
    }
   ],
   "source": [
    "#calculate the proportion of layoff in IPO stage to the total layoff.\n",
    "proportion_of_IPO_layoff = round(df.groupby('stage')['laid_off_count'].sum().sort_values(ascending=False)[0]/df.laid_off_count.sum(),3)\n",
    "proportion_of_IPO_layoff"
   ]
  },
  {
   "cell_type": "code",
   "execution_count": 37,
   "id": "c490845e",
   "metadata": {
    "execution": {
     "iopub.execute_input": "2022-12-14T02:29:24.404534Z",
     "iopub.status.busy": "2022-12-14T02:29:24.403791Z",
     "iopub.status.idle": "2022-12-14T02:29:24.412362Z",
     "shell.execute_reply": "2022-12-14T02:29:24.411569Z"
    },
    "papermill": {
     "duration": 0.039009,
     "end_time": "2022-12-14T02:29:24.414607",
     "exception": false,
     "start_time": "2022-12-14T02:29:24.375598",
     "status": "completed"
    },
    "tags": []
   },
   "outputs": [
    {
     "data": {
      "text/plain": [
       "0.004"
      ]
     },
     "execution_count": 37,
     "metadata": {},
     "output_type": "execute_result"
    }
   ],
   "source": [
    "#calculate the proportion of layoff in Seed stage to the total layoff.\n",
    "proportion_of_Seed_layoff = round(df.groupby('stage')['laid_off_count'].sum().sort_values(ascending=False)[14]/df.laid_off_count.sum(),3)\n",
    "proportion_of_Seed_layoff"
   ]
  },
  {
   "cell_type": "markdown",
   "id": "c6faa685",
   "metadata": {
    "papermill": {
     "duration": 0.026236,
     "end_time": "2022-12-14T02:29:24.467817",
     "exception": false,
     "start_time": "2022-12-14T02:29:24.441581",
     "status": "completed"
    },
    "tags": []
   },
   "source": [
    "> **IPO stage companies have the most layoffs with (39.8%).**\n",
    "\n",
    "> **Seed stage companies have the least layoffs with (0.6%)**"
   ]
  },
  {
   "cell_type": "code",
   "execution_count": 38,
   "id": "0672d17e",
   "metadata": {
    "execution": {
     "iopub.execute_input": "2022-12-14T02:29:24.523012Z",
     "iopub.status.busy": "2022-12-14T02:29:24.522299Z",
     "iopub.status.idle": "2022-12-14T02:29:24.536153Z",
     "shell.execute_reply": "2022-12-14T02:29:24.535394Z"
    },
    "papermill": {
     "duration": 0.043817,
     "end_time": "2022-12-14T02:29:24.538237",
     "exception": false,
     "start_time": "2022-12-14T02:29:24.494420",
     "status": "completed"
    },
    "tags": []
   },
   "outputs": [
    {
     "data": {
      "text/html": [
       "<div>\n",
       "<style scoped>\n",
       "    .dataframe tbody tr th:only-of-type {\n",
       "        vertical-align: middle;\n",
       "    }\n",
       "\n",
       "    .dataframe tbody tr th {\n",
       "        vertical-align: top;\n",
       "    }\n",
       "\n",
       "    .dataframe thead th {\n",
       "        text-align: right;\n",
       "    }\n",
       "</style>\n",
       "<table border=\"1\" class=\"dataframe\">\n",
       "  <thead>\n",
       "    <tr style=\"text-align: right;\">\n",
       "      <th></th>\n",
       "      <th>layoff_2020</th>\n",
       "    </tr>\n",
       "    <tr>\n",
       "      <th>month</th>\n",
       "      <th></th>\n",
       "    </tr>\n",
       "  </thead>\n",
       "  <tbody>\n",
       "    <tr>\n",
       "      <th>1</th>\n",
       "      <td>3608</td>\n",
       "    </tr>\n",
       "    <tr>\n",
       "      <th>2</th>\n",
       "      <td>2288</td>\n",
       "    </tr>\n",
       "    <tr>\n",
       "      <th>3</th>\n",
       "      <td>11719</td>\n",
       "    </tr>\n",
       "    <tr>\n",
       "      <th>4</th>\n",
       "      <td>17290</td>\n",
       "    </tr>\n",
       "    <tr>\n",
       "      <th>5</th>\n",
       "      <td>16674</td>\n",
       "    </tr>\n",
       "    <tr>\n",
       "      <th>6</th>\n",
       "      <td>9363</td>\n",
       "    </tr>\n",
       "    <tr>\n",
       "      <th>7</th>\n",
       "      <td>10672</td>\n",
       "    </tr>\n",
       "    <tr>\n",
       "      <th>8</th>\n",
       "      <td>3393</td>\n",
       "    </tr>\n",
       "    <tr>\n",
       "      <th>9</th>\n",
       "      <td>2027</td>\n",
       "    </tr>\n",
       "    <tr>\n",
       "      <th>10</th>\n",
       "      <td>941</td>\n",
       "    </tr>\n",
       "    <tr>\n",
       "      <th>11</th>\n",
       "      <td>973</td>\n",
       "    </tr>\n",
       "    <tr>\n",
       "      <th>12</th>\n",
       "      <td>2050</td>\n",
       "    </tr>\n",
       "  </tbody>\n",
       "</table>\n",
       "</div>"
      ],
      "text/plain": [
       "       layoff_2020\n",
       "month             \n",
       "1             3608\n",
       "2             2288\n",
       "3            11719\n",
       "4            17290\n",
       "5            16674\n",
       "6             9363\n",
       "7            10672\n",
       "8             3393\n",
       "9             2027\n",
       "10             941\n",
       "11             973\n",
       "12            2050"
      ]
     },
     "execution_count": 38,
     "metadata": {},
     "output_type": "execute_result"
    }
   ],
   "source": [
    "#layoff by month for year 2020\n",
    "df20 = df.query('year == 2020')\n",
    "df1 = df20.groupby('month')['laid_off_count'].sum().to_frame()\n",
    "df1.rename(columns={'laid_off_count':'layoff_2020'},inplace=True)\n",
    "df1"
   ]
  },
  {
   "cell_type": "code",
   "execution_count": 39,
   "id": "b6e16012",
   "metadata": {
    "execution": {
     "iopub.execute_input": "2022-12-14T02:29:24.593886Z",
     "iopub.status.busy": "2022-12-14T02:29:24.593206Z",
     "iopub.status.idle": "2022-12-14T02:29:24.607852Z",
     "shell.execute_reply": "2022-12-14T02:29:24.606703Z"
    },
    "papermill": {
     "duration": 0.044903,
     "end_time": "2022-12-14T02:29:24.610075",
     "exception": false,
     "start_time": "2022-12-14T02:29:24.565172",
     "status": "completed"
    },
    "tags": []
   },
   "outputs": [
    {
     "data": {
      "text/html": [
       "<div>\n",
       "<style scoped>\n",
       "    .dataframe tbody tr th:only-of-type {\n",
       "        vertical-align: middle;\n",
       "    }\n",
       "\n",
       "    .dataframe tbody tr th {\n",
       "        vertical-align: top;\n",
       "    }\n",
       "\n",
       "    .dataframe thead th {\n",
       "        text-align: right;\n",
       "    }\n",
       "</style>\n",
       "<table border=\"1\" class=\"dataframe\">\n",
       "  <thead>\n",
       "    <tr style=\"text-align: right;\">\n",
       "      <th></th>\n",
       "      <th>layoff_2021</th>\n",
       "    </tr>\n",
       "    <tr>\n",
       "      <th>month</th>\n",
       "      <th></th>\n",
       "    </tr>\n",
       "  </thead>\n",
       "  <tbody>\n",
       "    <tr>\n",
       "      <th>1</th>\n",
       "      <td>8392</td>\n",
       "    </tr>\n",
       "    <tr>\n",
       "      <th>2</th>\n",
       "      <td>2400</td>\n",
       "    </tr>\n",
       "    <tr>\n",
       "      <th>3</th>\n",
       "      <td>87</td>\n",
       "    </tr>\n",
       "    <tr>\n",
       "      <th>4</th>\n",
       "      <td>114</td>\n",
       "    </tr>\n",
       "    <tr>\n",
       "      <th>5</th>\n",
       "      <td>1822</td>\n",
       "    </tr>\n",
       "    <tr>\n",
       "      <th>6</th>\n",
       "      <td>1960</td>\n",
       "    </tr>\n",
       "    <tr>\n",
       "      <th>7</th>\n",
       "      <td>80</td>\n",
       "    </tr>\n",
       "    <tr>\n",
       "      <th>8</th>\n",
       "      <td>67</td>\n",
       "    </tr>\n",
       "    <tr>\n",
       "      <th>9</th>\n",
       "      <td>531</td>\n",
       "    </tr>\n",
       "    <tr>\n",
       "      <th>11</th>\n",
       "      <td>70</td>\n",
       "    </tr>\n",
       "    <tr>\n",
       "      <th>12</th>\n",
       "      <td>300</td>\n",
       "    </tr>\n",
       "  </tbody>\n",
       "</table>\n",
       "</div>"
      ],
      "text/plain": [
       "       layoff_2021\n",
       "month             \n",
       "1             8392\n",
       "2             2400\n",
       "3               87\n",
       "4              114\n",
       "5             1822\n",
       "6             1960\n",
       "7               80\n",
       "8               67\n",
       "9              531\n",
       "11              70\n",
       "12             300"
      ]
     },
     "execution_count": 39,
     "metadata": {},
     "output_type": "execute_result"
    }
   ],
   "source": [
    "#layoff by month for 2021\n",
    "df21 = df.query('year == 2021')\n",
    "df2 = df21.groupby('month')['laid_off_count'].sum().to_frame()\n",
    "df2.rename(columns={'laid_off_count':'layoff_2021'},inplace=True)\n",
    "df2"
   ]
  },
  {
   "cell_type": "code",
   "execution_count": 40,
   "id": "d304aef0",
   "metadata": {
    "execution": {
     "iopub.execute_input": "2022-12-14T02:29:24.666623Z",
     "iopub.status.busy": "2022-12-14T02:29:24.665765Z",
     "iopub.status.idle": "2022-12-14T02:29:24.681881Z",
     "shell.execute_reply": "2022-12-14T02:29:24.680771Z"
    },
    "papermill": {
     "duration": 0.046975,
     "end_time": "2022-12-14T02:29:24.684182",
     "exception": false,
     "start_time": "2022-12-14T02:29:24.637207",
     "status": "completed"
    },
    "tags": []
   },
   "outputs": [
    {
     "data": {
      "text/html": [
       "<div>\n",
       "<style scoped>\n",
       "    .dataframe tbody tr th:only-of-type {\n",
       "        vertical-align: middle;\n",
       "    }\n",
       "\n",
       "    .dataframe tbody tr th {\n",
       "        vertical-align: top;\n",
       "    }\n",
       "\n",
       "    .dataframe thead th {\n",
       "        text-align: right;\n",
       "    }\n",
       "</style>\n",
       "<table border=\"1\" class=\"dataframe\">\n",
       "  <thead>\n",
       "    <tr style=\"text-align: right;\">\n",
       "      <th></th>\n",
       "      <th>layoff_2022</th>\n",
       "    </tr>\n",
       "    <tr>\n",
       "      <th>month</th>\n",
       "      <th></th>\n",
       "    </tr>\n",
       "  </thead>\n",
       "  <tbody>\n",
       "    <tr>\n",
       "      <th>1</th>\n",
       "      <td>4372</td>\n",
       "    </tr>\n",
       "    <tr>\n",
       "      <th>2</th>\n",
       "      <td>5099</td>\n",
       "    </tr>\n",
       "    <tr>\n",
       "      <th>3</th>\n",
       "      <td>5984</td>\n",
       "    </tr>\n",
       "    <tr>\n",
       "      <th>4</th>\n",
       "      <td>8929</td>\n",
       "    </tr>\n",
       "    <tr>\n",
       "      <th>5</th>\n",
       "      <td>8878</td>\n",
       "    </tr>\n",
       "    <tr>\n",
       "      <th>6</th>\n",
       "      <td>15907</td>\n",
       "    </tr>\n",
       "    <tr>\n",
       "      <th>7</th>\n",
       "      <td>17134</td>\n",
       "    </tr>\n",
       "    <tr>\n",
       "      <th>8</th>\n",
       "      <td>17831</td>\n",
       "    </tr>\n",
       "    <tr>\n",
       "      <th>9</th>\n",
       "      <td>22857</td>\n",
       "    </tr>\n",
       "    <tr>\n",
       "      <th>10</th>\n",
       "      <td>19247</td>\n",
       "    </tr>\n",
       "    <tr>\n",
       "      <th>11</th>\n",
       "      <td>29378</td>\n",
       "    </tr>\n",
       "    <tr>\n",
       "      <th>12</th>\n",
       "      <td>8960</td>\n",
       "    </tr>\n",
       "  </tbody>\n",
       "</table>\n",
       "</div>"
      ],
      "text/plain": [
       "       layoff_2022\n",
       "month             \n",
       "1             4372\n",
       "2             5099\n",
       "3             5984\n",
       "4             8929\n",
       "5             8878\n",
       "6            15907\n",
       "7            17134\n",
       "8            17831\n",
       "9            22857\n",
       "10           19247\n",
       "11           29378\n",
       "12            8960"
      ]
     },
     "execution_count": 40,
     "metadata": {},
     "output_type": "execute_result"
    }
   ],
   "source": [
    "#layoff by month for 2022\n",
    "df22 = df.query('year == 2022')\n",
    "df3 = df22.groupby('month')['laid_off_count'].sum().to_frame()\n",
    "df3.rename(columns={'laid_off_count':'layoff_2022'},inplace=True)\n",
    "df3"
   ]
  },
  {
   "cell_type": "code",
   "execution_count": 41,
   "id": "a13b494e",
   "metadata": {
    "execution": {
     "iopub.execute_input": "2022-12-14T02:29:24.741556Z",
     "iopub.status.busy": "2022-12-14T02:29:24.740569Z",
     "iopub.status.idle": "2022-12-14T02:29:24.758257Z",
     "shell.execute_reply": "2022-12-14T02:29:24.757245Z"
    },
    "papermill": {
     "duration": 0.048863,
     "end_time": "2022-12-14T02:29:24.760457",
     "exception": false,
     "start_time": "2022-12-14T02:29:24.711594",
     "status": "completed"
    },
    "tags": []
   },
   "outputs": [
    {
     "data": {
      "text/html": [
       "<div>\n",
       "<style scoped>\n",
       "    .dataframe tbody tr th:only-of-type {\n",
       "        vertical-align: middle;\n",
       "    }\n",
       "\n",
       "    .dataframe tbody tr th {\n",
       "        vertical-align: top;\n",
       "    }\n",
       "\n",
       "    .dataframe thead th {\n",
       "        text-align: right;\n",
       "    }\n",
       "</style>\n",
       "<table border=\"1\" class=\"dataframe\">\n",
       "  <thead>\n",
       "    <tr style=\"text-align: right;\">\n",
       "      <th></th>\n",
       "      <th>layoff_2022</th>\n",
       "      <th>layoff_2021</th>\n",
       "      <th>layoff_2020</th>\n",
       "    </tr>\n",
       "    <tr>\n",
       "      <th>month</th>\n",
       "      <th></th>\n",
       "      <th></th>\n",
       "      <th></th>\n",
       "    </tr>\n",
       "  </thead>\n",
       "  <tbody>\n",
       "    <tr>\n",
       "      <th>1</th>\n",
       "      <td>4372</td>\n",
       "      <td>8392.0</td>\n",
       "      <td>3608</td>\n",
       "    </tr>\n",
       "    <tr>\n",
       "      <th>2</th>\n",
       "      <td>5099</td>\n",
       "      <td>2400.0</td>\n",
       "      <td>2288</td>\n",
       "    </tr>\n",
       "    <tr>\n",
       "      <th>3</th>\n",
       "      <td>5984</td>\n",
       "      <td>87.0</td>\n",
       "      <td>11719</td>\n",
       "    </tr>\n",
       "    <tr>\n",
       "      <th>4</th>\n",
       "      <td>8929</td>\n",
       "      <td>114.0</td>\n",
       "      <td>17290</td>\n",
       "    </tr>\n",
       "    <tr>\n",
       "      <th>5</th>\n",
       "      <td>8878</td>\n",
       "      <td>1822.0</td>\n",
       "      <td>16674</td>\n",
       "    </tr>\n",
       "    <tr>\n",
       "      <th>6</th>\n",
       "      <td>15907</td>\n",
       "      <td>1960.0</td>\n",
       "      <td>9363</td>\n",
       "    </tr>\n",
       "    <tr>\n",
       "      <th>7</th>\n",
       "      <td>17134</td>\n",
       "      <td>80.0</td>\n",
       "      <td>10672</td>\n",
       "    </tr>\n",
       "    <tr>\n",
       "      <th>8</th>\n",
       "      <td>17831</td>\n",
       "      <td>67.0</td>\n",
       "      <td>3393</td>\n",
       "    </tr>\n",
       "    <tr>\n",
       "      <th>9</th>\n",
       "      <td>22857</td>\n",
       "      <td>531.0</td>\n",
       "      <td>2027</td>\n",
       "    </tr>\n",
       "    <tr>\n",
       "      <th>10</th>\n",
       "      <td>19247</td>\n",
       "      <td>NaN</td>\n",
       "      <td>941</td>\n",
       "    </tr>\n",
       "    <tr>\n",
       "      <th>11</th>\n",
       "      <td>29378</td>\n",
       "      <td>70.0</td>\n",
       "      <td>973</td>\n",
       "    </tr>\n",
       "    <tr>\n",
       "      <th>12</th>\n",
       "      <td>8960</td>\n",
       "      <td>300.0</td>\n",
       "      <td>2050</td>\n",
       "    </tr>\n",
       "  </tbody>\n",
       "</table>\n",
       "</div>"
      ],
      "text/plain": [
       "       layoff_2022  layoff_2021  layoff_2020\n",
       "month                                       \n",
       "1             4372       8392.0         3608\n",
       "2             5099       2400.0         2288\n",
       "3             5984         87.0        11719\n",
       "4             8929        114.0        17290\n",
       "5             8878       1822.0        16674\n",
       "6            15907       1960.0         9363\n",
       "7            17134         80.0        10672\n",
       "8            17831         67.0         3393\n",
       "9            22857        531.0         2027\n",
       "10           19247          NaN          941\n",
       "11           29378         70.0          973\n",
       "12            8960        300.0         2050"
      ]
     },
     "execution_count": 41,
     "metadata": {},
     "output_type": "execute_result"
    }
   ],
   "source": [
    "#combined them in one data frame\n",
    "df_combined = pd.concat([df3,df2,df1], axis=1)\n",
    "df_combined"
   ]
  },
  {
   "cell_type": "code",
   "execution_count": 42,
   "id": "c1f66d52",
   "metadata": {
    "execution": {
     "iopub.execute_input": "2022-12-14T02:29:24.817824Z",
     "iopub.status.busy": "2022-12-14T02:29:24.817067Z",
     "iopub.status.idle": "2022-12-14T02:29:25.181775Z",
     "shell.execute_reply": "2022-12-14T02:29:25.180588Z"
    },
    "papermill": {
     "duration": 0.396237,
     "end_time": "2022-12-14T02:29:25.184131",
     "exception": false,
     "start_time": "2022-12-14T02:29:24.787894",
     "status": "completed"
    },
    "tags": []
   },
   "outputs": [
    {
     "data": {
      "image/png": "[encoded data removed]",
      "text/plain": [
       "<Figure size 1584x864 with 1 Axes>"
      ]
     },
     "metadata": {
      "needs_background": "light"
     },
     "output_type": "display_data"
    }
   ],
   "source": [
    "#plotting it with line  chart\n",
    "df_combined.plot(kind='line',figsize=(22,12),fontsize=18)\n",
    "plt.title('Layoff by Month for each Year',size=20)\n",
    "plt.xlabel('Month',size=18)\n",
    "plt.ylabel('Layoff Count',size=18);"
   ]
  },
  {
   "cell_type": "markdown",
   "id": "5c796872",
   "metadata": {
    "papermill": {
     "duration": 0.028456,
     "end_time": "2022-12-14T02:29:25.241017",
     "exception": false,
     "start_time": "2022-12-14T02:29:25.212561",
     "status": "completed"
    },
    "tags": []
   },
   "source": [
    "> **In 2020, starting from March when the covid-19 hit the world, the most layoff month was Abril with (26710) layoff, followed by May then started to decrease, until in December layoffs starts to increase again.**\n",
    "\n",
    "> **In 2021, the layoffs were the least between the years 2020,2021,2022. January has the most layoffs (6013), followed by June and November.**\n",
    "\n",
    "> **In 2022, November has the worst layoff, not only in that year but in all the 3 years with (51300) layoffs.**"
   ]
  },
  {
   "cell_type": "code",
   "execution_count": 43,
   "id": "8c3c8a2f",
   "metadata": {
    "execution": {
     "iopub.execute_input": "2022-12-14T02:29:25.300114Z",
     "iopub.status.busy": "2022-12-14T02:29:25.299366Z",
     "iopub.status.idle": "2022-12-14T02:29:25.309123Z",
     "shell.execute_reply": "2022-12-14T02:29:25.308066Z"
    },
    "papermill": {
     "duration": 0.041771,
     "end_time": "2022-12-14T02:29:25.311379",
     "exception": false,
     "start_time": "2022-12-14T02:29:25.269608",
     "status": "completed"
    },
    "tags": []
   },
   "outputs": [
    {
     "data": {
      "text/plain": [
       "industry\n",
       "Media             513646.8000\n",
       "Transportation    315333.7400\n",
       "Consumer          220030.3000\n",
       "Real Estate       126581.5000\n",
       "Finance           116571.7800\n",
       "Food              116482.9755\n",
       "Retail             91212.1000\n",
       "Healthcare         67962.0000\n",
       "Other              44753.0000\n",
       "Travel             40829.5000\n",
       "Education          28731.8000\n",
       "Data               28723.6000\n",
       "Marketing          22436.7000\n",
       "Crypto             20874.0000\n",
       "Security           20835.0000\n",
       "Logistics          15578.0000\n",
       "Fitness            13031.6000\n",
       "HR                  9876.7000\n",
       "Infrastructure      8734.0000\n",
       "Hardware            8286.0000\n",
       "Support             8190.6000\n",
       "Sales               7940.4000\n",
       "Product             6693.2000\n",
       "Construction        6114.0000\n",
       "Energy              4219.0000\n",
       "Aerospace           3477.0000\n",
       "Legal               2391.0000\n",
       "Recruiting          2096.0000\n",
       "Unknown             1063.0000\n",
       "Manufacturing        274.0000\n",
       "Name: funds_raised, dtype: float64"
      ]
     },
     "execution_count": 43,
     "metadata": {},
     "output_type": "execute_result"
    }
   ],
   "source": [
    "#funds raised by industry\n",
    "df.groupby('industry')['funds_raised'].sum().sort_values(ascending=False)"
   ]
  },
  {
   "cell_type": "code",
   "execution_count": 44,
   "id": "f3cb0a89",
   "metadata": {
    "execution": {
     "iopub.execute_input": "2022-12-14T02:29:25.371274Z",
     "iopub.status.busy": "2022-12-14T02:29:25.370845Z",
     "iopub.status.idle": "2022-12-14T02:29:25.938454Z",
     "shell.execute_reply": "2022-12-14T02:29:25.937294Z"
    },
    "papermill": {
     "duration": 0.600424,
     "end_time": "2022-12-14T02:29:25.941014",
     "exception": false,
     "start_time": "2022-12-14T02:29:25.340590",
     "status": "completed"
    },
    "tags": []
   },
   "outputs": [
    {
     "data": {
      "image/png": "[encoded data removed]",
      "text/plain": [
       "<Figure size 1584x864 with 1 Axes>"
      ]
     },
     "metadata": {
      "needs_background": "light"
     },
     "output_type": "display_data"
    }
   ],
   "source": [
    "#plotting it with bar chart\n",
    "df.groupby('industry')['funds_raised'].sum().sort_values(ascending=False).plot(kind='bar',figsize=(22,12),fontsize=18)\n",
    "plt.title('Funds Raised by Industry',size=20)\n",
    "plt.xlabel('Industry',size=18)\n",
    "plt.ylabel('Funds Raised',size=18);"
   ]
  },
  {
   "cell_type": "markdown",
   "id": "21f2d2d9",
   "metadata": {
    "papermill": {
     "duration": 0.028545,
     "end_time": "2022-12-14T02:29:25.998888",
     "exception": false,
     "start_time": "2022-12-14T02:29:25.970343",
     "status": "completed"
    },
    "tags": []
   },
   "source": [
    "> **The Media industry has the most funds raised, followed by Transportation and Consumer.**\n",
    "\n",
    "> **The legal industry has the least funds raised.**"
   ]
  },
  {
   "cell_type": "code",
   "execution_count": 45,
   "id": "c56ba53c",
   "metadata": {
    "execution": {
     "iopub.execute_input": "2022-12-14T02:29:26.058924Z",
     "iopub.status.busy": "2022-12-14T02:29:26.058455Z",
     "iopub.status.idle": "2022-12-14T02:29:26.069359Z",
     "shell.execute_reply": "2022-12-14T02:29:26.068204Z"
    },
    "papermill": {
     "duration": 0.043796,
     "end_time": "2022-12-14T02:29:26.071758",
     "exception": false,
     "start_time": "2022-12-14T02:29:26.027962",
     "status": "completed"
    },
    "tags": []
   },
   "outputs": [
    {
     "data": {
      "text/plain": [
       "stage\n",
       "Post-IPO          1.143910e+06\n",
       "Unknown           1.710486e+05\n",
       "Series H          9.838500e+04\n",
       "Series D          8.043460e+04\n",
       "Series E          7.415900e+04\n",
       "Series C          6.222180e+04\n",
       "Series F          5.375480e+04\n",
       "Acquired          5.028540e+04\n",
       "Series B          3.186958e+04\n",
       "Private Equity    3.114054e+04\n",
       "Series J          2.324200e+04\n",
       "Series I          1.603600e+04\n",
       "Series G          1.598000e+04\n",
       "Subsidiary        1.160000e+04\n",
       "Series A          8.507400e+03\n",
       "Seed              3.946755e+02\n",
       "Name: funds_raised, dtype: float64"
      ]
     },
     "execution_count": 45,
     "metadata": {},
     "output_type": "execute_result"
    }
   ],
   "source": [
    "#funds raised by stage\n",
    "df.groupby('stage')['funds_raised'].sum().sort_values(ascending=False)"
   ]
  },
  {
   "cell_type": "code",
   "execution_count": 46,
   "id": "6c41b3b3",
   "metadata": {
    "execution": {
     "iopub.execute_input": "2022-12-14T02:29:26.133833Z",
     "iopub.status.busy": "2022-12-14T02:29:26.133395Z",
     "iopub.status.idle": "2022-12-14T02:29:26.445230Z",
     "shell.execute_reply": "2022-12-14T02:29:26.443998Z"
    },
    "papermill": {
     "duration": 0.345856,
     "end_time": "2022-12-14T02:29:26.447866",
     "exception": false,
     "start_time": "2022-12-14T02:29:26.102010",
     "status": "completed"
    },
    "tags": []
   },
   "outputs": [
    {
     "data": {
      "image/png": "[encoded data removed]",
      "text/plain": [
       "<Figure size 1584x864 with 1 Axes>"
      ]
     },
     "metadata": {
      "needs_background": "light"
     },
     "output_type": "display_data"
    }
   ],
   "source": [
    "#plotting it with bar chart\n",
    "df.groupby('stage')['funds_raised'].sum().sort_values(ascending=False).plot(kind='bar',figsize=(22,12),fontsize=18)\n",
    "plt.title('Funds Raised by Company Stage',size=20)\n",
    "plt.xlabel('Stage',size=18)\n",
    "plt.ylabel('Funds Raised',size=18);"
   ]
  },
  {
   "cell_type": "markdown",
   "id": "a64a3805",
   "metadata": {
    "papermill": {
     "duration": 0.030244,
     "end_time": "2022-12-14T02:29:26.508502",
     "exception": false,
     "start_time": "2022-12-14T02:29:26.478258",
     "status": "completed"
    },
    "tags": []
   },
   "source": [
    "> **The IPO stage companies have by far, the most funds raised, and the Seed stage has the least funds raised.**"
   ]
  },
  {
   "cell_type": "code",
   "execution_count": 47,
   "id": "c028b6c0",
   "metadata": {
    "execution": {
     "iopub.execute_input": "2022-12-14T02:29:26.571377Z",
     "iopub.status.busy": "2022-12-14T02:29:26.570280Z",
     "iopub.status.idle": "2022-12-14T02:29:26.583533Z",
     "shell.execute_reply": "2022-12-14T02:29:26.582407Z"
    },
    "papermill": {
     "duration": 0.047497,
     "end_time": "2022-12-14T02:29:26.585836",
     "exception": false,
     "start_time": "2022-12-14T02:29:26.538339",
     "status": "completed"
    },
    "tags": []
   },
   "outputs": [
    {
     "data": {
      "text/plain": [
       "company\n",
       "Netflix          487600.0\n",
       "Uber             123500.0\n",
       "Meta              52000.0\n",
       "Twitter           44400.0\n",
       "WeWork            43500.0\n",
       "WeWork            41700.0\n",
       "Delivery Hero     26500.0\n",
       "Bytedance         26200.0\n",
       "Tencent           25200.0\n",
       "Rivian            24500.0\n",
       "Name: funds_raised, dtype: float64"
      ]
     },
     "execution_count": 47,
     "metadata": {},
     "output_type": "execute_result"
    }
   ],
   "source": [
    "#top 10 funds raised companies\n",
    "df.groupby('company')['funds_raised'].sum().nlargest(10)"
   ]
  },
  {
   "cell_type": "code",
   "execution_count": 48,
   "id": "d58a6221",
   "metadata": {
    "execution": {
     "iopub.execute_input": "2022-12-14T02:29:26.648120Z",
     "iopub.status.busy": "2022-12-14T02:29:26.647668Z",
     "iopub.status.idle": "2022-12-14T02:29:26.921751Z",
     "shell.execute_reply": "2022-12-14T02:29:26.920565Z"
    },
    "papermill": {
     "duration": 0.308009,
     "end_time": "2022-12-14T02:29:26.924145",
     "exception": false,
     "start_time": "2022-12-14T02:29:26.616136",
     "status": "completed"
    },
    "tags": []
   },
   "outputs": [
    {
     "data": {
      "image/png": "[encoded data removed]",
      "text/plain": [
       "<Figure size 1584x864 with 1 Axes>"
      ]
     },
     "metadata": {
      "needs_background": "light"
     },
     "output_type": "display_data"
    }
   ],
   "source": [
    "#plotting it with bar chart\n",
    "df.groupby('company')['funds_raised'].sum().nlargest(10).plot(kind='bar',figsize=(22,12),fontsize=18)\n",
    "plt.title('Funds Raised by Company',size=20)\n",
    "plt.xlabel('Company',size=18)\n",
    "plt.ylabel('Funds Raised',size=18);"
   ]
  },
  {
   "cell_type": "markdown",
   "id": "9b29aaab",
   "metadata": {
    "papermill": {
     "duration": 0.030104,
     "end_time": "2022-12-14T02:29:26.984747",
     "exception": false,
     "start_time": "2022-12-14T02:29:26.954643",
     "status": "completed"
    },
    "tags": []
   },
   "source": [
    "> **Netflix has the largest funds raised with (487600), followed by Uber with (123500).**"
   ]
  },
  {
   "cell_type": "code",
   "execution_count": 49,
   "id": "63edac75",
   "metadata": {
    "execution": {
     "iopub.execute_input": "2022-12-14T02:29:27.047370Z",
     "iopub.status.busy": "2022-12-14T02:29:27.046981Z",
     "iopub.status.idle": "2022-12-14T02:29:27.053162Z",
     "shell.execute_reply": "2022-12-14T02:29:27.052119Z"
    },
    "papermill": {
     "duration": 0.040297,
     "end_time": "2022-12-14T02:29:27.055505",
     "exception": false,
     "start_time": "2022-12-14T02:29:27.015208",
     "status": "completed"
    },
    "tags": []
   },
   "outputs": [],
   "source": [
    "#index for top 10 largest layoff dates \n",
    "ind = df['laid_off_count'].nlargest(10).index"
   ]
  },
  {
   "cell_type": "code",
   "execution_count": 50,
   "id": "d73a614e",
   "metadata": {
    "execution": {
     "iopub.execute_input": "2022-12-14T02:29:27.118613Z",
     "iopub.status.busy": "2022-12-14T02:29:27.118222Z",
     "iopub.status.idle": "2022-12-14T02:29:27.137109Z",
     "shell.execute_reply": "2022-12-14T02:29:27.136304Z"
    },
    "papermill": {
     "duration": 0.053008,
     "end_time": "2022-12-14T02:29:27.139265",
     "exception": false,
     "start_time": "2022-12-14T02:29:27.086257",
     "status": "completed"
    },
    "tags": []
   },
   "outputs": [
    {
     "data": {
      "text/html": [
       "<div>\n",
       "<style scoped>\n",
       "    .dataframe tbody tr th:only-of-type {\n",
       "        vertical-align: middle;\n",
       "    }\n",
       "\n",
       "    .dataframe tbody tr th {\n",
       "        vertical-align: top;\n",
       "    }\n",
       "\n",
       "    .dataframe thead th {\n",
       "        text-align: right;\n",
       "    }\n",
       "</style>\n",
       "<table border=\"1\" class=\"dataframe\">\n",
       "  <thead>\n",
       "    <tr style=\"text-align: right;\">\n",
       "      <th></th>\n",
       "      <th>company</th>\n",
       "      <th>location</th>\n",
       "      <th>industry</th>\n",
       "      <th>laid_off_count</th>\n",
       "      <th>percentage</th>\n",
       "      <th>date</th>\n",
       "      <th>funds_raised</th>\n",
       "      <th>stage</th>\n",
       "      <th>country</th>\n",
       "      <th>month</th>\n",
       "      <th>day</th>\n",
       "      <th>year</th>\n",
       "    </tr>\n",
       "  </thead>\n",
       "  <tbody>\n",
       "    <tr>\n",
       "      <th>467</th>\n",
       "      <td>Google</td>\n",
       "      <td>SF Bay Area</td>\n",
       "      <td>Consumer</td>\n",
       "      <td>12000</td>\n",
       "      <td>0.06</td>\n",
       "      <td>2023-01-20 00:00:00</td>\n",
       "      <td>26.0</td>\n",
       "      <td>Post-IPO</td>\n",
       "      <td>United States</td>\n",
       "      <td>1</td>\n",
       "      <td>Friday</td>\n",
       "      <td>2023</td>\n",
       "    </tr>\n",
       "    <tr>\n",
       "      <th>940</th>\n",
       "      <td>Meta</td>\n",
       "      <td>SF Bay Area</td>\n",
       "      <td>Consumer</td>\n",
       "      <td>11000</td>\n",
       "      <td>0.13</td>\n",
       "      <td>2022-09-11 00:00:00</td>\n",
       "      <td>26000.0</td>\n",
       "      <td>Post-IPO</td>\n",
       "      <td>United States</td>\n",
       "      <td>9</td>\n",
       "      <td>Sunday</td>\n",
       "      <td>2022</td>\n",
       "    </tr>\n",
       "    <tr>\n",
       "      <th>148</th>\n",
       "      <td>Meta</td>\n",
       "      <td>SF Bay Area</td>\n",
       "      <td>Consumer</td>\n",
       "      <td>10000</td>\n",
       "      <td>0.00</td>\n",
       "      <td>2023-03-14 00:00:00</td>\n",
       "      <td>26000.0</td>\n",
       "      <td>Post-IPO</td>\n",
       "      <td>United States</td>\n",
       "      <td>3</td>\n",
       "      <td>Tuesday</td>\n",
       "      <td>2023</td>\n",
       "    </tr>\n",
       "    <tr>\n",
       "      <th>500</th>\n",
       "      <td>Microsoft</td>\n",
       "      <td>Seattle</td>\n",
       "      <td>Other</td>\n",
       "      <td>10000</td>\n",
       "      <td>0.05</td>\n",
       "      <td>2023-01-18 00:00:00</td>\n",
       "      <td>1.0</td>\n",
       "      <td>Post-IPO</td>\n",
       "      <td>United States</td>\n",
       "      <td>1</td>\n",
       "      <td>Wednesday</td>\n",
       "      <td>2023</td>\n",
       "    </tr>\n",
       "    <tr>\n",
       "      <th>872</th>\n",
       "      <td>Amazon</td>\n",
       "      <td>Seattle</td>\n",
       "      <td>Retail</td>\n",
       "      <td>10000</td>\n",
       "      <td>0.03</td>\n",
       "      <td>2022-11-16 00:00:00</td>\n",
       "      <td>108.0</td>\n",
       "      <td>Post-IPO</td>\n",
       "      <td>United States</td>\n",
       "      <td>11</td>\n",
       "      <td>Wednesday</td>\n",
       "      <td>2022</td>\n",
       "    </tr>\n",
       "    <tr>\n",
       "      <th>132</th>\n",
       "      <td>Amazon</td>\n",
       "      <td>Seattle</td>\n",
       "      <td>Retail</td>\n",
       "      <td>9000</td>\n",
       "      <td>0.00</td>\n",
       "      <td>2023-03-20 00:00:00</td>\n",
       "      <td>108.0</td>\n",
       "      <td>Post-IPO</td>\n",
       "      <td>United States</td>\n",
       "      <td>3</td>\n",
       "      <td>Monday</td>\n",
       "      <td>2023</td>\n",
       "    </tr>\n",
       "    <tr>\n",
       "      <th>217</th>\n",
       "      <td>Ericsson</td>\n",
       "      <td>Stockholm</td>\n",
       "      <td>Other</td>\n",
       "      <td>8500</td>\n",
       "      <td>0.08</td>\n",
       "      <td>2023-02-24 00:00:00</td>\n",
       "      <td>663.0</td>\n",
       "      <td>Post-IPO</td>\n",
       "      <td>Sweden</td>\n",
       "      <td>2</td>\n",
       "      <td>Friday</td>\n",
       "      <td>2023</td>\n",
       "    </tr>\n",
       "    <tr>\n",
       "      <th>24</th>\n",
       "      <td>Flink</td>\n",
       "      <td>Berlin</td>\n",
       "      <td>Food</td>\n",
       "      <td>8000</td>\n",
       "      <td>0.40</td>\n",
       "      <td>2023-04-24 00:00:00</td>\n",
       "      <td>1000.0</td>\n",
       "      <td>Series B</td>\n",
       "      <td>Germany</td>\n",
       "      <td>4</td>\n",
       "      <td>Monday</td>\n",
       "      <td>2023</td>\n",
       "    </tr>\n",
       "    <tr>\n",
       "      <th>640</th>\n",
       "      <td>Amazon</td>\n",
       "      <td>Seattle</td>\n",
       "      <td>Retail</td>\n",
       "      <td>8000</td>\n",
       "      <td>0.02</td>\n",
       "      <td>2023-04-01 00:00:00</td>\n",
       "      <td>108.0</td>\n",
       "      <td>Post-IPO</td>\n",
       "      <td>United States</td>\n",
       "      <td>4</td>\n",
       "      <td>Saturday</td>\n",
       "      <td>2023</td>\n",
       "    </tr>\n",
       "    <tr>\n",
       "      <th>641</th>\n",
       "      <td>Salesforce</td>\n",
       "      <td>SF Bay Area</td>\n",
       "      <td>Sales</td>\n",
       "      <td>8000</td>\n",
       "      <td>0.10</td>\n",
       "      <td>2023-04-01 00:00:00</td>\n",
       "      <td>65.0</td>\n",
       "      <td>Post-IPO</td>\n",
       "      <td>United States</td>\n",
       "      <td>4</td>\n",
       "      <td>Saturday</td>\n",
       "      <td>2023</td>\n",
       "    </tr>\n",
       "  </tbody>\n",
       "</table>\n",
       "</div>"
      ],
      "text/plain": [
       "        company     location  industry  laid_off_count  percentage  \\\n",
       "467      Google  SF Bay Area  Consumer           12000        0.06   \n",
       "940        Meta  SF Bay Area  Consumer           11000        0.13   \n",
       "148        Meta  SF Bay Area  Consumer           10000        0.00   \n",
       "500   Microsoft      Seattle     Other           10000        0.05   \n",
       "872      Amazon      Seattle    Retail           10000        0.03   \n",
       "132      Amazon      Seattle    Retail            9000        0.00   \n",
       "217    Ericsson    Stockholm     Other            8500        0.08   \n",
       "24        Flink       Berlin      Food            8000        0.40   \n",
       "640      Amazon      Seattle    Retail            8000        0.02   \n",
       "641  Salesforce  SF Bay Area     Sales            8000        0.10   \n",
       "\n",
       "                    date  funds_raised     stage        country  month  \\\n",
       "467  2023-01-20 00:00:00          26.0  Post-IPO  United States      1   \n",
       "940  2022-09-11 00:00:00       26000.0  Post-IPO  United States      9   \n",
       "148  2023-03-14 00:00:00       26000.0  Post-IPO  United States      3   \n",
       "500  2023-01-18 00:00:00           1.0  Post-IPO  United States      1   \n",
       "872  2022-11-16 00:00:00         108.0  Post-IPO  United States     11   \n",
       "132  2023-03-20 00:00:00         108.0  Post-IPO  United States      3   \n",
       "217  2023-02-24 00:00:00         663.0  Post-IPO         Sweden      2   \n",
       "24   2023-04-24 00:00:00        1000.0  Series B        Germany      4   \n",
       "640  2023-04-01 00:00:00         108.0  Post-IPO  United States      4   \n",
       "641  2023-04-01 00:00:00          65.0  Post-IPO  United States      4   \n",
       "\n",
       "           day  year  \n",
       "467     Friday  2023  \n",
       "940     Sunday  2022  \n",
       "148    Tuesday  2023  \n",
       "500  Wednesday  2023  \n",
       "872  Wednesday  2022  \n",
       "132     Monday  2023  \n",
       "217     Friday  2023  \n",
       "24      Monday  2023  \n",
       "640   Saturday  2023  \n",
       "641   Saturday  2023  "
      ]
     },
     "execution_count": 50,
     "metadata": {},
     "output_type": "execute_result"
    }
   ],
   "source": [
    "#10 largest layoff dates\n",
    "df.loc[ind]"
   ]
  },
  {
   "cell_type": "markdown",
   "id": "6c3f7821",
   "metadata": {
    "papermill": {
     "duration": 0.030515,
     "end_time": "2022-12-14T02:29:27.200815",
     "exception": false,
     "start_time": "2022-12-14T02:29:27.170300",
     "status": "completed"
    },
    "tags": []
   },
   "source": [
    "> **From the largest 10 layoffs happened, we can see they are all companies in the United States except the third place is in the Netherlands.**\n",
    "\n",
    "> **Also, we can see that almost all of the companies are in the IPO stage except the third place in the Acquired stage and the seventh place unknown stage.**\n",
    "\n",
    "> **Five of the ten companies are in SF Bay Area in the United States.**\n",
    "\n",
    "> **Four of the ten happend in November 2022.**\n",
    "\n",
    "> **Meta is the most layoff company with a layoff count of (11000) which represent (13%) of the company employees. Followed by Amazon with a layoff count of (10000) which represent (3%) of the company employees.**\n",
    "\n",
    "> **Twitter is the fifth most layoff company with a layoff count of (3700), but it represents (50%) of the company employees.**"
   ]
  },
  {
   "cell_type": "markdown",
   "id": "4d7de028",
   "metadata": {
    "papermill": {
     "duration": 0.030527,
     "end_time": "2022-12-14T02:29:27.262072",
     "exception": false,
     "start_time": "2022-12-14T02:29:27.231545",
     "status": "completed"
    },
    "tags": []
   },
   "source": [
    "**Some companies have more than layoffs happened, so now I will show the total layoff by companies.**"
   ]
  },
  {
   "cell_type": "code",
   "execution_count": 51,
   "id": "5f9419bb",
   "metadata": {
    "execution": {
     "iopub.execute_input": "2022-12-14T02:29:27.325754Z",
     "iopub.status.busy": "2022-12-14T02:29:27.325147Z",
     "iopub.status.idle": "2022-12-14T02:29:27.335003Z",
     "shell.execute_reply": "2022-12-14T02:29:27.333926Z"
    },
    "papermill": {
     "duration": 0.044341,
     "end_time": "2022-12-14T02:29:27.337359",
     "exception": false,
     "start_time": "2022-12-14T02:29:27.293018",
     "status": "completed"
    },
    "tags": []
   },
   "outputs": [
    {
     "data": {
      "text/plain": [
       "company\n",
       "Amazon        27150\n",
       "Meta          21000\n",
       "Google        12000\n",
       "Salesforce    10090\n",
       "Microsoft     10000\n",
       "Philips       10000\n",
       "Ericsson       8500\n",
       "Flink          8000\n",
       "Uber           7585\n",
       "Micron         7200\n",
       "Name: laid_off_count, dtype: int32"
      ]
     },
     "execution_count": 51,
     "metadata": {},
     "output_type": "execute_result"
    }
   ],
   "source": [
    "#layoff by company\n",
    "df.groupby('company')['laid_off_count'].sum().nlargest(10)"
   ]
  },
  {
   "cell_type": "code",
   "execution_count": 52,
   "id": "9a64bc23",
   "metadata": {
    "execution": {
     "iopub.execute_input": "2022-12-14T02:29:27.401834Z",
     "iopub.status.busy": "2022-12-14T02:29:27.401406Z",
     "iopub.status.idle": "2022-12-14T02:29:27.590696Z",
     "shell.execute_reply": "2022-12-14T02:29:27.589417Z"
    },
    "papermill": {
     "duration": 0.22463,
     "end_time": "2022-12-14T02:29:27.593228",
     "exception": false,
     "start_time": "2022-12-14T02:29:27.368598",
     "status": "completed"
    },
    "tags": []
   },
   "outputs": [
    {
     "data": {
      "image/png": "[encoded data removed]",
      "text/plain": [
       "<Figure size 432x288 with 1 Axes>"
      ]
     },
     "metadata": {
      "needs_background": "light"
     },
     "output_type": "display_data"
    }
   ],
   "source": [
    "#plotting it with bar chart\n",
    "df.groupby('company')['laid_off_count'].sum().nlargest(10).plot(kind='bar')\n",
    "plt.title('Layoff by Company')\n",
    "plt.xlabel('Company')\n",
    "plt.ylabel('Layoff Count');"
   ]
  },
  {
   "cell_type": "markdown",
   "id": "a371e887",
   "metadata": {
    "papermill": {
     "duration": 0.032415,
     "end_time": "2022-12-14T02:29:27.658804",
     "exception": false,
     "start_time": "2022-12-14T02:29:27.626389",
     "status": "completed"
    },
    "tags": []
   },
   "source": [
    "> **Meta still the most layoff company with (11000), followed by Amazon with (10000).**\n",
    "\n",
    "> **But now we can see that Uber is in third place with (7585), which has more than layoffs dates.**\n",
    "\n",
    "> **Followed by Booking-com with (4601), Cisco with (4100), etc.**"
   ]
  },
  {
   "cell_type": "code",
   "execution_count": 53,
   "id": "9fd7f177",
   "metadata": {
    "execution": {
     "iopub.execute_input": "2022-12-14T02:29:27.724501Z",
     "iopub.status.busy": "2022-12-14T02:29:27.724096Z",
     "iopub.status.idle": "2022-12-14T02:29:27.752331Z",
     "shell.execute_reply": "2022-12-14T02:29:27.751458Z"
    },
    "papermill": {
     "duration": 0.063517,
     "end_time": "2022-12-14T02:29:27.754469",
     "exception": false,
     "start_time": "2022-12-14T02:29:27.690952",
     "status": "completed"
    },
    "tags": []
   },
   "outputs": [
    {
     "data": {
      "text/html": [
       "<div>\n",
       "<style scoped>\n",
       "    .dataframe tbody tr th:only-of-type {\n",
       "        vertical-align: middle;\n",
       "    }\n",
       "\n",
       "    .dataframe tbody tr th {\n",
       "        vertical-align: top;\n",
       "    }\n",
       "\n",
       "    .dataframe thead th {\n",
       "        text-align: right;\n",
       "    }\n",
       "</style>\n",
       "<table border=\"1\" class=\"dataframe\">\n",
       "  <thead>\n",
       "    <tr style=\"text-align: right;\">\n",
       "      <th></th>\n",
       "      <th>company</th>\n",
       "      <th>location</th>\n",
       "      <th>industry</th>\n",
       "      <th>laid_off_count</th>\n",
       "      <th>percentage</th>\n",
       "      <th>date</th>\n",
       "      <th>funds_raised</th>\n",
       "      <th>stage</th>\n",
       "      <th>country</th>\n",
       "      <th>month</th>\n",
       "      <th>day</th>\n",
       "      <th>year</th>\n",
       "    </tr>\n",
       "  </thead>\n",
       "  <tbody>\n",
       "    <tr>\n",
       "      <th>6</th>\n",
       "      <td>Providoor</td>\n",
       "      <td>Melbourne</td>\n",
       "      <td>Food</td>\n",
       "      <td>0</td>\n",
       "      <td>1.0</td>\n",
       "      <td>2023-04-28 00:00:00</td>\n",
       "      <td>0.0</td>\n",
       "      <td>Unknown</td>\n",
       "      <td>Australia</td>\n",
       "      <td>4</td>\n",
       "      <td>Friday</td>\n",
       "      <td>2023</td>\n",
       "    </tr>\n",
       "    <tr>\n",
       "      <th>21</th>\n",
       "      <td>RenoRun</td>\n",
       "      <td>Montreal</td>\n",
       "      <td>Construction</td>\n",
       "      <td>0</td>\n",
       "      <td>1.0</td>\n",
       "      <td>2023-04-26 00:00:00</td>\n",
       "      <td>163.0</td>\n",
       "      <td>Series B</td>\n",
       "      <td>Canada</td>\n",
       "      <td>4</td>\n",
       "      <td>Wednesday</td>\n",
       "      <td>2023</td>\n",
       "    </tr>\n",
       "    <tr>\n",
       "      <th>40</th>\n",
       "      <td>CoLab</td>\n",
       "      <td>Sydney</td>\n",
       "      <td>Food</td>\n",
       "      <td>0</td>\n",
       "      <td>1.0</td>\n",
       "      <td>2023-04-18 00:00:00</td>\n",
       "      <td>3.0</td>\n",
       "      <td>Seed</td>\n",
       "      <td>Australia</td>\n",
       "      <td>4</td>\n",
       "      <td>Tuesday</td>\n",
       "      <td>2023</td>\n",
       "    </tr>\n",
       "    <tr>\n",
       "      <th>46</th>\n",
       "      <td>Quadream</td>\n",
       "      <td>Tel Aviv</td>\n",
       "      <td>Security</td>\n",
       "      <td>0</td>\n",
       "      <td>1.0</td>\n",
       "      <td>2023-04-16 00:00:00</td>\n",
       "      <td>0.0</td>\n",
       "      <td>Unknown</td>\n",
       "      <td>Israel</td>\n",
       "      <td>4</td>\n",
       "      <td>Sunday</td>\n",
       "      <td>2023</td>\n",
       "    </tr>\n",
       "    <tr>\n",
       "      <th>52</th>\n",
       "      <td>Bluepad</td>\n",
       "      <td>Bengaluru</td>\n",
       "      <td>Media</td>\n",
       "      <td>0</td>\n",
       "      <td>1.0</td>\n",
       "      <td>2023-04-13 00:00:00</td>\n",
       "      <td>0.0</td>\n",
       "      <td>Seed</td>\n",
       "      <td>India</td>\n",
       "      <td>4</td>\n",
       "      <td>Thursday</td>\n",
       "      <td>2023</td>\n",
       "    </tr>\n",
       "    <tr>\n",
       "      <th>...</th>\n",
       "      <td>...</td>\n",
       "      <td>...</td>\n",
       "      <td>...</td>\n",
       "      <td>...</td>\n",
       "      <td>...</td>\n",
       "      <td>...</td>\n",
       "      <td>...</td>\n",
       "      <td>...</td>\n",
       "      <td>...</td>\n",
       "      <td>...</td>\n",
       "      <td>...</td>\n",
       "      <td>...</td>\n",
       "    </tr>\n",
       "    <tr>\n",
       "      <th>2534</th>\n",
       "      <td>Service</td>\n",
       "      <td>Los Angeles</td>\n",
       "      <td>Travel</td>\n",
       "      <td>0</td>\n",
       "      <td>1.0</td>\n",
       "      <td>2020-03-20 00:00:00</td>\n",
       "      <td>5.0</td>\n",
       "      <td>Seed</td>\n",
       "      <td>United States</td>\n",
       "      <td>3</td>\n",
       "      <td>Friday</td>\n",
       "      <td>2020</td>\n",
       "    </tr>\n",
       "    <tr>\n",
       "      <th>2537</th>\n",
       "      <td>Ejento</td>\n",
       "      <td>SF Bay Area</td>\n",
       "      <td>Recruiting</td>\n",
       "      <td>84</td>\n",
       "      <td>1.0</td>\n",
       "      <td>2020-03-19 00:00:00</td>\n",
       "      <td>0.0</td>\n",
       "      <td>Unknown</td>\n",
       "      <td>United States</td>\n",
       "      <td>3</td>\n",
       "      <td>Thursday</td>\n",
       "      <td>2020</td>\n",
       "    </tr>\n",
       "    <tr>\n",
       "      <th>2541</th>\n",
       "      <td>Popin</td>\n",
       "      <td>New York City</td>\n",
       "      <td>Fitness</td>\n",
       "      <td>0</td>\n",
       "      <td>1.0</td>\n",
       "      <td>2020-03-19 00:00:00</td>\n",
       "      <td>13.0</td>\n",
       "      <td>Unknown</td>\n",
       "      <td>United States</td>\n",
       "      <td>3</td>\n",
       "      <td>Thursday</td>\n",
       "      <td>2020</td>\n",
       "    </tr>\n",
       "    <tr>\n",
       "      <th>2545</th>\n",
       "      <td>Help.com</td>\n",
       "      <td>Austin</td>\n",
       "      <td>Support</td>\n",
       "      <td>16</td>\n",
       "      <td>1.0</td>\n",
       "      <td>2020-03-16 00:00:00</td>\n",
       "      <td>6.0</td>\n",
       "      <td>Seed</td>\n",
       "      <td>United States</td>\n",
       "      <td>3</td>\n",
       "      <td>Monday</td>\n",
       "      <td>2020</td>\n",
       "    </tr>\n",
       "    <tr>\n",
       "      <th>2546</th>\n",
       "      <td>Service</td>\n",
       "      <td>Los Angeles</td>\n",
       "      <td>Travel</td>\n",
       "      <td>0</td>\n",
       "      <td>1.0</td>\n",
       "      <td>2020-03-16 00:00:00</td>\n",
       "      <td>5.1</td>\n",
       "      <td>Seed</td>\n",
       "      <td>United States</td>\n",
       "      <td>3</td>\n",
       "      <td>Monday</td>\n",
       "      <td>2020</td>\n",
       "    </tr>\n",
       "  </tbody>\n",
       "</table>\n",
       "<p>130 rows × 12 columns</p>\n",
       "</div>"
      ],
      "text/plain": [
       "        company       location      industry  laid_off_count  percentage  \\\n",
       "6     Providoor      Melbourne          Food               0         1.0   \n",
       "21      RenoRun       Montreal  Construction               0         1.0   \n",
       "40        CoLab         Sydney          Food               0         1.0   \n",
       "46     Quadream       Tel Aviv      Security               0         1.0   \n",
       "52      Bluepad      Bengaluru         Media               0         1.0   \n",
       "...         ...            ...           ...             ...         ...   \n",
       "2534    Service    Los Angeles        Travel               0         1.0   \n",
       "2537     Ejento    SF Bay Area    Recruiting              84         1.0   \n",
       "2541      Popin  New York City       Fitness               0         1.0   \n",
       "2545   Help.com         Austin       Support              16         1.0   \n",
       "2546    Service    Los Angeles        Travel               0         1.0   \n",
       "\n",
       "                     date  funds_raised     stage        country  month  \\\n",
       "6     2023-04-28 00:00:00           0.0   Unknown      Australia      4   \n",
       "21    2023-04-26 00:00:00         163.0  Series B         Canada      4   \n",
       "40    2023-04-18 00:00:00           3.0      Seed      Australia      4   \n",
       "46    2023-04-16 00:00:00           0.0   Unknown         Israel      4   \n",
       "52    2023-04-13 00:00:00           0.0      Seed          India      4   \n",
       "...                   ...           ...       ...            ...    ...   \n",
       "2534  2020-03-20 00:00:00           5.0      Seed  United States      3   \n",
       "2537  2020-03-19 00:00:00           0.0   Unknown  United States      3   \n",
       "2541  2020-03-19 00:00:00          13.0   Unknown  United States      3   \n",
       "2545  2020-03-16 00:00:00           6.0      Seed  United States      3   \n",
       "2546  2020-03-16 00:00:00           5.1      Seed  United States      3   \n",
       "\n",
       "            day  year  \n",
       "6        Friday  2023  \n",
       "21    Wednesday  2023  \n",
       "40      Tuesday  2023  \n",
       "46       Sunday  2023  \n",
       "52     Thursday  2023  \n",
       "...         ...   ...  \n",
       "2534     Friday  2020  \n",
       "2537   Thursday  2020  \n",
       "2541   Thursday  2020  \n",
       "2545     Monday  2020  \n",
       "2546     Monday  2020  \n",
       "\n",
       "[130 rows x 12 columns]"
      ]
     },
     "execution_count": 53,
     "metadata": {},
     "output_type": "execute_result"
    }
   ],
   "source": [
    "#filter the data frame to get the number of the companies that went bankrupt\n",
    "df_bankrupt = df.query('percentage == 1')\n",
    "df_bankrupt"
   ]
  },
  {
   "cell_type": "code",
   "execution_count": 54,
   "id": "dbe925c0",
   "metadata": {
    "execution": {
     "iopub.execute_input": "2022-12-14T02:29:27.820504Z",
     "iopub.status.busy": "2022-12-14T02:29:27.819290Z",
     "iopub.status.idle": "2022-12-14T02:29:27.827525Z",
     "shell.execute_reply": "2022-12-14T02:29:27.826573Z"
    },
    "papermill": {
     "duration": 0.043386,
     "end_time": "2022-12-14T02:29:27.829699",
     "exception": false,
     "start_time": "2022-12-14T02:29:27.786313",
     "status": "completed"
    },
    "tags": []
   },
   "outputs": [
    {
     "data": {
      "text/plain": [
       "array(['Providoor', 'RenoRun', 'CoLab', 'Quadream', 'Bluepad', 'Heygo',\n",
       "       'Lazerpay', 'Milkrun', 'Avocargo', 'Toucan', 'Catch', 'Kandela',\n",
       "       'DUX Education', 'Locomation', 'Fipola', 'Dropp', 'EMX Digital',\n",
       "       'WeTrade', 'Medly', 'Openpay', 'Mode Global', 'Earth Rides',\n",
       "       'Britishvolt', 'Arch Oncology', 'Lantern', 'Wyre', 'YourGrocer',\n",
       "       'Brodmann17', 'Digital Surge', 'Lora DiCarlo', 'Bitfront',\n",
       "       'BlockFi', 'Assure', 'GoodGood', 'Muni Tienda', 'GloriFi', 'Kite',\n",
       "       'Deliveroo Australia', 'Protocol', 'Nirvana Money', 'Wavely',\n",
       "       'Faze Medicines', 'Planetly', 'Fifth Season', 'GoNuts', 'Nuri',\n",
       "       'Flux Systems', 'Qin1', 'Playdots', 'Collage.com', 'Pastel',\n",
       "       'Pesto', 'Kitty Hawk', 'Propzy', 'CommonBond', 'Lido Learning',\n",
       "       'Simple Feast', 'The Wing', 'Reali', 'ShopX', 'Edmodo', 'Pollen',\n",
       "       'Haus', 'Perceptive Automata', 'Metigy', 'Yabonza', 'Soluto',\n",
       "       'Airlift', 'Butler Hospitality', 'WanderJaunt', 'Crejo.Fun',\n",
       "       'Gavelytics', 'Volt Bank', 'Kune', 'SuperLearn', 'SummerBio',\n",
       "       'JetClosing', 'The Grommet', 'Kaodim', 'Udayy', 'BeyondMinds',\n",
       "       'Subspace', 'SEND', 'Halcyon Health', 'Ahead', 'Fast', 'Ozy Media',\n",
       "       'Katerra', 'Madefire', 'Limelight', 'Hubba', 'Pocketmath',\n",
       "       'Aura Financial', 'Simple', 'Bridge Connector', 'Rubica', 'Quibi',\n",
       "       'HubHaus', 'Awok', 'Lumina Networks', 'Eatsy', 'Buy.com / Rakuten',\n",
       "       'Sorabel', 'Engine eCommerce', 'Dark', 'Stockwell AI', 'Bluprint',\n",
       "       'Stay Alfred', 'Dotscience', 'Masse', 'Deliv', 'WeFit', 'Jump',\n",
       "       'Airy Rooms', 'Automatic', 'PicoBrew', 'Stoqo', 'TutorMundi',\n",
       "       'Motif Investing', 'Purse', 'Atsu', 'The Modist', 'Amplero',\n",
       "       'HOOQ', 'Consider.co', 'Service', 'Ejento', 'Popin', 'Help.com'],\n",
       "      dtype=object)"
      ]
     },
     "execution_count": 54,
     "metadata": {},
     "output_type": "execute_result"
    }
   ],
   "source": [
    "#companies that went bankrupt\n",
    "df_bankrupt.company.unique()"
   ]
  },
  {
   "cell_type": "code",
   "execution_count": 55,
   "id": "06687191",
   "metadata": {
    "execution": {
     "iopub.execute_input": "2022-12-14T02:29:27.897091Z",
     "iopub.status.busy": "2022-12-14T02:29:27.896350Z",
     "iopub.status.idle": "2022-12-14T02:29:27.903510Z",
     "shell.execute_reply": "2022-12-14T02:29:27.902398Z"
    },
    "papermill": {
     "duration": 0.04366,
     "end_time": "2022-12-14T02:29:27.905818",
     "exception": false,
     "start_time": "2022-12-14T02:29:27.862158",
     "status": "completed"
    },
    "tags": []
   },
   "outputs": [
    {
     "data": {
      "text/plain": [
       "130"
      ]
     },
     "execution_count": 55,
     "metadata": {},
     "output_type": "execute_result"
    }
   ],
   "source": [
    "#number of bankrupt companies\n",
    "df_bankrupt.shape[0]"
   ]
  },
  {
   "cell_type": "code",
   "execution_count": 56,
   "id": "7cb89e3b",
   "metadata": {
    "execution": {
     "iopub.execute_input": "2022-12-14T02:29:27.972214Z",
     "iopub.status.busy": "2022-12-14T02:29:27.971807Z",
     "iopub.status.idle": "2022-12-14T02:29:27.979276Z",
     "shell.execute_reply": "2022-12-14T02:29:27.978340Z"
    },
    "papermill": {
     "duration": 0.043324,
     "end_time": "2022-12-14T02:29:27.981425",
     "exception": false,
     "start_time": "2022-12-14T02:29:27.938101",
     "status": "completed"
    },
    "tags": []
   },
   "outputs": [
    {
     "data": {
      "text/plain": [
       "2022    60\n",
       "2020    36\n",
       "2023    26\n",
       "2021     8\n",
       "Name: year, dtype: int64"
      ]
     },
     "execution_count": 56,
     "metadata": {},
     "output_type": "execute_result"
    }
   ],
   "source": [
    "#bankrupt companies by year\n",
    "df_bankrupt.year.value_counts()"
   ]
  },
  {
   "cell_type": "code",
   "execution_count": 57,
   "id": "17fc60be",
   "metadata": {
    "execution": {
     "iopub.execute_input": "2022-12-14T02:29:28.047381Z",
     "iopub.status.busy": "2022-12-14T02:29:28.046716Z",
     "iopub.status.idle": "2022-12-14T02:29:28.191446Z",
     "shell.execute_reply": "2022-12-14T02:29:28.190293Z"
    },
    "papermill": {
     "duration": 0.180941,
     "end_time": "2022-12-14T02:29:28.194233",
     "exception": false,
     "start_time": "2022-12-14T02:29:28.013292",
     "status": "completed"
    },
    "tags": []
   },
   "outputs": [
    {
     "data": {
      "image/png": "[encoded data removed]",
      "text/plain": [
       "<Figure size 432x288 with 1 Axes>"
      ]
     },
     "metadata": {
      "needs_background": "light"
     },
     "output_type": "display_data"
    }
   ],
   "source": [
    "#plotting it with bar chart\n",
    "df_bankrupt.year.value_counts().plot(kind='bar')\n",
    "plt.title('Bankrupt Companies by Year')\n",
    "plt.xlabel('Year')\n",
    "plt.ylabel('Bankrupt Count');"
   ]
  },
  {
   "cell_type": "code",
   "execution_count": 58,
   "id": "ded35dd8",
   "metadata": {
    "execution": {
     "iopub.execute_input": "2022-12-14T02:29:28.262278Z",
     "iopub.status.busy": "2022-12-14T02:29:28.261826Z",
     "iopub.status.idle": "2022-12-14T02:29:28.271350Z",
     "shell.execute_reply": "2022-12-14T02:29:28.270364Z"
    },
    "papermill": {
     "duration": 0.046269,
     "end_time": "2022-12-14T02:29:28.273576",
     "exception": false,
     "start_time": "2022-12-14T02:29:28.227307",
     "status": "completed"
    },
    "tags": []
   },
   "outputs": [
    {
     "data": {
      "text/plain": [
       "United States           76\n",
       "Australia               11\n",
       "India                   10\n",
       "United Kingdom           6\n",
       "Israel                   4\n",
       "Germany                  4\n",
       "Indonesia                3\n",
       "Canada                   3\n",
       "Singapore                3\n",
       "Vietnam                  2\n",
       "United Arab Emirates     2\n",
       "Kenya                    1\n",
       "Colombia                 1\n",
       "Pakistan                 1\n",
       "Denmark                  1\n",
       "Nigeria                  1\n",
       "Brazil                   1\n",
       "Name: country, dtype: int64"
      ]
     },
     "execution_count": 58,
     "metadata": {},
     "output_type": "execute_result"
    }
   ],
   "source": [
    "#bankrupt companies by country\n",
    "df_bankrupt.country.value_counts()"
   ]
  },
  {
   "cell_type": "code",
   "execution_count": 59,
   "id": "b6fc3ec3",
   "metadata": {
    "execution": {
     "iopub.execute_input": "2022-12-14T02:29:28.341034Z",
     "iopub.status.busy": "2022-12-14T02:29:28.340600Z",
     "iopub.status.idle": "2022-12-14T02:29:28.576502Z",
     "shell.execute_reply": "2022-12-14T02:29:28.575619Z"
    },
    "papermill": {
     "duration": 0.272638,
     "end_time": "2022-12-14T02:29:28.578759",
     "exception": false,
     "start_time": "2022-12-14T02:29:28.306121",
     "status": "completed"
    },
    "tags": []
   },
   "outputs": [
    {
     "data": {
      "image/png": "[encoded data removed]",
      "text/plain": [
       "<Figure size 432x288 with 1 Axes>"
      ]
     },
     "metadata": {
      "needs_background": "light"
     },
     "output_type": "display_data"
    }
   ],
   "source": [
    "#plotting it with bar chart\n",
    "df_bankrupt.country.value_counts().plot(kind='bar')\n",
    "plt.title('Bankrupt Companies by Country')\n",
    "plt.xlabel('Country')\n",
    "plt.ylabel('Bankrupt Count');"
   ]
  },
  {
   "cell_type": "code",
   "execution_count": 60,
   "id": "9454f547",
   "metadata": {
    "execution": {
     "iopub.execute_input": "2022-12-14T02:29:28.647073Z",
     "iopub.status.busy": "2022-12-14T02:29:28.646423Z",
     "iopub.status.idle": "2022-12-14T02:29:28.655201Z",
     "shell.execute_reply": "2022-12-14T02:29:28.653887Z"
    },
    "papermill": {
     "duration": 0.045871,
     "end_time": "2022-12-14T02:29:28.657628",
     "exception": false,
     "start_time": "2022-12-14T02:29:28.611757",
     "status": "completed"
    },
    "tags": []
   },
   "outputs": [
    {
     "data": {
      "text/plain": [
       "0       84\n",
       "100      4\n",
       "16       2\n",
       "60       2\n",
       "120      2\n",
       "250      2\n",
       "65       2\n",
       "13       2\n",
       "6        2\n",
       "137      1\n",
       "21       1\n",
       "154      1\n",
       "20       1\n",
       "87       1\n",
       "500      1\n",
       "221      1\n",
       "10       1\n",
       "669      1\n",
       "4        1\n",
       "17       1\n",
       "45       1\n",
       "300      1\n",
       "2434     1\n",
       "44       1\n",
       "400      1\n",
       "40       1\n",
       "101      1\n",
       "170      1\n",
       "85       1\n",
       "1000     1\n",
       "75       1\n",
       "140      1\n",
       "150      1\n",
       "200      1\n",
       "206      1\n",
       "83       1\n",
       "84       1\n",
       "Name: laid_off_count, dtype: int64"
      ]
     },
     "execution_count": 60,
     "metadata": {},
     "output_type": "execute_result"
    }
   ],
   "source": [
    "df_bankrupt.laid_off_count.value_counts()"
   ]
  },
  {
   "cell_type": "code",
   "execution_count": 61,
   "id": "757d9a15",
   "metadata": {
    "execution": {
     "iopub.execute_input": "2022-12-14T02:29:28.728123Z",
     "iopub.status.busy": "2022-12-14T02:29:28.727658Z",
     "iopub.status.idle": "2022-12-14T02:29:28.736507Z",
     "shell.execute_reply": "2022-12-14T02:29:28.735336Z"
    },
    "papermill": {
     "duration": 0.04712,
     "end_time": "2022-12-14T02:29:28.739072",
     "exception": false,
     "start_time": "2022-12-14T02:29:28.691952",
     "status": "completed"
    },
    "tags": []
   },
   "outputs": [
    {
     "data": {
      "text/plain": [
       "Unknown           38\n",
       "Seed              26\n",
       "Series B          20\n",
       "Series A          18\n",
       "Acquired          13\n",
       "Series C           7\n",
       "Post-IPO           3\n",
       "Series E           3\n",
       "Series D           1\n",
       "Private Equity     1\n",
       "Name: stage, dtype: int64"
      ]
     },
     "execution_count": 61,
     "metadata": {},
     "output_type": "execute_result"
    }
   ],
   "source": [
    "#bankrupt companies by stage\n",
    "df_bankrupt.stage.value_counts()"
   ]
  },
  {
   "cell_type": "code",
   "execution_count": 62,
   "id": "41096b51",
   "metadata": {
    "execution": {
     "iopub.execute_input": "2022-12-14T02:29:28.807948Z",
     "iopub.status.busy": "2022-12-14T02:29:28.807508Z",
     "iopub.status.idle": "2022-12-14T02:29:29.030880Z",
     "shell.execute_reply": "2022-12-14T02:29:29.029710Z"
    },
    "papermill": {
     "duration": 0.261252,
     "end_time": "2022-12-14T02:29:29.033503",
     "exception": false,
     "start_time": "2022-12-14T02:29:28.772251",
     "status": "completed"
    },
    "tags": []
   },
   "outputs": [
    {
     "data": {
      "image/png": "[encoded data removed]",
      "text/plain": [
       "<Figure size 432x288 with 1 Axes>"
      ]
     },
     "metadata": {
      "needs_background": "light"
     },
     "output_type": "display_data"
    }
   ],
   "source": [
    "#plotting it with bar chart\n",
    "df_bankrupt.stage.value_counts().plot(kind='bar')\n",
    "plt.title('Bankrupt Companies by Stage')\n",
    "plt.xlabel('Stage')\n",
    "plt.ylabel('Bankrupt Count');"
   ]
  },
  {
   "cell_type": "code",
   "execution_count": 63,
   "id": "7eac0bcb",
   "metadata": {
    "execution": {
     "iopub.execute_input": "2022-12-14T02:29:29.105072Z",
     "iopub.status.busy": "2022-12-14T02:29:29.104642Z",
     "iopub.status.idle": "2022-12-14T02:29:29.113375Z",
     "shell.execute_reply": "2022-12-14T02:29:29.112434Z"
    },
    "papermill": {
     "duration": 0.046294,
     "end_time": "2022-12-14T02:29:29.115580",
     "exception": false,
     "start_time": "2022-12-14T02:29:29.069286",
     "status": "completed"
    },
    "tags": []
   },
   "outputs": [
    {
     "data": {
      "text/plain": [
       "Food              16\n",
       "Retail            15\n",
       "Finance           13\n",
       "Education         10\n",
       "Crypto             8\n",
       "Transportation     7\n",
       "Healthcare         7\n",
       "Travel             6\n",
       "Real Estate        6\n",
       "Media              6\n",
       "Consumer           5\n",
       "Marketing          5\n",
       "Other              5\n",
       "Infrastructure     3\n",
       "Product            3\n",
       "Recruiting         2\n",
       "Support            2\n",
       "Fitness            2\n",
       "Construction       2\n",
       "Security           2\n",
       "HR                 1\n",
       "Logistics          1\n",
       "Legal              1\n",
       "Data               1\n",
       "Aerospace          1\n",
       "Name: industry, dtype: int64"
      ]
     },
     "execution_count": 63,
     "metadata": {},
     "output_type": "execute_result"
    }
   ],
   "source": [
    "#bankrupt companies by industry\n",
    "df_bankrupt.industry.value_counts()"
   ]
  },
  {
   "cell_type": "code",
   "execution_count": 64,
   "id": "356c0d32",
   "metadata": {
    "execution": {
     "iopub.execute_input": "2022-12-14T02:29:29.187487Z",
     "iopub.status.busy": "2022-12-14T02:29:29.186311Z",
     "iopub.status.idle": "2022-12-14T02:29:29.590852Z",
     "shell.execute_reply": "2022-12-14T02:29:29.589320Z"
    },
    "papermill": {
     "duration": 0.44294,
     "end_time": "2022-12-14T02:29:29.593329",
     "exception": false,
     "start_time": "2022-12-14T02:29:29.150389",
     "status": "completed"
    },
    "tags": []
   },
   "outputs": [
    {
     "data": {
      "image/png": "[encoded data removed]",
      "text/plain": [
       "<Figure size 1440x576 with 1 Axes>"
      ]
     },
     "metadata": {
      "needs_background": "light"
     },
     "output_type": "display_data"
    }
   ],
   "source": [
    "#plotting it with bar chart\n",
    "df_bankrupt.industry.value_counts().plot(kind='bar',figsize=(20,8),fontsize=15)\n",
    "plt.title('Bankrupt Companies by Industry',size=20)\n",
    "plt.xlabel('Industry',size=15)\n",
    "plt.ylabel('Bankrupt Count',size=15);"
   ]
  },
  {
   "cell_type": "markdown",
   "id": "ac9c2f9c",
   "metadata": {
    "papermill": {
     "duration": 0.034772,
     "end_time": "2022-12-14T02:29:29.663268",
     "exception": false,
     "start_time": "2022-12-14T02:29:29.628496",
     "status": "completed"
    },
    "tags": []
   },
   "source": [
    "**Bankrupt Companies Insights**\n",
    "> **We have 100 companies that had been bankrupt over 3 years. In 2020 (36) companies, in 2021 (8) companies, and in 2022 (56) companies.**\n",
    "\n",
    "> **We can not see how many employees had been laid off because (60) of (100) companies, the data about laid off counts were null values filled with zero.**\n",
    "\n",
    "> **In the United States, over 3 years, (65) companies had been bankrupt, followed by India (7) companies.**\n",
    "\n",
    "> **Most of these companies' stages are unknown. The seed stage is the most known bankrupt stage with (21) companies, followed by Series B (19).**\n",
    "\n",
    "> **The most bankrupt companies are in the Retail industry (12), followed by the Food industry (11), and the Finance industry (10).**"
   ]
  },
  {
   "cell_type": "code",
   "execution_count": 65,
   "id": "dda95518",
   "metadata": {
    "execution": {
     "iopub.execute_input": "2022-12-14T02:29:29.739398Z",
     "iopub.status.busy": "2022-12-14T02:29:29.738624Z",
     "iopub.status.idle": "2022-12-14T02:29:29.746054Z",
     "shell.execute_reply": "2022-12-14T02:29:29.745206Z"
    },
    "papermill": {
     "duration": 0.049067,
     "end_time": "2022-12-14T02:29:29.748347",
     "exception": false,
     "start_time": "2022-12-14T02:29:29.699280",
     "status": "completed"
    },
    "tags": []
   },
   "outputs": [],
   "source": [
    "#create a data frame with only United States companies\n",
    "df_US = df.query('country == \"United States\"')"
   ]
  },
  {
   "cell_type": "code",
   "execution_count": 66,
   "id": "5df271c6",
   "metadata": {
    "execution": {
     "iopub.execute_input": "2022-12-14T02:29:29.822703Z",
     "iopub.status.busy": "2022-12-14T02:29:29.822005Z",
     "iopub.status.idle": "2022-12-14T02:29:29.829375Z",
     "shell.execute_reply": "2022-12-14T02:29:29.828247Z"
    },
    "papermill": {
     "duration": 0.047234,
     "end_time": "2022-12-14T02:29:29.831615",
     "exception": false,
     "start_time": "2022-12-14T02:29:29.784381",
     "status": "completed"
    },
    "tags": []
   },
   "outputs": [
    {
     "data": {
      "text/plain": [
       "97"
      ]
     },
     "execution_count": 66,
     "metadata": {},
     "output_type": "execute_result"
    }
   ],
   "source": [
    "#number of locations\n",
    "df_US.location.nunique()"
   ]
  },
  {
   "cell_type": "code",
   "execution_count": 67,
   "id": "9f516f22",
   "metadata": {
    "execution": {
     "iopub.execute_input": "2022-12-14T02:29:29.906018Z",
     "iopub.status.busy": "2022-12-14T02:29:29.904864Z",
     "iopub.status.idle": "2022-12-14T02:29:29.914858Z",
     "shell.execute_reply": "2022-12-14T02:29:29.913961Z"
    },
    "papermill": {
     "duration": 0.050047,
     "end_time": "2022-12-14T02:29:29.917221",
     "exception": false,
     "start_time": "2022-12-14T02:29:29.867174",
     "status": "completed"
    },
    "tags": []
   },
   "outputs": [
    {
     "data": {
      "text/plain": [
       "location\n",
       "SF Bay Area        145021\n",
       "Seattle             44741\n",
       "New York City       30010\n",
       "Boston              11458\n",
       "Austin              11199\n",
       "Boise                7200\n",
       "Los Angeles          6985\n",
       "Chicago              6500\n",
       "Phoenix              5067\n",
       "Philadelphia         3089\n",
       "Miami                2690\n",
       "San Diego            2647\n",
       "Washington D.C.      2372\n",
       "Columbus             2195\n",
       "Atlanta              1877\n",
       "Portland             1609\n",
       "Salt Lake City       1578\n",
       "Detroit              1180\n",
       "San Luis Obispo      1100\n",
       "Cleveland            1000\n",
       "Name: laid_off_count, dtype: int32"
      ]
     },
     "execution_count": 67,
     "metadata": {},
     "output_type": "execute_result"
    }
   ],
   "source": [
    "#largest 20 location \n",
    "df_US.groupby('location')['laid_off_count'].sum().nlargest(20)"
   ]
  },
  {
   "cell_type": "code",
   "execution_count": 68,
   "id": "ca2fb47f",
   "metadata": {
    "execution": {
     "iopub.execute_input": "2022-12-14T02:29:29.990394Z",
     "iopub.status.busy": "2022-12-14T02:29:29.989616Z",
     "iopub.status.idle": "2022-12-14T02:29:30.381294Z",
     "shell.execute_reply": "2022-12-14T02:29:30.380317Z"
    },
    "papermill": {
     "duration": 0.431068,
     "end_time": "2022-12-14T02:29:30.383695",
     "exception": false,
     "start_time": "2022-12-14T02:29:29.952627",
     "status": "completed"
    },
    "tags": []
   },
   "outputs": [
    {
     "data": {
      "image/png": "[encoded data removed]",
      "text/plain": [
       "<Figure size 1440x576 with 1 Axes>"
      ]
     },
     "metadata": {
      "needs_background": "light"
     },
     "output_type": "display_data"
    }
   ],
   "source": [
    "#plotting it with bar chart\n",
    "df_US.groupby('location')['laid_off_count'].sum().nlargest(20).plot(kind='bar',figsize=(20,8),fontsize=15)\n",
    "plt.title(\"United States's Locations Layoffs\",size=20)\n",
    "plt.xlabel(\"United States's Locations\",size=15)\n",
    "plt.ylabel(\"Layoff Count\",size=15);"
   ]
  },
  {
   "cell_type": "markdown",
   "id": "9f824365",
   "metadata": {
    "papermill": {
     "duration": 0.035951,
     "end_time": "2022-12-14T02:29:30.456299",
     "exception": false,
     "start_time": "2022-12-14T02:29:30.420348",
     "status": "completed"
    },
    "tags": []
   },
   "source": [
    "> **We know that the largest layoffs were in the United States, so I want to separate it and show the top 10 location that has the largest layoffs.**\n",
    "\n",
    "> **SF Bay Area by far has the largest layoffs with (80267), followed by New York City with (22043) layoffs, and Seattle with (16051) layoffs.**"
   ]
  }
 ],
 "metadata": {
  "kernelspec": {
   "display_name": "Python 3 (ipykernel)",
   "language": "python",
   "name": "python3"
  },
  "language_info": {
   "codemirror_mode": {
    "name": "ipython",
    "version": 3
   },
   "file_extension": ".py",
   "mimetype": "text/x-python",
   "name": "python",
   "nbconvert_exporter": "python",
   "pygments_lexer": "ipython3",
   "version": "3.9.12"
  },
  "papermill": {
   "default_parameters": {},
   "duration": 22.089737,
   "end_time": "2022-12-14T02:29:31.214749",
   "environment_variables": {},
   "exception": null,
   "input_path": "__notebook__.ipynb",
   "output_path": "__notebook__.ipynb",
   "parameters": {},
   "start_time": "2022-12-14T02:29:09.125012",
   "version": "2.3.4"
  }
 },
 "nbformat": 4,
 "nbformat_minor": 5
}
